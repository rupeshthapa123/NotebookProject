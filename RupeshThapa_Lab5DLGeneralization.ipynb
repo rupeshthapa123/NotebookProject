{
  "nbformat": 4,
  "nbformat_minor": 0,
  "metadata": {
    "colab": {
      "provenance": [],
      "authorship_tag": "ABX9TyOuDAyL28OKH3CRc2GF4mJQ",
      "include_colab_link": true
    },
    "kernelspec": {
      "name": "python3",
      "display_name": "Python 3"
    },
    "language_info": {
      "name": "python"
    }
  },
  "cells": [
    {
      "cell_type": "markdown",
      "metadata": {
        "id": "view-in-github",
        "colab_type": "text"
      },
      "source": [
        "<a href=\"https://colab.research.google.com/github/rupeshthapa123/NotebookProject/blob/main/RupeshThapa_Lab5DLGeneralization.ipynb\" target=\"_parent\"><img src=\"https://colab.research.google.com/assets/colab-badge.svg\" alt=\"Open In Colab\"/></a>"
      ]
    },
    {
      "cell_type": "markdown",
      "source": [
        "# Deep Learning Generalization\n",
        "\n",
        "Deep Learning models can be trained to fit anything, if they have\n",
        "enough representational power.\n",
        "Generalization refers to how well a trained model performs on data it has\n",
        "never seen before."
      ],
      "metadata": {
        "id": "FqORLH5C4XCR"
      }
    },
    {
      "cell_type": "markdown",
      "source": [
        "### Importing all the necessary libraries and datasets for the model"
      ],
      "metadata": {
        "id": "L1cZ3I1QE3l8"
      }
    },
    {
      "cell_type": "code",
      "source": [
        "import keras\n",
        "from keras import layers  # Import the layers module from the keras package"
      ],
      "metadata": {
        "id": "1KySEko25fwO"
      },
      "execution_count": null,
      "outputs": []
    },
    {
      "cell_type": "code",
      "execution_count": null,
      "metadata": {
        "colab": {
          "base_uri": "https://localhost:8080/"
        },
        "id": "GCgy2gZA0frz",
        "outputId": "dc0ea707-d9ff-491d-bf57-583d3fd4bfe3"
      },
      "outputs": [
        {
          "output_type": "stream",
          "name": "stdout",
          "text": [
            "Downloading data from https://storage.googleapis.com/tensorflow/tf-keras-datasets/mnist.npz\n",
            "11490434/11490434 [==============================] - 0s 0us/step\n"
          ]
        }
      ],
      "source": [
        "# Import the mnist dataset from keras\n",
        "from keras.datasets import mnist\n",
        "# Load the mnist dataset\n",
        "(train_images, train_labels), _ = mnist.load_data()\n",
        "# Reshape the train_images to 60000, 28*28\n",
        "train_images = train_images.reshape((60000, 28 * 28))"
      ]
    },
    {
      "cell_type": "code",
      "source": [
        "# Convert the pixel values of the training images to floats and divide by 255 to normalize them\n",
        "train_images = train_images.astype('float32') / 255"
      ],
      "metadata": {
        "id": "uKz6Z40M5DHC"
      },
      "execution_count": null,
      "outputs": []
    },
    {
      "cell_type": "markdown",
      "source": [
        "## Training a three multiclass classfication models using the mnist dataset by changing the learning rate values"
      ],
      "metadata": {
        "id": "OqeXiblhFDjk"
      }
    },
    {
      "cell_type": "markdown",
      "source": [
        "For this model1 we are using a sequential architecture with 1 hidden layer of dense unit 512 and a output layer with 10 unit. We are using a appropriate activation function relu and softmax along with the learning rate of 1.0 and sparse categorical crossentropy loss function. For training we are using 20 epochs, 128 batch size and 20% validation split."
      ],
      "metadata": {
        "id": "uFxKHzR7FSfU"
      }
    },
    {
      "cell_type": "code",
      "source": [
        "# Create a Sequential model with two Dense layers\n",
        "model1 = keras.Sequential([\n",
        "    # First layer: 512 neurons, with ReLU activation function\n",
        "    layers.Dense(512, activation='relu'),\n",
        "    # Second layer: 10 neurons, with softmax activation function\n",
        "    layers.Dense(10, activation=\"softmax\")\n",
        "])\n",
        "# Compile the model with RMSprop optimizer, sparse categorical crossentropy loss function, and accuracy metric\n",
        "model1.compile(optimizer=keras.optimizers.RMSprop(1.),\n",
        "              loss=\"sparse_categorical_crossentropy\",\n",
        "              metrics=[\"accuracy\"])\n",
        "# Train the model on the training data\n",
        "history1 = model1.fit(train_images, train_labels,\n",
        "          # Train for 20 epochs\n",
        "          epochs=20,\n",
        "          # Use a batch size of 128\n",
        "          batch_size=128,\n",
        "          # Split the training data into 20% validation data\n",
        "          validation_split=0.2)"
      ],
      "metadata": {
        "colab": {
          "base_uri": "https://localhost:8080/"
        },
        "id": "f70wJs1i5rne",
        "outputId": "41f61733-9d19-4969-c390-060f3cd9d424"
      },
      "execution_count": null,
      "outputs": [
        {
          "output_type": "stream",
          "name": "stdout",
          "text": [
            "Epoch 1/20\n",
            "375/375 [==============================] - 5s 11ms/step - loss: 632.7689 - accuracy: 0.3340 - val_loss: 2.3771 - val_accuracy: 0.2013\n",
            "Epoch 2/20\n",
            "375/375 [==============================] - 5s 14ms/step - loss: 2.8707 - accuracy: 0.2047 - val_loss: 2.3188 - val_accuracy: 0.1442\n",
            "Epoch 3/20\n",
            "375/375 [==============================] - 4s 10ms/step - loss: 2.5699 - accuracy: 0.1754 - val_loss: 2.3042 - val_accuracy: 0.1412\n",
            "Epoch 4/20\n",
            "375/375 [==============================] - 4s 10ms/step - loss: 2.9841 - accuracy: 0.1490 - val_loss: 2.2191 - val_accuracy: 0.1887\n",
            "Epoch 5/20\n",
            "375/375 [==============================] - 4s 12ms/step - loss: 2.5007 - accuracy: 0.1537 - val_loss: 2.3864 - val_accuracy: 0.1566\n",
            "Epoch 6/20\n",
            "375/375 [==============================] - 4s 11ms/step - loss: 2.4060 - accuracy: 0.1529 - val_loss: 2.4295 - val_accuracy: 0.1498\n",
            "Epoch 7/20\n",
            "375/375 [==============================] - 4s 10ms/step - loss: 2.5469 - accuracy: 0.1558 - val_loss: 2.6685 - val_accuracy: 0.1663\n",
            "Epoch 8/20\n",
            "375/375 [==============================] - 4s 10ms/step - loss: 2.4495 - accuracy: 0.1470 - val_loss: 2.4043 - val_accuracy: 0.1567\n",
            "Epoch 9/20\n",
            "375/375 [==============================] - 5s 14ms/step - loss: 2.4244 - accuracy: 0.1529 - val_loss: 2.2122 - val_accuracy: 0.1613\n",
            "Epoch 10/20\n",
            "375/375 [==============================] - 4s 10ms/step - loss: 2.4364 - accuracy: 0.1527 - val_loss: 2.2974 - val_accuracy: 0.1652\n",
            "Epoch 11/20\n",
            "375/375 [==============================] - 4s 10ms/step - loss: 2.3862 - accuracy: 0.1590 - val_loss: 2.3375 - val_accuracy: 0.1714\n",
            "Epoch 12/20\n",
            "375/375 [==============================] - 5s 14ms/step - loss: 2.4162 - accuracy: 0.1623 - val_loss: 2.3860 - val_accuracy: 0.1475\n",
            "Epoch 13/20\n",
            "375/375 [==============================] - 4s 10ms/step - loss: 2.3079 - accuracy: 0.1708 - val_loss: 2.3704 - val_accuracy: 0.1497\n",
            "Epoch 14/20\n",
            "375/375 [==============================] - 4s 11ms/step - loss: 2.2962 - accuracy: 0.1675 - val_loss: 2.2234 - val_accuracy: 0.1835\n",
            "Epoch 15/20\n",
            "375/375 [==============================] - 5s 14ms/step - loss: 2.2815 - accuracy: 0.1749 - val_loss: 2.2933 - val_accuracy: 0.1872\n",
            "Epoch 16/20\n",
            "375/375 [==============================] - 4s 10ms/step - loss: 2.2659 - accuracy: 0.1781 - val_loss: 2.2388 - val_accuracy: 0.1821\n",
            "Epoch 17/20\n",
            "375/375 [==============================] - 4s 10ms/step - loss: 2.3045 - accuracy: 0.1800 - val_loss: 2.2496 - val_accuracy: 0.1781\n",
            "Epoch 18/20\n",
            "375/375 [==============================] - 5s 13ms/step - loss: 2.3027 - accuracy: 0.1832 - val_loss: 2.2173 - val_accuracy: 0.1937\n",
            "Epoch 19/20\n",
            "375/375 [==============================] - 4s 12ms/step - loss: 2.2793 - accuracy: 0.1839 - val_loss: 2.2821 - val_accuracy: 0.1744\n",
            "Epoch 20/20\n",
            "375/375 [==============================] - 4s 10ms/step - loss: 2.3180 - accuracy: 0.1718 - val_loss: 2.3667 - val_accuracy: 0.1832\n"
          ]
        }
      ]
    },
    {
      "cell_type": "markdown",
      "source": [
        "For model2 we are using the same activation functions, epochs value, batch size and hidden layer but we are only changing the learning rate from 1.0 to 0.1."
      ],
      "metadata": {
        "id": "DMS8VkoiGXAH"
      }
    },
    {
      "cell_type": "code",
      "source": [
        "# Create a Sequential model\n",
        "model2 = keras.Sequential([\n",
        "    # Add a Dense layer with 512 neurons and ReLU activation\n",
        "    layers.Dense(512, activation='relu'),\n",
        "    # Add a Dense layer with 10 neurons and Softmax activation\n",
        "    layers.Dense(10, activation=\"softmax\")\n",
        "])\n",
        "# Compile the model with RMSprop optimizer, sparse_categorical_crossentropy loss, and accuracy metric\n",
        "model2.compile(optimizer=keras.optimizers.RMSprop(learning_rate=0.1),\n",
        "              loss=\"sparse_categorical_crossentropy\",\n",
        "              metrics=[\"accuracy\"])\n",
        "\n",
        "# Train the model on the training data\n",
        "history2 = model2.fit(train_images, train_labels,\n",
        "          # Train for 20 epochs\n",
        "          epochs=20,\n",
        "          # Use a batch size of 128\n",
        "          batch_size=128,\n",
        "          # Use 20% of the data for validation\n",
        "          validation_split=0.2)"
      ],
      "metadata": {
        "colab": {
          "base_uri": "https://localhost:8080/"
        },
        "id": "jGjuHjUu7zWO",
        "outputId": "19f7605e-7bfb-45eb-f5c6-1ad69241471a"
      },
      "execution_count": null,
      "outputs": [
        {
          "output_type": "stream",
          "name": "stdout",
          "text": [
            "Epoch 1/20\n",
            "375/375 [==============================] - 5s 11ms/step - loss: 5.9772 - accuracy: 0.8146 - val_loss: 0.5815 - val_accuracy: 0.8890\n",
            "Epoch 2/20\n",
            "375/375 [==============================] - 5s 13ms/step - loss: 0.6584 - accuracy: 0.8787 - val_loss: 0.9503 - val_accuracy: 0.8752\n",
            "Epoch 3/20\n",
            "375/375 [==============================] - 4s 10ms/step - loss: 0.5978 - accuracy: 0.8910 - val_loss: 1.1897 - val_accuracy: 0.8378\n",
            "Epoch 4/20\n",
            "375/375 [==============================] - 4s 10ms/step - loss: 0.5661 - accuracy: 0.8960 - val_loss: 0.5491 - val_accuracy: 0.9000\n",
            "Epoch 5/20\n",
            "375/375 [==============================] - 5s 13ms/step - loss: 0.5482 - accuracy: 0.9028 - val_loss: 0.6493 - val_accuracy: 0.8953\n",
            "Epoch 6/20\n",
            "375/375 [==============================] - 4s 10ms/step - loss: 0.5198 - accuracy: 0.9062 - val_loss: 0.6786 - val_accuracy: 0.8915\n",
            "Epoch 7/20\n",
            "375/375 [==============================] - 4s 10ms/step - loss: 0.4887 - accuracy: 0.9071 - val_loss: 0.5679 - val_accuracy: 0.8960\n",
            "Epoch 8/20\n",
            "375/375 [==============================] - 5s 12ms/step - loss: 0.4674 - accuracy: 0.9133 - val_loss: 0.5191 - val_accuracy: 0.9246\n",
            "Epoch 9/20\n",
            "375/375 [==============================] - 4s 11ms/step - loss: 0.4597 - accuracy: 0.9157 - val_loss: 0.6998 - val_accuracy: 0.8760\n",
            "Epoch 10/20\n",
            "375/375 [==============================] - 4s 10ms/step - loss: 0.4603 - accuracy: 0.9167 - val_loss: 0.6090 - val_accuracy: 0.9223\n",
            "Epoch 11/20\n",
            "375/375 [==============================] - 4s 10ms/step - loss: 0.4371 - accuracy: 0.9225 - val_loss: 0.6299 - val_accuracy: 0.9217\n",
            "Epoch 12/20\n",
            "375/375 [==============================] - 5s 13ms/step - loss: 0.4014 - accuracy: 0.9262 - val_loss: 0.7048 - val_accuracy: 0.9348\n",
            "Epoch 13/20\n",
            "375/375 [==============================] - 4s 10ms/step - loss: 0.4196 - accuracy: 0.9261 - val_loss: 0.6310 - val_accuracy: 0.9180\n",
            "Epoch 14/20\n",
            "375/375 [==============================] - 4s 11ms/step - loss: 0.4050 - accuracy: 0.9260 - val_loss: 0.6857 - val_accuracy: 0.9202\n",
            "Epoch 15/20\n",
            "375/375 [==============================] - 5s 13ms/step - loss: 0.4155 - accuracy: 0.9245 - val_loss: 0.9861 - val_accuracy: 0.9173\n",
            "Epoch 16/20\n",
            "375/375 [==============================] - 4s 10ms/step - loss: 0.3959 - accuracy: 0.9295 - val_loss: 0.8235 - val_accuracy: 0.9215\n",
            "Epoch 17/20\n",
            "375/375 [==============================] - 4s 10ms/step - loss: 0.3659 - accuracy: 0.9323 - val_loss: 0.7183 - val_accuracy: 0.9220\n",
            "Epoch 18/20\n",
            "375/375 [==============================] - 5s 12ms/step - loss: 0.3556 - accuracy: 0.9329 - val_loss: 0.7299 - val_accuracy: 0.9232\n",
            "Epoch 19/20\n",
            "375/375 [==============================] - 4s 11ms/step - loss: 0.3460 - accuracy: 0.9345 - val_loss: 0.6995 - val_accuracy: 0.9290\n",
            "Epoch 20/20\n",
            "375/375 [==============================] - 4s 10ms/step - loss: 0.3477 - accuracy: 0.9366 - val_loss: 0.6047 - val_accuracy: 0.9193\n"
          ]
        }
      ]
    },
    {
      "cell_type": "markdown",
      "source": [
        "For model 3 as well all the features used are same as above but only a learning rate is changed to compare all the models. Learning rate of 0.001 is used for this model3."
      ],
      "metadata": {
        "id": "-S3g4PDAG0-E"
      }
    },
    {
      "cell_type": "code",
      "source": [
        "# Create a Sequential model with two Dense layers\n",
        "model3 = keras.Sequential([\n",
        "    # First layer: 512 neurons, with ReLU activation function\n",
        "    layers.Dense(512, activation='relu'),\n",
        "    # Second layer: 10 neurons, with softmax activation function\n",
        "    layers.Dense(10, activation=\"softmax\")\n",
        "])\n",
        "# Compile the model with RMSprop optimizer, sparse categorical crossentropy loss function, and accuracy metric\n",
        "model3.compile(optimizer=keras.optimizers.RMSprop(learning_rate=0.001),\n",
        "              loss=\"sparse_categorical_crossentropy\",\n",
        "              metrics=[\"accuracy\"])\n",
        "\n",
        "# Train the model on the training data\n",
        "history3 = model3.fit(train_images, train_labels,\n",
        "          # Train for 20 epochs\n",
        "          epochs=20,\n",
        "          # Use a batch size of 128\n",
        "          batch_size=128,\n",
        "          # Use 20% of the data for validation\n",
        "          validation_split=0.2)"
      ],
      "metadata": {
        "colab": {
          "base_uri": "https://localhost:8080/"
        },
        "id": "4-RQdqRH8ROn",
        "outputId": "22e088bd-02f9-4345-ccc6-a32bcbfc8967"
      },
      "execution_count": null,
      "outputs": [
        {
          "output_type": "stream",
          "name": "stdout",
          "text": [
            "Epoch 1/20\n",
            "375/375 [==============================] - 8s 19ms/step - loss: 0.2942 - accuracy: 0.9158 - val_loss: 0.1457 - val_accuracy: 0.9573\n",
            "Epoch 2/20\n",
            "375/375 [==============================] - 4s 11ms/step - loss: 0.1228 - accuracy: 0.9646 - val_loss: 0.1078 - val_accuracy: 0.9682\n",
            "Epoch 3/20\n",
            "375/375 [==============================] - 4s 10ms/step - loss: 0.0804 - accuracy: 0.9764 - val_loss: 0.0909 - val_accuracy: 0.9739\n",
            "Epoch 4/20\n",
            "375/375 [==============================] - 5s 12ms/step - loss: 0.0581 - accuracy: 0.9834 - val_loss: 0.0835 - val_accuracy: 0.9742\n",
            "Epoch 5/20\n",
            "375/375 [==============================] - 4s 11ms/step - loss: 0.0424 - accuracy: 0.9873 - val_loss: 0.0815 - val_accuracy: 0.9737\n",
            "Epoch 6/20\n",
            "375/375 [==============================] - 4s 10ms/step - loss: 0.0319 - accuracy: 0.9907 - val_loss: 0.0750 - val_accuracy: 0.9772\n",
            "Epoch 7/20\n",
            "375/375 [==============================] - 4s 11ms/step - loss: 0.0235 - accuracy: 0.9934 - val_loss: 0.0722 - val_accuracy: 0.9788\n",
            "Epoch 8/20\n",
            "375/375 [==============================] - 5s 13ms/step - loss: 0.0181 - accuracy: 0.9947 - val_loss: 0.0755 - val_accuracy: 0.9786\n",
            "Epoch 9/20\n",
            "375/375 [==============================] - 4s 10ms/step - loss: 0.0134 - accuracy: 0.9967 - val_loss: 0.0752 - val_accuracy: 0.9803\n",
            "Epoch 10/20\n",
            "375/375 [==============================] - 4s 10ms/step - loss: 0.0100 - accuracy: 0.9977 - val_loss: 0.0759 - val_accuracy: 0.9802\n",
            "Epoch 11/20\n",
            "375/375 [==============================] - 5s 14ms/step - loss: 0.0076 - accuracy: 0.9986 - val_loss: 0.0753 - val_accuracy: 0.9809\n",
            "Epoch 12/20\n",
            "375/375 [==============================] - 4s 10ms/step - loss: 0.0054 - accuracy: 0.9989 - val_loss: 0.0747 - val_accuracy: 0.9802\n",
            "Epoch 13/20\n",
            "375/375 [==============================] - 4s 10ms/step - loss: 0.0036 - accuracy: 0.9994 - val_loss: 0.0814 - val_accuracy: 0.9803\n",
            "Epoch 14/20\n",
            "375/375 [==============================] - 4s 12ms/step - loss: 0.0026 - accuracy: 0.9996 - val_loss: 0.0831 - val_accuracy: 0.9792\n",
            "Epoch 15/20\n",
            "375/375 [==============================] - 4s 12ms/step - loss: 0.0019 - accuracy: 0.9997 - val_loss: 0.0871 - val_accuracy: 0.9812\n",
            "Epoch 16/20\n",
            "375/375 [==============================] - 4s 11ms/step - loss: 0.0012 - accuracy: 0.9999 - val_loss: 0.0872 - val_accuracy: 0.9800\n",
            "Epoch 17/20\n",
            "375/375 [==============================] - 4s 10ms/step - loss: 7.7827e-04 - accuracy: 1.0000 - val_loss: 0.0788 - val_accuracy: 0.9825\n",
            "Epoch 18/20\n",
            "375/375 [==============================] - 5s 13ms/step - loss: 5.8077e-04 - accuracy: 1.0000 - val_loss: 0.0842 - val_accuracy: 0.9814\n",
            "Epoch 19/20\n",
            "375/375 [==============================] - 4s 10ms/step - loss: 5.1418e-04 - accuracy: 1.0000 - val_loss: 0.0832 - val_accuracy: 0.9820\n",
            "Epoch 20/20\n",
            "375/375 [==============================] - 4s 10ms/step - loss: 3.9549e-04 - accuracy: 1.0000 - val_loss: 0.0834 - val_accuracy: 0.9822\n"
          ]
        }
      ]
    },
    {
      "cell_type": "markdown",
      "source": [
        "### Here, we can see the final accuracy value of each models with different learning rate and determine the best model based on validation accuracy."
      ],
      "metadata": {
        "id": "sORvxf-THJEj"
      }
    },
    {
      "cell_type": "code",
      "source": [
        "# Get the final validation accuracy for each learning rate\n",
        "val_accuracy_1 = history1.history['val_accuracy'][-1]\n",
        "print(\"Learning rate 1.0 - Final validation accuracy:\", val_accuracy_1)\n",
        "\n",
        "val_accuracy_2 = history2.history['val_accuracy'][-1]\n",
        "print(\"Learning rate 0.1 - Final validation accuracy:\", val_accuracy_2)\n",
        "\n",
        "val_accuracy_3 = history3.history['val_accuracy'][-1]\n",
        "print(\"Learning rate 0.001 - Final validation accuracy:\", val_accuracy_3)\n",
        "\n",
        "# Determine the best model based on validation accuracy\n",
        "best_lr, best_accuracy = max([(1.0, val_accuracy_1), (0.1, val_accuracy_2), (0.001, val_accuracy_3)], key=lambda x: x[1])\n",
        "print(f\"The best learning rate is {best_lr} with a validation accuracy of {best_accuracy:.4f}\")"
      ],
      "metadata": {
        "colab": {
          "base_uri": "https://localhost:8080/"
        },
        "id": "Y2Y9BqaH-ZGF",
        "outputId": "02ca4895-8f29-401d-d68f-330e3818579a"
      },
      "execution_count": null,
      "outputs": [
        {
          "output_type": "stream",
          "name": "stdout",
          "text": [
            "Learning rate 1.0 - Final validation accuracy: 0.18316666781902313\n",
            "Learning rate 0.1 - Final validation accuracy: 0.9192500114440918\n",
            "Learning rate 0.001 - Final validation accuracy: 0.9821666479110718\n",
            "The best learning rate is 0.001 with a validation accuracy of 0.9822\n"
          ]
        }
      ]
    },
    {
      "cell_type": "markdown",
      "source": [
        "#### As, seen above the best accuracy is given by the model3 which was trained using the learning rate of 0.001. The model with the highest validation accuracy is generally considered the best because it indicates better generalization to unseen data.\n",
        "\n",
        "####Typically, a learning rate of 1.0 is very high and can lead to unstable training. The model might not converge properly and could show poor performance.\n",
        "\n",
        "####A learning rate of 0.1 is high but can sometimes work depending on the problem and the dataset. However, it might still be too high for most tasks and could result in suboptimal convergence.\n",
        "\n",
        "####A learning rate of 0.001 is a commonly used and recommended starting point for many models. It generally leads to stable and effective convergence.\n",
        "\n",
        "####This learning rate of 0.001 allows for stable and precise adjustments during training, preventing overshooting and ensuring that the model converges to a good solution.\n",
        "\n"
      ],
      "metadata": {
        "id": "8ZGzmzjE_1NU"
      }
    },
    {
      "cell_type": "markdown",
      "source": [
        "## In, this part we are training the two multiclass classification models using the same MNIST dataset by changing the complexity of model."
      ],
      "metadata": {
        "id": "QXWNK7BMHnZ4"
      }
    },
    {
      "cell_type": "markdown",
      "source": [
        "For, Simple model we are using the default learning rate and a sequential architecture along with appropriate softmax activation function for training a model. We are using output layer with 10 dense unit and training without using any hidden layer. The epochs is set to 20 and 128 batch size with 20% validation split."
      ],
      "metadata": {
        "id": "YjmNpCbGIlAp"
      }
    },
    {
      "cell_type": "code",
      "source": [
        "# Create a simple model with a single Dense layer\n",
        "simple_model = keras.Sequential([layers.Dense(10, activation=\"softmax\")])\n",
        "# Compile the model with an optimizer, loss function and accuracy metric\n",
        "simple_model.compile(optimizer=\"rmsprop\",\n",
        "                     loss=\"sparse_categorical_crossentropy\",\n",
        "                     metrics=[\"accuracy\"])\n",
        "# Train the model on the training data and labels\n",
        "history_simple = simple_model.fit(\n",
        "    train_images, train_labels,\n",
        "    epochs=20,\n",
        "    batch_size=128,\n",
        "    validation_split=0.2)"
      ],
      "metadata": {
        "colab": {
          "base_uri": "https://localhost:8080/"
        },
        "id": "pFm9Mmyx_2DF",
        "outputId": "5c9639dc-7055-4da6-89c2-fffb4b9909b9"
      },
      "execution_count": null,
      "outputs": [
        {
          "output_type": "stream",
          "name": "stdout",
          "text": [
            "Epoch 1/20\n",
            "375/375 [==============================] - 2s 4ms/step - loss: 0.6678 - accuracy: 0.8370 - val_loss: 0.3633 - val_accuracy: 0.9019\n",
            "Epoch 2/20\n",
            "375/375 [==============================] - 2s 4ms/step - loss: 0.3539 - accuracy: 0.9029 - val_loss: 0.3112 - val_accuracy: 0.9142\n",
            "Epoch 3/20\n",
            "375/375 [==============================] - 1s 3ms/step - loss: 0.3182 - accuracy: 0.9115 - val_loss: 0.2934 - val_accuracy: 0.9176\n",
            "Epoch 4/20\n",
            "375/375 [==============================] - 1s 3ms/step - loss: 0.3023 - accuracy: 0.9156 - val_loss: 0.2844 - val_accuracy: 0.9197\n",
            "Epoch 5/20\n",
            "375/375 [==============================] - 1s 3ms/step - loss: 0.2925 - accuracy: 0.9184 - val_loss: 0.2782 - val_accuracy: 0.9243\n",
            "Epoch 6/20\n",
            "375/375 [==============================] - 1s 3ms/step - loss: 0.2855 - accuracy: 0.9204 - val_loss: 0.2744 - val_accuracy: 0.9245\n",
            "Epoch 7/20\n",
            "375/375 [==============================] - 1s 3ms/step - loss: 0.2804 - accuracy: 0.9216 - val_loss: 0.2718 - val_accuracy: 0.9244\n",
            "Epoch 8/20\n",
            "375/375 [==============================] - 1s 3ms/step - loss: 0.2767 - accuracy: 0.9231 - val_loss: 0.2712 - val_accuracy: 0.9263\n",
            "Epoch 9/20\n",
            "375/375 [==============================] - 1s 2ms/step - loss: 0.2733 - accuracy: 0.9240 - val_loss: 0.2682 - val_accuracy: 0.9272\n",
            "Epoch 10/20\n",
            "375/375 [==============================] - 1s 3ms/step - loss: 0.2709 - accuracy: 0.9248 - val_loss: 0.2661 - val_accuracy: 0.9283\n",
            "Epoch 11/20\n",
            "375/375 [==============================] - 1s 3ms/step - loss: 0.2685 - accuracy: 0.9253 - val_loss: 0.2657 - val_accuracy: 0.9275\n",
            "Epoch 12/20\n",
            "375/375 [==============================] - 1s 3ms/step - loss: 0.2666 - accuracy: 0.9266 - val_loss: 0.2664 - val_accuracy: 0.9283\n",
            "Epoch 13/20\n",
            "375/375 [==============================] - 1s 3ms/step - loss: 0.2648 - accuracy: 0.9273 - val_loss: 0.2644 - val_accuracy: 0.9291\n",
            "Epoch 14/20\n",
            "375/375 [==============================] - 2s 4ms/step - loss: 0.2631 - accuracy: 0.9281 - val_loss: 0.2646 - val_accuracy: 0.9286\n",
            "Epoch 15/20\n",
            "375/375 [==============================] - 1s 4ms/step - loss: 0.2620 - accuracy: 0.9280 - val_loss: 0.2636 - val_accuracy: 0.9297\n",
            "Epoch 16/20\n",
            "375/375 [==============================] - 1s 3ms/step - loss: 0.2603 - accuracy: 0.9280 - val_loss: 0.2639 - val_accuracy: 0.9287\n",
            "Epoch 17/20\n",
            "375/375 [==============================] - 1s 3ms/step - loss: 0.2593 - accuracy: 0.9289 - val_loss: 0.2619 - val_accuracy: 0.9303\n",
            "Epoch 18/20\n",
            "375/375 [==============================] - 1s 2ms/step - loss: 0.2582 - accuracy: 0.9290 - val_loss: 0.2623 - val_accuracy: 0.9308\n",
            "Epoch 19/20\n",
            "375/375 [==============================] - 1s 3ms/step - loss: 0.2572 - accuracy: 0.9294 - val_loss: 0.2641 - val_accuracy: 0.9287\n",
            "Epoch 20/20\n",
            "375/375 [==============================] - 1s 2ms/step - loss: 0.2562 - accuracy: 0.9305 - val_loss: 0.2629 - val_accuracy: 0.9302\n"
          ]
        }
      ]
    },
    {
      "cell_type": "code",
      "source": [
        "import matplotlib.pyplot as plt\n",
        "# Import the history object created during the training of the simple model\n",
        "val_loss = history_simple.history[\"val_loss\"]\n",
        "# Create a list of epochs, from 1 to 20\n",
        "epochs = range(1,21)\n",
        "# Plot the validation loss in a dashed blue line\n",
        "plt.plot(epochs, val_loss, \"b--\", label=\"Validation loss\")\n",
        "# Set the title of the plot\n",
        "plt.title(\"Effect of insufficient model capacity on validation loss\")\n",
        "# Set the x-axis label\n",
        "plt.xlabel(\"Epochs\")\n",
        "# Set the y-axis label\n",
        "plt.ylabel(\"Loss\")\n",
        "# Add a legend to the plot\n",
        "plt.legend()"
      ],
      "metadata": {
        "colab": {
          "base_uri": "https://localhost:8080/",
          "height": 509
        },
        "id": "aU_zIhxplrR5",
        "outputId": "4a0e3b10-4590-4119-f95e-dcab257615b5"
      },
      "execution_count": null,
      "outputs": [
        {
          "output_type": "execute_result",
          "data": {
            "text/plain": [
              "<matplotlib.legend.Legend at 0x7fa68254ab90>"
            ]
          },
          "metadata": {},
          "execution_count": 10
        },
        {
          "output_type": "display_data",
          "data": {
            "text/plain": [
              "<Figure size 640x480 with 1 Axes>"
            ],
            "image/png": "[encoded data removed]"
          },
          "metadata": {}
        }
      ]
    },
    {
      "cell_type": "markdown",
      "source": [
        "The complex model is same as above simple model with all the value for model and activation function similar to it but we are only adding two hidden dense layer with 96 units each. Relu is the activation function for hidden layer."
      ],
      "metadata": {
        "id": "QB2ekigEKCKi"
      }
    },
    {
      "cell_type": "code",
      "source": [
        "# Create a complex model using the Sequential API\n",
        "complex_model = keras.Sequential([\n",
        "    # First dense layer with 96 neurons and ReLU activation\n",
        "    layers.Dense(96, activation=\"relu\"),\n",
        "    # Second dense layer with 96 neurons and ReLU activation\n",
        "    layers.Dense(96, activation=\"relu\"),\n",
        "    # Third dense layer with 10 neurons and softmax activation\n",
        "    layers.Dense(10, activation=\"softmax\"),\n",
        "])\n",
        "\n",
        "# Compile the complex model with RMSprop optimizer, sparse categorical crossentropy loss, and accuracy metric\n",
        "complex_model.compile(optimizer=\"rmsprop\",\n",
        "                      loss=\"sparse_categorical_crossentropy\",\n",
        "                      metrics=[\"accuracy\"])\n",
        "\n",
        "# Train the complex model on the training images and labels, with 20 epochs, 128 batch size, and 20% split for validation\n",
        "history_complex = complex_model.fit(\n",
        "    train_images, train_labels,\n",
        "    epochs=20,\n",
        "    batch_size=128,\n",
        "    validation_split=0.2)"
      ],
      "metadata": {
        "colab": {
          "base_uri": "https://localhost:8080/"
        },
        "id": "dn0YcwVv_01H",
        "outputId": "015b8366-8997-4dba-aeef-5584d76a06c5"
      },
      "execution_count": null,
      "outputs": [
        {
          "output_type": "stream",
          "name": "stdout",
          "text": [
            "Epoch 1/20\n",
            "375/375 [==============================] - 2s 5ms/step - loss: 0.3692 - accuracy: 0.8964 - val_loss: 0.1990 - val_accuracy: 0.9437\n",
            "Epoch 2/20\n",
            "375/375 [==============================] - 2s 4ms/step - loss: 0.1604 - accuracy: 0.9515 - val_loss: 0.1319 - val_accuracy: 0.9615\n",
            "Epoch 3/20\n",
            "375/375 [==============================] - 2s 6ms/step - loss: 0.1126 - accuracy: 0.9655 - val_loss: 0.1130 - val_accuracy: 0.9663\n",
            "Epoch 4/20\n",
            "375/375 [==============================] - 2s 6ms/step - loss: 0.0852 - accuracy: 0.9736 - val_loss: 0.1031 - val_accuracy: 0.9717\n",
            "Epoch 5/20\n",
            "375/375 [==============================] - 2s 4ms/step - loss: 0.0682 - accuracy: 0.9793 - val_loss: 0.1011 - val_accuracy: 0.9707\n",
            "Epoch 6/20\n",
            "375/375 [==============================] - 2s 4ms/step - loss: 0.0546 - accuracy: 0.9831 - val_loss: 0.1027 - val_accuracy: 0.9709\n",
            "Epoch 7/20\n",
            "375/375 [==============================] - 2s 4ms/step - loss: 0.0460 - accuracy: 0.9859 - val_loss: 0.0993 - val_accuracy: 0.9732\n",
            "Epoch 8/20\n",
            "375/375 [==============================] - 2s 4ms/step - loss: 0.0375 - accuracy: 0.9887 - val_loss: 0.0966 - val_accuracy: 0.9750\n",
            "Epoch 9/20\n",
            "375/375 [==============================] - 1s 4ms/step - loss: 0.0321 - accuracy: 0.9904 - val_loss: 0.0964 - val_accuracy: 0.9739\n",
            "Epoch 10/20\n",
            "375/375 [==============================] - 2s 4ms/step - loss: 0.0260 - accuracy: 0.9921 - val_loss: 0.1015 - val_accuracy: 0.9732\n",
            "Epoch 11/20\n",
            "375/375 [==============================] - 2s 6ms/step - loss: 0.0219 - accuracy: 0.9936 - val_loss: 0.1066 - val_accuracy: 0.9742\n",
            "Epoch 12/20\n",
            "375/375 [==============================] - 2s 5ms/step - loss: 0.0189 - accuracy: 0.9940 - val_loss: 0.1046 - val_accuracy: 0.9743\n",
            "Epoch 13/20\n",
            "375/375 [==============================] - 1s 4ms/step - loss: 0.0168 - accuracy: 0.9951 - val_loss: 0.1101 - val_accuracy: 0.9748\n",
            "Epoch 14/20\n",
            "375/375 [==============================] - 2s 4ms/step - loss: 0.0130 - accuracy: 0.9961 - val_loss: 0.1142 - val_accuracy: 0.9757\n",
            "Epoch 15/20\n",
            "375/375 [==============================] - 2s 4ms/step - loss: 0.0119 - accuracy: 0.9965 - val_loss: 0.1251 - val_accuracy: 0.9737\n",
            "Epoch 16/20\n",
            "375/375 [==============================] - 2s 4ms/step - loss: 0.0097 - accuracy: 0.9970 - val_loss: 0.1168 - val_accuracy: 0.9749\n",
            "Epoch 17/20\n",
            "375/375 [==============================] - 2s 4ms/step - loss: 0.0087 - accuracy: 0.9971 - val_loss: 0.1264 - val_accuracy: 0.9758\n",
            "Epoch 18/20\n",
            "375/375 [==============================] - 2s 4ms/step - loss: 0.0066 - accuracy: 0.9981 - val_loss: 0.1312 - val_accuracy: 0.9752\n",
            "Epoch 19/20\n",
            "375/375 [==============================] - 2s 6ms/step - loss: 0.0058 - accuracy: 0.9982 - val_loss: 0.1329 - val_accuracy: 0.9754\n",
            "Epoch 20/20\n",
            "375/375 [==============================] - 2s 5ms/step - loss: 0.0052 - accuracy: 0.9986 - val_loss: 0.1320 - val_accuracy: 0.9753\n"
          ]
        }
      ]
    },
    {
      "cell_type": "code",
      "source": [
        "# Import the necessary libraries\n",
        "import matplotlib.pyplot as plt\n",
        "\n",
        "# Create a list to store the validation loss values\n",
        "val_loss = history_complex.history[\"val_loss\"]\n",
        "\n",
        "# Create a list to store the epochs\n",
        "epochs = range(1,21)\n",
        "\n",
        "# Plot the validation loss values with a blue dashed line\n",
        "plt.plot(epochs, val_loss, \"b--\", label=\"Validation loss\")\n",
        "\n",
        "# Set the title of the plot\n",
        "plt.title(\"Effect of insufficient model capacity on validation loss\")\n",
        "\n",
        "# Set the x-axis label\n",
        "plt.xlabel(\"Epochs\")\n",
        "\n",
        "# Set the y-axis label\n",
        "plt.ylabel(\"Loss\")\n",
        "\n",
        "# Display a legend on the plot\n",
        "plt.legend()"
      ],
      "metadata": {
        "colab": {
          "base_uri": "https://localhost:8080/",
          "height": 509
        },
        "id": "Z99daKqhmr1W",
        "outputId": "1ae0754e-d64b-461e-bfef-6a0aae4b6604"
      },
      "execution_count": null,
      "outputs": [
        {
          "output_type": "execute_result",
          "data": {
            "text/plain": [
              "<matplotlib.legend.Legend at 0x7fa68216ace0>"
            ]
          },
          "metadata": {},
          "execution_count": 12
        },
        {
          "output_type": "display_data",
          "data": {
            "text/plain": [
              "<Figure size 640x480 with 1 Axes>"
            ],
            "image/png": "[encoded data removed]"
          },
          "metadata": {}
        }
      ]
    },
    {
      "cell_type": "markdown",
      "source": [
        "#### As, seen above the validation accuracy of simple model is lower compared to the complex model validation accuracy. But If the complex model's training accuracy is high but its validation accuracy does not improve or deteriorates over epochs, it indicates overfitting. And it shows the similar results in complex model as training accuracy is increasing over the epochs but validation accuracy remains same.\n",
        "\n",
        "#### Adding complexity to a model increases its capacity to learn from data but also increases the risk of overfitting. The choice of model complexity should be based on the complexity of the dataset and the availability of techniques to mitigate overfitting, such as regularization and data augmentation."
      ],
      "metadata": {
        "id": "kn0HeFooKhRd"
      }
    }
  ]
}