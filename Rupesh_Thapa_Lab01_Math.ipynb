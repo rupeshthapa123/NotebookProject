{
  "cells": [
    {
      "cell_type": "markdown",
      "metadata": {
        "id": "view-in-github",
        "colab_type": "text"
      },
      "source": [
        "<a href=\"https://colab.research.google.com/github/rupeshthapa123/NotebookProject/blob/main/Rupesh_Thapa_Lab01_Math.ipynb\" target=\"_parent\"><img src=\"https://colab.research.google.com/assets/colab-badge.svg\" alt=\"Open In Colab\"/></a>"
      ]
    },
    {
      "cell_type": "markdown",
      "metadata": {
        "id": "e2WXlYHc6sNc"
      },
      "source": [
        "# 2. Math for Deep Learning"
      ]
    },
    {
      "cell_type": "markdown",
      "metadata": {
        "id": "RrCizPcU6sNe"
      },
      "source": [
        "In this lab, you will learn and apply the basic tensor math operations available in TensorFlow and Keras. These functions and datatypes are commonly used when implementing deep neural networks and familiarity with them will help faster prototyping and design of soultions. Note the differences between TensorFlow/Keras, which is streamlined for tensor operations, and libraries such as NumPy, specialized in generic linear algebra.\n",
        "\n",
        "INSTRUCTIONS:\n",
        "- Solve the exercises as required using NumPy, TensorFlow or Keras.\n",
        "- Refer to the lecture slides for codes and explanations.\n",
        "- Upload your completed notebook to the corresponding dropbox."
      ]
    },
    {
      "cell_type": "markdown",
      "metadata": {
        "id": "Zl5yXnk76sNf"
      },
      "source": [
        "## 2.1 Data representations for neural networks"
      ]
    },
    {
      "cell_type": "markdown",
      "metadata": {
        "id": "-EUN0m0-6sNf"
      },
      "source": [
        "1. Provide an example of a scalar (rank-0 tensor) and find its dimension, shape and datatype."
      ]
    },
    {
      "cell_type": "code",
      "source": [
        "import numpy as np"
      ],
      "metadata": {
        "id": "5hS6FCeWUoKO"
      },
      "execution_count": null,
      "outputs": []
    },
    {
      "cell_type": "code",
      "source": [
        "x = np.array(15)\n",
        "x"
      ],
      "metadata": {
        "colab": {
          "base_uri": "https://localhost:8080/"
        },
        "id": "Y4r-dBzbUysC",
        "outputId": "d65cb6bf-c5d2-4814-cb85-9f97d6c769d4"
      },
      "execution_count": null,
      "outputs": [
        {
          "output_type": "execute_result",
          "data": {
            "text/plain": [
              "array(15)"
            ]
          },
          "metadata": {},
          "execution_count": 2
        }
      ]
    },
    {
      "cell_type": "code",
      "source": [
        "x.ndim"
      ],
      "metadata": {
        "colab": {
          "base_uri": "https://localhost:8080/"
        },
        "id": "E8FazepcU3aj",
        "outputId": "9c510709-0a8f-402d-a807-a9448b7bc967"
      },
      "execution_count": null,
      "outputs": [
        {
          "output_type": "execute_result",
          "data": {
            "text/plain": [
              "0"
            ]
          },
          "metadata": {},
          "execution_count": 3
        }
      ]
    },
    {
      "cell_type": "code",
      "source": [
        "x.shape"
      ],
      "metadata": {
        "colab": {
          "base_uri": "https://localhost:8080/"
        },
        "id": "u_HqiQT3U56a",
        "outputId": "47d3ab40-fe84-45d9-f005-53749846ef83"
      },
      "execution_count": null,
      "outputs": [
        {
          "output_type": "execute_result",
          "data": {
            "text/plain": [
              "()"
            ]
          },
          "metadata": {},
          "execution_count": 4
        }
      ]
    },
    {
      "cell_type": "code",
      "source": [
        "x.dtype"
      ],
      "metadata": {
        "colab": {
          "base_uri": "https://localhost:8080/"
        },
        "id": "wX1xn7T3VBo9",
        "outputId": "67be8e99-a787-49d2-b720-15f5ad1de2e5"
      },
      "execution_count": null,
      "outputs": [
        {
          "output_type": "execute_result",
          "data": {
            "text/plain": [
              "dtype('int64')"
            ]
          },
          "metadata": {},
          "execution_count": 5
        }
      ]
    },
    {
      "cell_type": "markdown",
      "metadata": {
        "id": "o3c_ReUi6sNf"
      },
      "source": [
        "2. Provide an example of a vector (rank-1 tensor) and find its dimension, shape and datatype."
      ]
    },
    {
      "cell_type": "code",
      "source": [
        "x = np.array([15,6,9,13,8])\n",
        "x"
      ],
      "metadata": {
        "colab": {
          "base_uri": "https://localhost:8080/"
        },
        "id": "KMw9zbAaVJrJ",
        "outputId": "3e2a186b-dd24-47b1-8bda-54000c46f0f1"
      },
      "execution_count": null,
      "outputs": [
        {
          "output_type": "execute_result",
          "data": {
            "text/plain": [
              "array([15,  6,  9, 13,  8])"
            ]
          },
          "metadata": {},
          "execution_count": 6
        }
      ]
    },
    {
      "cell_type": "code",
      "source": [
        "x.ndim"
      ],
      "metadata": {
        "colab": {
          "base_uri": "https://localhost:8080/"
        },
        "id": "xjzyiUpuVRbl",
        "outputId": "ab714339-004d-4c7c-822d-bdf612720346"
      },
      "execution_count": null,
      "outputs": [
        {
          "output_type": "execute_result",
          "data": {
            "text/plain": [
              "1"
            ]
          },
          "metadata": {},
          "execution_count": 7
        }
      ]
    },
    {
      "cell_type": "code",
      "source": [
        "x.shape"
      ],
      "metadata": {
        "colab": {
          "base_uri": "https://localhost:8080/"
        },
        "id": "EBVd7sp0VTtH",
        "outputId": "88f6ab69-e8e3-4bc9-f31b-65c156f03361"
      },
      "execution_count": null,
      "outputs": [
        {
          "output_type": "execute_result",
          "data": {
            "text/plain": [
              "(5,)"
            ]
          },
          "metadata": {},
          "execution_count": 8
        }
      ]
    },
    {
      "cell_type": "code",
      "source": [
        "x.dtype"
      ],
      "metadata": {
        "colab": {
          "base_uri": "https://localhost:8080/"
        },
        "id": "uDqwMezmVV7k",
        "outputId": "346bbe5d-b80e-4919-9b7d-2678f606e20c"
      },
      "execution_count": null,
      "outputs": [
        {
          "output_type": "execute_result",
          "data": {
            "text/plain": [
              "dtype('int64')"
            ]
          },
          "metadata": {},
          "execution_count": 9
        }
      ]
    },
    {
      "cell_type": "markdown",
      "metadata": {
        "id": "y9aCWsyj6sNg"
      },
      "source": [
        "3. Provide an example of a matrix (rank-2 tensor) and find its dimension, shape and datatype."
      ]
    },
    {
      "cell_type": "code",
      "source": [
        "x = np.array([[6,15,16,2,4],\n",
        "              [8,2,7,11,6],\n",
        "              [9,3,17,13,10]])\n",
        "x"
      ],
      "metadata": {
        "colab": {
          "base_uri": "https://localhost:8080/"
        },
        "id": "gRrxq9umVbon",
        "outputId": "b51f61c5-ab35-49f2-f78c-16a76eaadc90"
      },
      "execution_count": null,
      "outputs": [
        {
          "output_type": "execute_result",
          "data": {
            "text/plain": [
              "array([[ 6, 15, 16,  2,  4],\n",
              "       [ 8,  2,  7, 11,  6],\n",
              "       [ 9,  3, 17, 13, 10]])"
            ]
          },
          "metadata": {},
          "execution_count": 10
        }
      ]
    },
    {
      "cell_type": "code",
      "source": [
        "x.ndim"
      ],
      "metadata": {
        "colab": {
          "base_uri": "https://localhost:8080/"
        },
        "id": "bycDdKJWVugr",
        "outputId": "1ab92cd7-5bbf-482f-b24a-c58c82dcae89"
      },
      "execution_count": null,
      "outputs": [
        {
          "output_type": "execute_result",
          "data": {
            "text/plain": [
              "2"
            ]
          },
          "metadata": {},
          "execution_count": 11
        }
      ]
    },
    {
      "cell_type": "code",
      "source": [
        "x.shape"
      ],
      "metadata": {
        "colab": {
          "base_uri": "https://localhost:8080/"
        },
        "id": "WQxRcUU-Vwbf",
        "outputId": "4cbb4a9c-ed1d-4ed6-a538-84a778075a3e"
      },
      "execution_count": null,
      "outputs": [
        {
          "output_type": "execute_result",
          "data": {
            "text/plain": [
              "(3, 5)"
            ]
          },
          "metadata": {},
          "execution_count": 12
        }
      ]
    },
    {
      "cell_type": "code",
      "source": [
        "x.dtype"
      ],
      "metadata": {
        "colab": {
          "base_uri": "https://localhost:8080/"
        },
        "id": "XYwQ-hJgVwX2",
        "outputId": "18eada7f-01da-463e-e598-4bc326159ec4"
      },
      "execution_count": null,
      "outputs": [
        {
          "output_type": "execute_result",
          "data": {
            "text/plain": [
              "dtype('int64')"
            ]
          },
          "metadata": {},
          "execution_count": 13
        }
      ]
    },
    {
      "cell_type": "markdown",
      "metadata": {
        "id": "hJm8xzyK6sNg"
      },
      "source": [
        "4. Provide an example of a Rank-3 tensor and find its dimension, shape and datatype."
      ]
    },
    {
      "cell_type": "code",
      "source": [
        "x = np.array([[[6,3,5,16,0],\n",
        "               [3,1,16,17,3],\n",
        "               [8,2,11,19,17]],\n",
        "              [[4,20,14,7,3],\n",
        "               [6,21,27,3,4],\n",
        "               [4,3,8,9,14]],\n",
        "              [[5,9,2,26,4],\n",
        "               [4,30,31,4,6],\n",
        "               [7,31,36,24,9]]])\n",
        "x"
      ],
      "metadata": {
        "colab": {
          "base_uri": "https://localhost:8080/"
        },
        "id": "SOvDuGF7V57W",
        "outputId": "1eb09a58-f75c-4030-f66d-e02fd9da05b5"
      },
      "execution_count": null,
      "outputs": [
        {
          "output_type": "execute_result",
          "data": {
            "text/plain": [
              "array([[[ 6,  3,  5, 16,  0],\n",
              "        [ 3,  1, 16, 17,  3],\n",
              "        [ 8,  2, 11, 19, 17]],\n",
              "\n",
              "       [[ 4, 20, 14,  7,  3],\n",
              "        [ 6, 21, 27,  3,  4],\n",
              "        [ 4,  3,  8,  9, 14]],\n",
              "\n",
              "       [[ 5,  9,  2, 26,  4],\n",
              "        [ 4, 30, 31,  4,  6],\n",
              "        [ 7, 31, 36, 24,  9]]])"
            ]
          },
          "metadata": {},
          "execution_count": 14
        }
      ]
    },
    {
      "cell_type": "code",
      "source": [
        "x.ndim"
      ],
      "metadata": {
        "colab": {
          "base_uri": "https://localhost:8080/"
        },
        "id": "Zq048H8WV538",
        "outputId": "fd939b8b-7ac0-438e-c2ba-69cdb3d2c41e"
      },
      "execution_count": null,
      "outputs": [
        {
          "output_type": "execute_result",
          "data": {
            "text/plain": [
              "3"
            ]
          },
          "metadata": {},
          "execution_count": 15
        }
      ]
    },
    {
      "cell_type": "code",
      "source": [
        "x.shape"
      ],
      "metadata": {
        "colab": {
          "base_uri": "https://localhost:8080/"
        },
        "id": "WJuoszoWV51o",
        "outputId": "a7c6d278-2c30-4942-9bcf-1583565a0d71"
      },
      "execution_count": null,
      "outputs": [
        {
          "output_type": "execute_result",
          "data": {
            "text/plain": [
              "(3, 3, 5)"
            ]
          },
          "metadata": {},
          "execution_count": 16
        }
      ]
    },
    {
      "cell_type": "code",
      "source": [
        "x.dtype"
      ],
      "metadata": {
        "colab": {
          "base_uri": "https://localhost:8080/"
        },
        "id": "SoyTPiMAV5rc",
        "outputId": "300ca822-20c9-4e61-9237-c03e702c8e68"
      },
      "execution_count": null,
      "outputs": [
        {
          "output_type": "execute_result",
          "data": {
            "text/plain": [
              "dtype('int64')"
            ]
          },
          "metadata": {},
          "execution_count": 17
        }
      ]
    },
    {
      "cell_type": "markdown",
      "metadata": {
        "id": "OlFYZjpx6sNh"
      },
      "source": [
        "## 2.2 Tensor operations"
      ]
    },
    {
      "cell_type": "markdown",
      "metadata": {
        "id": "g-xnLGSb6sNh"
      },
      "source": [
        "1. Create a routine that returns the ReLU function of the argument passed."
      ]
    },
    {
      "cell_type": "code",
      "source": [
        "def naive_relu(x):\n",
        "  # Ensure the input is a 2D tensor\n",
        "  assert len(x.shape) == 2\n",
        "  # Create a copy of the input tensor to avoid modifying the original tensor\n",
        "  x = x.copy()\n",
        "  # Iterate over each element in the 2D tensor\n",
        "  for i in range(x.shape[0]):\n",
        "    for j in range(x.shape[1]):\n",
        "      # Apply the ReLU function: max(x, 0)\n",
        "      x[i,j] = max(x[i,j],0)\n",
        "  # Return the modified tensor\n",
        "  return x\n",
        "\n",
        "naive_relu (np.array([[-1.0, 2.0], [-0.5, 3.0]]))"
      ],
      "metadata": {
        "colab": {
          "base_uri": "https://localhost:8080/"
        },
        "id": "ThEYDP-uXZmq",
        "outputId": "8b1cbd8e-e39a-43de-f85d-987e8a6e5ab9"
      },
      "execution_count": null,
      "outputs": [
        {
          "output_type": "execute_result",
          "data": {
            "text/plain": [
              "array([[0., 2.],\n",
              "       [0., 3.]])"
            ]
          },
          "metadata": {},
          "execution_count": 18
        }
      ]
    },
    {
      "cell_type": "markdown",
      "metadata": {
        "id": "k4I9YZbs6sNi"
      },
      "source": [
        "2. Create a routine that returns the sum of the two arguments passed."
      ]
    },
    {
      "cell_type": "code",
      "source": [
        "def naive_add(x, y):\n",
        "  # Ensure both inputs are 2D tensors\n",
        "  assert len(x.shape) == 2\n",
        "  assert x.shape == y.shape # Ensure both tensors have the same shape\n",
        "  # Create a copy of the first input tensor to avoid modifying the original tensor\n",
        "  x = x.copy()\n",
        "  # Iterate over each element in the 2D tensors\n",
        "  for i in range(x.shape[0]):\n",
        "    for j in range(x.shape[1]):\n",
        "       # Add corresponding elements from y to x\n",
        "      x[i,j] += y[i,j]\n",
        "  # Return the modified tensor\n",
        "  return x\n",
        "\n",
        "naive_add (np.array([[1.0, 2.0], [3.0, 4.0]]), np.array([[5.0, 6.0], [7.0, 8.0]]))"
      ],
      "metadata": {
        "colab": {
          "base_uri": "https://localhost:8080/"
        },
        "id": "N3xKKShTc2zK",
        "outputId": "22ebd21b-162b-4300-bb5e-831bb14cf56e"
      },
      "execution_count": null,
      "outputs": [
        {
          "output_type": "execute_result",
          "data": {
            "text/plain": [
              "array([[ 6.,  8.],\n",
              "       [10., 12.]])"
            ]
          },
          "metadata": {},
          "execution_count": 19
        }
      ]
    },
    {
      "cell_type": "markdown",
      "metadata": {
        "id": "eQVOfIeE6sNi"
      },
      "source": [
        "3. Time how long it takes to sum and ReLU function of two random tensors x, y both with shape (20,100) 1000 times using the functions created in steps 1 and 2."
      ]
    },
    {
      "cell_type": "code",
      "source": [
        "import time\n",
        "# Generate two random 2D arrays (20x100) with values between 0 and 1\n",
        "x = np.random.random((20, 100))\n",
        "y = np.random.random((20, 100))"
      ],
      "metadata": {
        "id": "JhyV75bmfJVh"
      },
      "execution_count": null,
      "outputs": []
    },
    {
      "cell_type": "code",
      "source": [
        "# Measure the time taken to perform the operations using NumPy functions\n",
        "t0 = time.time() # Record the current time before starting the operations\n",
        "for _ in range(1000):\n",
        "  # Perform element-wise addition using NumPy\n",
        "  z = x + y\n",
        "  # Apply the ReLU function using NumPy's maximum function\n",
        "  z = np.maximum(z, 0.)\n",
        "print(\"Took: {0:.2f} s\".format(time.time() - t0)) # Calculate and print the elapsed time"
      ],
      "metadata": {
        "colab": {
          "base_uri": "https://localhost:8080/"
        },
        "id": "e9q3yAKDfJcj",
        "outputId": "3092cf7c-c121-4e04-cead-4cc0061417ba"
      },
      "execution_count": null,
      "outputs": [
        {
          "output_type": "stream",
          "name": "stdout",
          "text": [
            "Took: 0.01 s\n"
          ]
        }
      ]
    },
    {
      "cell_type": "code",
      "source": [
        "# Measure the time taken to perform the operations using the naive implementations\n",
        "t0 = time.time() # Record the current time before starting the operations\n",
        "for _ in range(1000):\n",
        "  # Perform element-wise addition using the naive_add function\n",
        "  z = naive_add(x, y)\n",
        "  # Apply the ReLU function using the naive_relu function\n",
        "  z = naive_relu(z)\n",
        "print(\"Took: {0:.2f} s\".format(time.time() - t0)) # Calculate and print the elapsed time"
      ],
      "metadata": {
        "colab": {
          "base_uri": "https://localhost:8080/"
        },
        "id": "dQSSp3RafJgI",
        "outputId": "d23e10c6-e981-41b7-ae70-8f131b055269"
      },
      "execution_count": null,
      "outputs": [
        {
          "output_type": "stream",
          "name": "stdout",
          "text": [
            "Took: 5.12 s\n"
          ]
        }
      ]
    },
    {
      "cell_type": "markdown",
      "metadata": {
        "id": "BqVFZJ7-6sNj"
      },
      "source": [
        "4. Repeat the previous exercise using NumPy arrays and functions."
      ]
    },
    {
      "cell_type": "code",
      "source": [
        "def relu_numpy(x):\n",
        "    return np.maximum(x, 0)\n",
        "\n",
        "# Example usage\n",
        "input_array = np.array([[-1.0, 2.0], [-0.5, 3.0]])\n",
        "output_array = relu_numpy(input_array)\n",
        "print(output_array)"
      ],
      "metadata": {
        "colab": {
          "base_uri": "https://localhost:8080/"
        },
        "id": "TSLvtZfBh4th",
        "outputId": "4ad823c3-5b91-4a63-8840-6841ac4b2c76"
      },
      "execution_count": null,
      "outputs": [
        {
          "output_type": "stream",
          "name": "stdout",
          "text": [
            "[[0. 2.]\n",
            " [0. 3.]]\n"
          ]
        }
      ]
    },
    {
      "cell_type": "code",
      "source": [
        "def add_numpy(x, y):\n",
        "    assert x.shape == y.shape\n",
        "    return x + y\n",
        "\n",
        "# Example usage\n",
        "x = np.array([[1.0, 2.0], [3.0, 4.0]])\n",
        "y = np.array([[5.0, 6.0], [7.0, 8.0]])\n",
        "result = add_numpy(x, y)\n",
        "print(result)"
      ],
      "metadata": {
        "colab": {
          "base_uri": "https://localhost:8080/"
        },
        "id": "7vFCcMFLiid6",
        "outputId": "78cfa520-689e-4a6a-ccb0-bdcdfb7a1486"
      },
      "execution_count": null,
      "outputs": [
        {
          "output_type": "stream",
          "name": "stdout",
          "text": [
            "[[ 6.  8.]\n",
            " [10. 12.]]\n"
          ]
        }
      ]
    },
    {
      "cell_type": "markdown",
      "metadata": {
        "id": "9GISGAl-6sNj"
      },
      "source": [
        "## 2.3 Basic Model"
      ]
    },
    {
      "cell_type": "markdown",
      "metadata": {
        "id": "vprVEDRj6sNj"
      },
      "source": [
        "Implement a Sequential Neural Network for the MNIST dataset using TensorFlow predefined functions and structures."
      ]
    },
    {
      "cell_type": "code",
      "source": [
        "from tensorflow import keras"
      ],
      "metadata": {
        "id": "qSnBryXEp_ix"
      },
      "execution_count": null,
      "outputs": []
    },
    {
      "cell_type": "code",
      "source": [
        "from tensorflow.keras.datasets import mnist\n",
        "(train_images1, train_labels1), (test_images1, test_labels1) = mnist.load_data()"
      ],
      "metadata": {
        "colab": {
          "base_uri": "https://localhost:8080/"
        },
        "id": "gIiyQl9UpVtS",
        "outputId": "f3d58357-94ae-4855-8d57-356924003049"
      },
      "execution_count": null,
      "outputs": [
        {
          "output_type": "stream",
          "name": "stdout",
          "text": [
            "Downloading data from https://storage.googleapis.com/tensorflow/tf-keras-datasets/mnist.npz\n",
            "11490434/11490434 [==============================] - 0s 0us/step\n"
          ]
        }
      ]
    },
    {
      "cell_type": "code",
      "source": [
        "from tensorflow.keras import layers\n",
        "keras_model = keras.Sequential([\n",
        "    layers.Dense(512, activation=\"relu\"),\n",
        "    layers.Dense(10, activation=\"softmax\")\n",
        "])\n",
        "\n",
        "keras_model.compile(optimizer=\"rmsprop\",\n",
        "              loss=\"sparse_categorical_crossentropy\",\n",
        "              metrics=[\"accuracy\"])"
      ],
      "metadata": {
        "id": "cEU87qu9qIuq"
      },
      "execution_count": null,
      "outputs": []
    },
    {
      "cell_type": "code",
      "source": [
        "train_images1 = train_images1.reshape((60000,28 * 28))\n",
        "train_images1 = train_images1.astype(\"float32\") / 255\n",
        "test_images1 = test_images1.reshape((10000, 28 * 28))\n",
        "test_images1 = test_images1.astype(\"float32\") / 255"
      ],
      "metadata": {
        "id": "iIdY3bU2qqtd"
      },
      "execution_count": null,
      "outputs": []
    },
    {
      "cell_type": "code",
      "source": [
        "keras_model.fit(train_images1, train_labels1, epochs=5, batch_size=128)"
      ],
      "metadata": {
        "colab": {
          "base_uri": "https://localhost:8080/"
        },
        "id": "hIgYzqwrrHKQ",
        "outputId": "3b5c51b7-924b-42b8-ef54-2e8d492418bf"
      },
      "execution_count": null,
      "outputs": [
        {
          "output_type": "stream",
          "name": "stdout",
          "text": [
            "Epoch 1/5\n",
            "469/469 [==============================] - 3s 3ms/step - loss: 0.2689 - accuracy: 0.9235\n",
            "Epoch 2/5\n",
            "469/469 [==============================] - 2s 4ms/step - loss: 0.1087 - accuracy: 0.9685\n",
            "Epoch 3/5\n",
            "469/469 [==============================] - 2s 4ms/step - loss: 0.0706 - accuracy: 0.9790\n",
            "Epoch 4/5\n",
            "469/469 [==============================] - 1s 3ms/step - loss: 0.0516 - accuracy: 0.9846\n",
            "Epoch 5/5\n",
            "469/469 [==============================] - 1s 3ms/step - loss: 0.0387 - accuracy: 0.9884\n"
          ]
        },
        {
          "output_type": "execute_result",
          "data": {
            "text/plain": [
              "<keras.src.callbacks.History at 0x787a6deec910>"
            ]
          },
          "metadata": {},
          "execution_count": 29
        }
      ]
    },
    {
      "cell_type": "markdown",
      "metadata": {
        "id": "TSFNvDS36sNj"
      },
      "source": [
        "## 2.4 Basic Model from scratch"
      ]
    },
    {
      "cell_type": "markdown",
      "metadata": {
        "id": "wdIqRfVG6sNk"
      },
      "source": [
        "Implement a Sequential Neural Network for the MNIST dataset from scratch by defining your own functions."
      ]
    },
    {
      "cell_type": "markdown",
      "metadata": {
        "id": "PxcAhbZ16sNk"
      },
      "source": [
        "1. Create a Dense class"
      ]
    },
    {
      "cell_type": "code",
      "source": [
        "import tensorflow as tf\n",
        "\n",
        "class NaiveDense:\n",
        "  def __init__(self, input_size, output_size, activation):\n",
        "    self.activation = activation\n",
        "\n",
        "    w_shape = (input_size, output_size)\n",
        "    w_initial_value = tf.random.uniform(w_shape, minval=0, maxval=1e-1)\n",
        "    self.W = tf.Variable(w_initial_value)\n",
        "\n",
        "    b_shape = (output_size)\n",
        "    b_initial_value = tf.zeros(b_shape)\n",
        "    self.b = tf.Variable(b_initial_value)\n",
        "\n",
        "  def __call__(self, inputs):\n",
        "    return self.activation(tf.matmul(inputs, self.W) + self.b)\n",
        "\n",
        "  @property\n",
        "  def weights(self):\n",
        "    return [self.W, self.b]"
      ],
      "metadata": {
        "id": "r1ECJsYjrahv"
      },
      "execution_count": null,
      "outputs": []
    },
    {
      "cell_type": "markdown",
      "source": [
        "2. Create the Sequential class"
      ],
      "metadata": {
        "id": "9sqfGqKgudJF"
      }
    },
    {
      "cell_type": "code",
      "source": [
        "class NaiveSequential:\n",
        "    def __init__(self, layers):\n",
        "      self.layers = layers\n",
        "\n",
        "    def __call__(self, inputs):\n",
        "      x = inputs\n",
        "      for layer in self.layers:\n",
        "        x = layer(x)\n",
        "        return x\n",
        "\n",
        "    @property\n",
        "    def weights(self):\n",
        "      weights = []\n",
        "      for layer in self.layers:\n",
        "        weights += layer.weights\n",
        "      return weights"
      ],
      "metadata": {
        "id": "jpdOjGbisr6m"
      },
      "execution_count": null,
      "outputs": []
    },
    {
      "cell_type": "markdown",
      "metadata": {
        "id": "D9s-5Q0O6sNl"
      },
      "source": [
        "3. Create a model using your created classes"
      ]
    },
    {
      "cell_type": "code",
      "source": [
        "model = NaiveSequential([\n",
        "    NaiveDense(input_size=28 * 28, output_size=512, activation = tf.nn.relu),\n",
        "    NaiveDense(input_size=512, output_size=10, activation = tf.nn.softmax)\n",
        "])\n",
        "assert len(model.weights) == 4"
      ],
      "metadata": {
        "id": "IHwrzqLKtVY6"
      },
      "execution_count": null,
      "outputs": []
    },
    {
      "cell_type": "markdown",
      "metadata": {
        "id": "8xTQuWRe6sNl"
      },
      "source": [
        "4. Create a batch generator for your model"
      ]
    },
    {
      "cell_type": "code",
      "source": [
        "import math\n",
        "\n",
        "class BatchGenerator:\n",
        "    def __init__(self, images, labels, batch_size=128):\n",
        "       assert len(images) == len(labels)\n",
        "       self.index = 0\n",
        "       self.images = images\n",
        "       self.labels = labels\n",
        "       self.batch_size = batch_size\n",
        "       self.num_batches = math.ceil(len(images) / batch_size)\n",
        "\n",
        "    def next(self):\n",
        "      images = self.images[self.index : self.index + self.batch_size]\n",
        "      labels = self.labels[self.index : self.index + self.batch_size]\n",
        "      self.index += self.batch_size\n",
        "      return images, labels"
      ],
      "metadata": {
        "id": "p1o8Ol57uw7_"
      },
      "execution_count": null,
      "outputs": []
    },
    {
      "cell_type": "markdown",
      "metadata": {
        "id": "VlugBTlG6sNl"
      },
      "source": [
        "5. Create the update_weigths function to apply the gradients to the models weights. Use a learning rate of $10^{-3}$"
      ]
    },
    {
      "cell_type": "code",
      "source": [
        "learning_rate = 1e-3\n",
        "\n",
        "def update_weights(gradients, weights):\n",
        "   for g, w in zip(gradients, weights):\n",
        "     if g is not None:\n",
        "       w.assign_sub(g * learning_rate)"
      ],
      "metadata": {
        "id": "Rdx96p_uvt4W"
      },
      "execution_count": null,
      "outputs": []
    },
    {
      "cell_type": "markdown",
      "metadata": {
        "id": "9fPima3X6sNl"
      },
      "source": [
        "6. Create the one training step function that obtains one forward and one backward step for a given batch"
      ]
    },
    {
      "cell_type": "code",
      "source": [
        "def one_training_step(model, images_batch, labels_batch):\n",
        "    with tf.GradientTape() as tapes:\n",
        "        predictions = model(images_batch)\n",
        "        per_sample_losses = tf.keras.losses.sparse_categorical_crossentropy(\n",
        "                labels_batch, predictions)\n",
        "        average_loss = tf.reduce_mean(per_sample_losses)\n",
        "    gradients = tapes.gradient(average_loss, model.weights)\n",
        "    update_weights(gradients, model.weights)\n",
        "    return average_loss"
      ],
      "metadata": {
        "id": "1ugURnsMwqa4"
      },
      "execution_count": null,
      "outputs": []
    },
    {
      "cell_type": "markdown",
      "metadata": {
        "id": "P8LLPTqR6sNm"
      },
      "source": [
        "7. Create the function fit that can train the model given a dataset of images/labels over the defined epochs. Set the default batch size to 128."
      ]
    },
    {
      "cell_type": "code",
      "source": [
        "def fit(model, images, labels, epochs, batch_size=128):\n",
        "  for epoch_counter in range(epochs):\n",
        "    print(f\"Epoch {epoch_counter}\")\n",
        "\n",
        "    batch_generator = BatchGenerator(images, labels)\n",
        "    for batch_counter in range(batch_generator.num_batches):\n",
        "        images_batch, labels_batch = batch_generator.next()\n",
        "        loss = one_training_step(model, images_batch, labels_batch)\n",
        "        if batch_counter % 100 == 0:\n",
        "            print(f\"loss at batch {batch_counter}: {loss:2f}\")"
      ],
      "metadata": {
        "id": "sojVxuJHxc4L"
      },
      "execution_count": null,
      "outputs": []
    },
    {
      "cell_type": "markdown",
      "metadata": {
        "id": "ebjvgTDh6sNm"
      },
      "source": [
        "8. Train the model using the MNIST dataset. Use 10 epochs and batch size 128"
      ]
    },
    {
      "cell_type": "code",
      "source": [
        "from tensorflow.keras.datasets import mnist\n",
        "(train_images, train_labels), (test_images, test_labels) = mnist.load_data()\n",
        "\n",
        "train_images = train_images.reshape((60000, 28 * 28))\n",
        "train_images = train_images.astype(\"float32\") / 255\n",
        "test_images = test_images.reshape((10000, 28 * 28))\n",
        "test_images = test_images.astype(\"float32\") / 255\n",
        "\n",
        "fit(model, train_images, train_labels, epochs=10, batch_size=128)"
      ],
      "metadata": {
        "colab": {
          "base_uri": "https://localhost:8080/"
        },
        "id": "F3JeP3R_yQfS",
        "outputId": "cd462c37-c37f-40e3-9a51-3a5a225cbaa6"
      },
      "execution_count": null,
      "outputs": [
        {
          "output_type": "stream",
          "name": "stdout",
          "text": [
            "Epoch 0\n",
            "loss at batch 0: 6.238325\n",
            "loss at batch 100: 6.238325\n",
            "loss at batch 200: 6.238325\n",
            "loss at batch 300: 6.238322\n",
            "loss at batch 400: 6.238325\n",
            "Epoch 1\n",
            "loss at batch 0: 6.238325\n",
            "loss at batch 100: 6.238325\n",
            "loss at batch 200: 6.238325\n",
            "loss at batch 300: 6.238322\n",
            "loss at batch 400: 6.238325\n",
            "Epoch 2\n",
            "loss at batch 0: 6.238325\n",
            "loss at batch 100: 6.238325\n",
            "loss at batch 200: 6.238325\n",
            "loss at batch 300: 6.238322\n",
            "loss at batch 400: 6.238325\n",
            "Epoch 3\n",
            "loss at batch 0: 6.238325\n",
            "loss at batch 100: 6.238325\n",
            "loss at batch 200: 6.238325\n",
            "loss at batch 300: 6.238322\n",
            "loss at batch 400: 6.238325\n",
            "Epoch 4\n",
            "loss at batch 0: 6.238325\n",
            "loss at batch 100: 6.238325\n",
            "loss at batch 200: 6.238325\n",
            "loss at batch 300: 6.238322\n",
            "loss at batch 400: 6.238325\n",
            "Epoch 5\n",
            "loss at batch 0: 6.238325\n",
            "loss at batch 100: 6.238325\n",
            "loss at batch 200: 6.238325\n",
            "loss at batch 300: 6.238322\n",
            "loss at batch 400: 6.238325\n",
            "Epoch 6\n",
            "loss at batch 0: 6.238325\n",
            "loss at batch 100: 6.238325\n",
            "loss at batch 200: 6.238325\n",
            "loss at batch 300: 6.238322\n",
            "loss at batch 400: 6.238325\n",
            "Epoch 7\n",
            "loss at batch 0: 6.238325\n",
            "loss at batch 100: 6.238325\n",
            "loss at batch 200: 6.238325\n",
            "loss at batch 300: 6.238322\n",
            "loss at batch 400: 6.238325\n",
            "Epoch 8\n",
            "loss at batch 0: 6.238325\n",
            "loss at batch 100: 6.238325\n",
            "loss at batch 200: 6.238325\n",
            "loss at batch 300: 6.238322\n",
            "loss at batch 400: 6.238325\n",
            "Epoch 9\n",
            "loss at batch 0: 6.238325\n",
            "loss at batch 100: 6.238325\n",
            "loss at batch 200: 6.238325\n",
            "loss at batch 300: 6.238322\n",
            "loss at batch 400: 6.238325\n"
          ]
        }
      ]
    },
    {
      "cell_type": "markdown",
      "metadata": {
        "id": "eWXPhFoH6sNm"
      },
      "source": [
        "9. Manually compute the accuracy of the model using the mean function of the matching test predictions."
      ]
    },
    {
      "cell_type": "code",
      "source": [
        "predictions = model(test_images)\n",
        "predictions = predictions.numpy()\n",
        "predicted_labels = np.argmax(predictions, axis=1)\n",
        "matches = predicted_labels == test_labels\n",
        "print(f\"accuracy: {matches.mean():.2f}\")"
      ],
      "metadata": {
        "colab": {
          "base_uri": "https://localhost:8080/"
        },
        "id": "lxnYacJGzUJw",
        "outputId": "3b243f16-eddb-4745-a39b-75cb06d5792e"
      },
      "execution_count": null,
      "outputs": [
        {
          "output_type": "stream",
          "name": "stdout",
          "text": [
            "accuracy: 0.00\n"
          ]
        }
      ]
    },
    {
      "cell_type": "markdown",
      "metadata": {
        "id": "HtNcbWs_6sNm"
      },
      "source": [
        "10. Compare the accuracy of the two methods"
      ]
    },
    {
      "cell_type": "code",
      "source": [
        "def compute_accuracy(model, images, labels):\n",
        "    predictions = model(images)\n",
        "    predictions = predictions.numpy()\n",
        "    predicted_labels = np.argmax(predictions, axis=1)\n",
        "    matches = predicted_labels == labels\n",
        "    accuracy = matches.mean()\n",
        "    return accuracy"
      ],
      "metadata": {
        "id": "GK5NkIbDIgIo"
      },
      "execution_count": null,
      "outputs": []
    },
    {
      "cell_type": "code",
      "source": [
        "custom_model_accuracy = compute_accuracy(model, test_images, test_labels)\n",
        "print(f\"Custom Model Accuracy: {custom_model_accuracy:.2f}\")"
      ],
      "metadata": {
        "colab": {
          "base_uri": "https://localhost:8080/"
        },
        "id": "l60EyBdAF4av",
        "outputId": "092db7ec-2cb6-4510-e92e-da84f69df06b"
      },
      "execution_count": null,
      "outputs": [
        {
          "output_type": "stream",
          "name": "stdout",
          "text": [
            "Custom Model Accuracy: 0.00\n"
          ]
        }
      ]
    },
    {
      "cell_type": "code",
      "source": [
        "keras_model_accuracy = keras_model.evaluate(test_images1, test_labels1, verbose=0)[1]\n",
        "print(f\"Keras Model Accuracy: {keras_model_accuracy:.2f}\")"
      ],
      "metadata": {
        "colab": {
          "base_uri": "https://localhost:8080/"
        },
        "id": "fq71k1L2IlvD",
        "outputId": "39cd0040-e466-4402-b0c8-e30ec5021dca"
      },
      "execution_count": null,
      "outputs": [
        {
          "output_type": "stream",
          "name": "stdout",
          "text": [
            "Keras Model Accuracy: 0.98\n"
          ]
        }
      ]
    }
  ],
  "metadata": {
    "colab": {
      "provenance": [],
      "gpuType": "T4",
      "include_colab_link": true
    },
    "kernelspec": {
      "display_name": "Python 3",
      "name": "python3"
    },
    "language_info": {
      "codemirror_mode": {
        "name": "ipython",
        "version": 3
      },
      "file_extension": ".py",
      "mimetype": "text/x-python",
      "name": "python",
      "nbconvert_exporter": "python",
      "pygments_lexer": "ipython3",
      "version": "3.12.3"
    },
    "accelerator": "GPU"
  },
  "nbformat": 4,
  "nbformat_minor": 0
}