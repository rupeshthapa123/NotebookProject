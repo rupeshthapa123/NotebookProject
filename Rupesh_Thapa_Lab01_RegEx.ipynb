{
  "cells": [
    {
      "cell_type": "markdown",
      "metadata": {
        "id": "view-in-github",
        "colab_type": "text"
      },
      "source": [
        "<a href=\"https://colab.research.google.com/github/rupeshthapa123/NotebookProject/blob/main/Rupesh_Thapa_Lab01_RegEx.ipynb\" target=\"_parent\"><img src=\"https://colab.research.google.com/assets/colab-badge.svg\" alt=\"Open In Colab\"/></a>"
      ]
    },
    {
      "cell_type": "markdown",
      "metadata": {
        "id": "SQyTufDmwxWS"
      },
      "source": [
        "# Lab01. Regular Expressions (RegEx)"
      ]
    },
    {
      "cell_type": "markdown",
      "metadata": {
        "id": "VEo7p27GeVFI"
      },
      "source": [
        "In this lab, you will learn the basics of Regular Expressions and their use in Python environment for text processing.\n",
        "\n",
        "Regular expressions are strings with a special syntax that are used to match patterns in other strings. We can, for example, find all web links in a document, parse email addresses or remove/replace unwanted characters to comply with security policies.\n",
        "\n",
        "Some common regex patterns are shown in the table below.\n",
        "\n",
        "| pattern | matches | examples |\n",
        "|:-------:|:-------:|:--------:|\n",
        "| \\w+ | word | 'Magic' |\n",
        "| \\d | digit | 9 |\n",
        "| \\s | space | '' |\n",
        "| .* | wildcard | 'username74' |\n",
        "| + or * | greedy match | 'aaaaaaa' |\n",
        "| \\S | not space | 'no_spaces' |\n",
        "| [a-z] | lowercase group | 'abcdfg' |\n",
        "| [A-Z] | uppercase group | 'ABCDEFG' |\n",
        "| [0-9] | lowercase group | '12345' |\n",
        "\n",
        "Python's default regex library is the \"re\" module. It contains functions for processing text using regular expressions passed as parameters together with the text to be parsed. The most common functions are listed below.\n",
        "\n",
        "- `split`: split a string on regex\n",
        "- `findall`: find all patterns in a string\n",
        "- `search`: search for a pattern\n",
        "- `match`: match an entire string or substring based on a pattern"
      ]
    },
    {
      "cell_type": "markdown",
      "metadata": {
        "id": "UI_PTfku9Aj9"
      },
      "source": [
        "## Basic Regular Expressions"
      ]
    },
    {
      "cell_type": "markdown",
      "metadata": {
        "id": "Rd2OAUYOeVFK"
      },
      "source": [
        "Import the \"re\" library used in Python to process regular expressions and print the help page."
      ]
    },
    {
      "cell_type": "code",
      "execution_count": null,
      "metadata": {
        "id": "i-06ohQqwf98",
        "colab": {
          "base_uri": "https://localhost:8080/"
        },
        "outputId": "41bdb9e7-ad7e-40cc-e0ff-a7c01f2acd2e"
      },
      "outputs": [
        {
          "output_type": "stream",
          "name": "stdout",
          "text": [
            "Help on module re:\n",
            "\n",
            "NAME\n",
            "    re - Support for regular expressions (RE).\n",
            "\n",
            "MODULE REFERENCE\n",
            "    https://docs.python.org/3.10/library/re.html\n",
            "    \n",
            "    The following documentation is automatically generated from the Python\n",
            "    source files.  It may be incomplete, incorrect or include features that\n",
            "    are considered implementation detail and may vary between Python\n",
            "    implementations.  When in doubt, consult the module reference at the\n",
            "    location listed above.\n",
            "\n",
            "DESCRIPTION\n",
            "    This module provides regular expression matching operations similar to\n",
            "    those found in Perl.  It supports both 8-bit and Unicode strings; both\n",
            "    the pattern and the strings being processed can contain null bytes and\n",
            "    characters outside the US ASCII range.\n",
            "    \n",
            "    Regular expressions can contain both special and ordinary characters.\n",
            "    Most ordinary characters, like \"A\", \"a\", or \"0\", are the simplest\n",
            "    regular expressions; they simply match themselves.  You can\n",
            "    concatenate ordinary characters, so last matches the string 'last'.\n",
            "    \n",
            "    The special characters are:\n",
            "        \".\"      Matches any character except a newline.\n",
            "        \"^\"      Matches the start of the string.\n",
            "        \"$\"      Matches the end of the string or just before the newline at\n",
            "                 the end of the string.\n",
            "        \"*\"      Matches 0 or more (greedy) repetitions of the preceding RE.\n",
            "                 Greedy means that it will match as many repetitions as possible.\n",
            "        \"+\"      Matches 1 or more (greedy) repetitions of the preceding RE.\n",
            "        \"?\"      Matches 0 or 1 (greedy) of the preceding RE.\n",
            "        *?,+?,?? Non-greedy versions of the previous three special characters.\n",
            "        {m,n}    Matches from m to n repetitions of the preceding RE.\n",
            "        {m,n}?   Non-greedy version of the above.\n",
            "        \"\\\\\"     Either escapes special characters or signals a special sequence.\n",
            "        []       Indicates a set of characters.\n",
            "                 A \"^\" as the first character indicates a complementing set.\n",
            "        \"|\"      A|B, creates an RE that will match either A or B.\n",
            "        (...)    Matches the RE inside the parentheses.\n",
            "                 The contents can be retrieved or matched later in the string.\n",
            "        (?aiLmsux) The letters set the corresponding flags defined below.\n",
            "        (?:...)  Non-grouping version of regular parentheses.\n",
            "        (?P<name>...) The substring matched by the group is accessible by name.\n",
            "        (?P=name)     Matches the text matched earlier by the group named name.\n",
            "        (?#...)  A comment; ignored.\n",
            "        (?=...)  Matches if ... matches next, but doesn't consume the string.\n",
            "        (?!...)  Matches if ... doesn't match next.\n",
            "        (?<=...) Matches if preceded by ... (must be fixed length).\n",
            "        (?<!...) Matches if not preceded by ... (must be fixed length).\n",
            "        (?(id/name)yes|no) Matches yes pattern if the group with id/name matched,\n",
            "                           the (optional) no pattern otherwise.\n",
            "    \n",
            "    The special sequences consist of \"\\\\\" and a character from the list\n",
            "    below.  If the ordinary character is not on the list, then the\n",
            "    resulting RE will match the second character.\n",
            "        \\number  Matches the contents of the group of the same number.\n",
            "        \\A       Matches only at the start of the string.\n",
            "        \\Z       Matches only at the end of the string.\n",
            "        \\b       Matches the empty string, but only at the start or end of a word.\n",
            "        \\B       Matches the empty string, but not at the start or end of a word.\n",
            "        \\d       Matches any decimal digit; equivalent to the set [0-9] in\n",
            "                 bytes patterns or string patterns with the ASCII flag.\n",
            "                 In string patterns without the ASCII flag, it will match the whole\n",
            "                 range of Unicode digits.\n",
            "        \\D       Matches any non-digit character; equivalent to [^\\d].\n",
            "        \\s       Matches any whitespace character; equivalent to [ \\t\\n\\r\\f\\v] in\n",
            "                 bytes patterns or string patterns with the ASCII flag.\n",
            "                 In string patterns without the ASCII flag, it will match the whole\n",
            "                 range of Unicode whitespace characters.\n",
            "        \\S       Matches any non-whitespace character; equivalent to [^\\s].\n",
            "        \\w       Matches any alphanumeric character; equivalent to [a-zA-Z0-9_]\n",
            "                 in bytes patterns or string patterns with the ASCII flag.\n",
            "                 In string patterns without the ASCII flag, it will match the\n",
            "                 range of Unicode alphanumeric characters (letters plus digits\n",
            "                 plus underscore).\n",
            "                 With LOCALE, it will match the set [0-9_] plus characters defined\n",
            "                 as letters for the current locale.\n",
            "        \\W       Matches the complement of \\w.\n",
            "        \\\\       Matches a literal backslash.\n",
            "    \n",
            "    This module exports the following functions:\n",
            "        match     Match a regular expression pattern to the beginning of a string.\n",
            "        fullmatch Match a regular expression pattern to all of a string.\n",
            "        search    Search a string for the presence of a pattern.\n",
            "        sub       Substitute occurrences of a pattern found in a string.\n",
            "        subn      Same as sub, but also return the number of substitutions made.\n",
            "        split     Split a string by the occurrences of a pattern.\n",
            "        findall   Find all occurrences of a pattern in a string.\n",
            "        finditer  Return an iterator yielding a Match object for each match.\n",
            "        compile   Compile a pattern into a Pattern object.\n",
            "        purge     Clear the regular expression cache.\n",
            "        escape    Backslash all non-alphanumerics in a string.\n",
            "    \n",
            "    Each function other than purge and escape can take an optional 'flags' argument\n",
            "    consisting of one or more of the following module constants, joined by \"|\".\n",
            "    A, L, and U are mutually exclusive.\n",
            "        A  ASCII       For string patterns, make \\w, \\W, \\b, \\B, \\d, \\D\n",
            "                       match the corresponding ASCII character categories\n",
            "                       (rather than the whole Unicode categories, which is the\n",
            "                       default).\n",
            "                       For bytes patterns, this flag is the only available\n",
            "                       behaviour and needn't be specified.\n",
            "        I  IGNORECASE  Perform case-insensitive matching.\n",
            "        L  LOCALE      Make \\w, \\W, \\b, \\B, dependent on the current locale.\n",
            "        M  MULTILINE   \"^\" matches the beginning of lines (after a newline)\n",
            "                       as well as the string.\n",
            "                       \"$\" matches the end of lines (before a newline) as well\n",
            "                       as the end of the string.\n",
            "        S  DOTALL      \".\" matches any character at all, including the newline.\n",
            "        X  VERBOSE     Ignore whitespace and comments for nicer looking RE's.\n",
            "        U  UNICODE     For compatibility only. Ignored for string patterns (it\n",
            "                       is the default), and forbidden for bytes patterns.\n",
            "    \n",
            "    This module also defines an exception 'error'.\n",
            "\n",
            "CLASSES\n",
            "    builtins.Exception(builtins.BaseException)\n",
            "        error\n",
            "    builtins.object\n",
            "        Match\n",
            "        Pattern\n",
            "    \n",
            "    class Match(builtins.object)\n",
            "     |  The result of re.match() and re.search().\n",
            "     |  Match objects always have a boolean value of True.\n",
            "     |  \n",
            "     |  Methods defined here:\n",
            "     |  \n",
            "     |  __copy__(self, /)\n",
            "     |  \n",
            "     |  __deepcopy__(self, memo, /)\n",
            "     |  \n",
            "     |  __getitem__(self, key, /)\n",
            "     |      Return self[key].\n",
            "     |  \n",
            "     |  __repr__(self, /)\n",
            "     |      Return repr(self).\n",
            "     |  \n",
            "     |  end(self, group=0, /)\n",
            "     |      Return index of the end of the substring matched by group.\n",
            "     |  \n",
            "     |  expand(self, /, template)\n",
            "     |      Return the string obtained by doing backslash substitution on the string template, as done by the sub() method.\n",
            "     |  \n",
            "     |  group(...)\n",
            "     |      group([group1, ...]) -> str or tuple.\n",
            "     |      Return subgroup(s) of the match by indices or names.\n",
            "     |      For 0 returns the entire match.\n",
            "     |  \n",
            "     |  groupdict(self, /, default=None)\n",
            "     |      Return a dictionary containing all the named subgroups of the match, keyed by the subgroup name.\n",
            "     |      \n",
            "     |      default\n",
            "     |        Is used for groups that did not participate in the match.\n",
            "     |  \n",
            "     |  groups(self, /, default=None)\n",
            "     |      Return a tuple containing all the subgroups of the match, from 1.\n",
            "     |      \n",
            "     |      default\n",
            "     |        Is used for groups that did not participate in the match.\n",
            "     |  \n",
            "     |  span(self, group=0, /)\n",
            "     |      For match object m, return the 2-tuple (m.start(group), m.end(group)).\n",
            "     |  \n",
            "     |  start(self, group=0, /)\n",
            "     |      Return index of the start of the substring matched by group.\n",
            "     |  \n",
            "     |  ----------------------------------------------------------------------\n",
            "     |  Class methods defined here:\n",
            "     |  \n",
            "     |  __class_getitem__(...) from builtins.type\n",
            "     |      See PEP 585\n",
            "     |  \n",
            "     |  ----------------------------------------------------------------------\n",
            "     |  Data descriptors defined here:\n",
            "     |  \n",
            "     |  endpos\n",
            "     |      The index into the string beyond which the RE engine will not go.\n",
            "     |  \n",
            "     |  lastgroup\n",
            "     |      The name of the last matched capturing group.\n",
            "     |  \n",
            "     |  lastindex\n",
            "     |      The integer index of the last matched capturing group.\n",
            "     |  \n",
            "     |  pos\n",
            "     |      The index into the string at which the RE engine started looking for a match.\n",
            "     |  \n",
            "     |  re\n",
            "     |      The regular expression object.\n",
            "     |  \n",
            "     |  regs\n",
            "     |  \n",
            "     |  string\n",
            "     |      The string passed to match() or search().\n",
            "    \n",
            "    class Pattern(builtins.object)\n",
            "     |  Compiled regular expression object.\n",
            "     |  \n",
            "     |  Methods defined here:\n",
            "     |  \n",
            "     |  __copy__(self, /)\n",
            "     |  \n",
            "     |  __deepcopy__(self, memo, /)\n",
            "     |  \n",
            "     |  __eq__(self, value, /)\n",
            "     |      Return self==value.\n",
            "     |  \n",
            "     |  __ge__(self, value, /)\n",
            "     |      Return self>=value.\n",
            "     |  \n",
            "     |  __gt__(self, value, /)\n",
            "     |      Return self>value.\n",
            "     |  \n",
            "     |  __hash__(self, /)\n",
            "     |      Return hash(self).\n",
            "     |  \n",
            "     |  __le__(self, value, /)\n",
            "     |      Return self<=value.\n",
            "     |  \n",
            "     |  __lt__(self, value, /)\n",
            "     |      Return self<value.\n",
            "     |  \n",
            "     |  __ne__(self, value, /)\n",
            "     |      Return self!=value.\n",
            "     |  \n",
            "     |  __repr__(self, /)\n",
            "     |      Return repr(self).\n",
            "     |  \n",
            "     |  findall(self, /, string, pos=0, endpos=9223372036854775807)\n",
            "     |      Return a list of all non-overlapping matches of pattern in string.\n",
            "     |  \n",
            "     |  finditer(self, /, string, pos=0, endpos=9223372036854775807)\n",
            "     |      Return an iterator over all non-overlapping matches for the RE pattern in string.\n",
            "     |      \n",
            "     |      For each match, the iterator returns a match object.\n",
            "     |  \n",
            "     |  fullmatch(self, /, string, pos=0, endpos=9223372036854775807)\n",
            "     |      Matches against all of the string.\n",
            "     |  \n",
            "     |  match(self, /, string, pos=0, endpos=9223372036854775807)\n",
            "     |      Matches zero or more characters at the beginning of the string.\n",
            "     |  \n",
            "     |  scanner(self, /, string, pos=0, endpos=9223372036854775807)\n",
            "     |  \n",
            "     |  search(self, /, string, pos=0, endpos=9223372036854775807)\n",
            "     |      Scan through string looking for a match, and return a corresponding match object instance.\n",
            "     |      \n",
            "     |      Return None if no position in the string matches.\n",
            "     |  \n",
            "     |  split(self, /, string, maxsplit=0)\n",
            "     |      Split string by the occurrences of pattern.\n",
            "     |  \n",
            "     |  sub(self, /, repl, string, count=0)\n",
            "     |      Return the string obtained by replacing the leftmost non-overlapping occurrences of pattern in string by the replacement repl.\n",
            "     |  \n",
            "     |  subn(self, /, repl, string, count=0)\n",
            "     |      Return the tuple (new_string, number_of_subs_made) found by replacing the leftmost non-overlapping occurrences of pattern with the replacement repl.\n",
            "     |  \n",
            "     |  ----------------------------------------------------------------------\n",
            "     |  Class methods defined here:\n",
            "     |  \n",
            "     |  __class_getitem__(...) from builtins.type\n",
            "     |      See PEP 585\n",
            "     |  \n",
            "     |  ----------------------------------------------------------------------\n",
            "     |  Data descriptors defined here:\n",
            "     |  \n",
            "     |  flags\n",
            "     |      The regex matching flags.\n",
            "     |  \n",
            "     |  groupindex\n",
            "     |      A dictionary mapping group names to group numbers.\n",
            "     |  \n",
            "     |  groups\n",
            "     |      The number of capturing groups in the pattern.\n",
            "     |  \n",
            "     |  pattern\n",
            "     |      The pattern string from which the RE object was compiled.\n",
            "    \n",
            "    class error(builtins.Exception)\n",
            "     |  error(msg, pattern=None, pos=None)\n",
            "     |  \n",
            "     |  Exception raised for invalid regular expressions.\n",
            "     |  \n",
            "     |  Attributes:\n",
            "     |  \n",
            "     |      msg: The unformatted error message\n",
            "     |      pattern: The regular expression pattern\n",
            "     |      pos: The index in the pattern where compilation failed (may be None)\n",
            "     |      lineno: The line corresponding to pos (may be None)\n",
            "     |      colno: The column corresponding to pos (may be None)\n",
            "     |  \n",
            "     |  Method resolution order:\n",
            "     |      error\n",
            "     |      builtins.Exception\n",
            "     |      builtins.BaseException\n",
            "     |      builtins.object\n",
            "     |  \n",
            "     |  Methods defined here:\n",
            "     |  \n",
            "     |  __init__(self, msg, pattern=None, pos=None)\n",
            "     |      Initialize self.  See help(type(self)) for accurate signature.\n",
            "     |  \n",
            "     |  ----------------------------------------------------------------------\n",
            "     |  Data descriptors defined here:\n",
            "     |  \n",
            "     |  __weakref__\n",
            "     |      list of weak references to the object (if defined)\n",
            "     |  \n",
            "     |  ----------------------------------------------------------------------\n",
            "     |  Static methods inherited from builtins.Exception:\n",
            "     |  \n",
            "     |  __new__(*args, **kwargs) from builtins.type\n",
            "     |      Create and return a new object.  See help(type) for accurate signature.\n",
            "     |  \n",
            "     |  ----------------------------------------------------------------------\n",
            "     |  Methods inherited from builtins.BaseException:\n",
            "     |  \n",
            "     |  __delattr__(self, name, /)\n",
            "     |      Implement delattr(self, name).\n",
            "     |  \n",
            "     |  __getattribute__(self, name, /)\n",
            "     |      Return getattr(self, name).\n",
            "     |  \n",
            "     |  __reduce__(...)\n",
            "     |      Helper for pickle.\n",
            "     |  \n",
            "     |  __repr__(self, /)\n",
            "     |      Return repr(self).\n",
            "     |  \n",
            "     |  __setattr__(self, name, value, /)\n",
            "     |      Implement setattr(self, name, value).\n",
            "     |  \n",
            "     |  __setstate__(...)\n",
            "     |  \n",
            "     |  __str__(self, /)\n",
            "     |      Return str(self).\n",
            "     |  \n",
            "     |  with_traceback(...)\n",
            "     |      Exception.with_traceback(tb) --\n",
            "     |      set self.__traceback__ to tb and return self.\n",
            "     |  \n",
            "     |  ----------------------------------------------------------------------\n",
            "     |  Data descriptors inherited from builtins.BaseException:\n",
            "     |  \n",
            "     |  __cause__\n",
            "     |      exception cause\n",
            "     |  \n",
            "     |  __context__\n",
            "     |      exception context\n",
            "     |  \n",
            "     |  __dict__\n",
            "     |  \n",
            "     |  __suppress_context__\n",
            "     |  \n",
            "     |  __traceback__\n",
            "     |  \n",
            "     |  args\n",
            "\n",
            "FUNCTIONS\n",
            "    compile(pattern, flags=0)\n",
            "        Compile a regular expression pattern, returning a Pattern object.\n",
            "    \n",
            "    escape(pattern)\n",
            "        Escape special characters in a string.\n",
            "    \n",
            "    findall(pattern, string, flags=0)\n",
            "        Return a list of all non-overlapping matches in the string.\n",
            "        \n",
            "        If one or more capturing groups are present in the pattern, return\n",
            "        a list of groups; this will be a list of tuples if the pattern\n",
            "        has more than one group.\n",
            "        \n",
            "        Empty matches are included in the result.\n",
            "    \n",
            "    finditer(pattern, string, flags=0)\n",
            "        Return an iterator over all non-overlapping matches in the\n",
            "        string.  For each match, the iterator returns a Match object.\n",
            "        \n",
            "        Empty matches are included in the result.\n",
            "    \n",
            "    fullmatch(pattern, string, flags=0)\n",
            "        Try to apply the pattern to all of the string, returning\n",
            "        a Match object, or None if no match was found.\n",
            "    \n",
            "    match(pattern, string, flags=0)\n",
            "        Try to apply the pattern at the start of the string, returning\n",
            "        a Match object, or None if no match was found.\n",
            "    \n",
            "    purge()\n",
            "        Clear the regular expression caches\n",
            "    \n",
            "    search(pattern, string, flags=0)\n",
            "        Scan through string looking for a match to the pattern, returning\n",
            "        a Match object, or None if no match was found.\n",
            "    \n",
            "    split(pattern, string, maxsplit=0, flags=0)\n",
            "        Split the source string by the occurrences of the pattern,\n",
            "        returning a list containing the resulting substrings.  If\n",
            "        capturing parentheses are used in pattern, then the text of all\n",
            "        groups in the pattern are also returned as part of the resulting\n",
            "        list.  If maxsplit is nonzero, at most maxsplit splits occur,\n",
            "        and the remainder of the string is returned as the final element\n",
            "        of the list.\n",
            "    \n",
            "    sub(pattern, repl, string, count=0, flags=0)\n",
            "        Return the string obtained by replacing the leftmost\n",
            "        non-overlapping occurrences of the pattern in string by the\n",
            "        replacement repl.  repl can be either a string or a callable;\n",
            "        if a string, backslash escapes in it are processed.  If it is\n",
            "        a callable, it's passed the Match object and must return\n",
            "        a replacement string to be used.\n",
            "    \n",
            "    subn(pattern, repl, string, count=0, flags=0)\n",
            "        Return a 2-tuple containing (new_string, number).\n",
            "        new_string is the string obtained by replacing the leftmost\n",
            "        non-overlapping occurrences of the pattern in the source\n",
            "        string by the replacement repl.  number is the number of\n",
            "        substitutions that were made. repl can be either a string or a\n",
            "        callable; if a string, backslash escapes in it are processed.\n",
            "        If it is a callable, it's passed the Match object and must\n",
            "        return a replacement string to be used.\n",
            "    \n",
            "    template(pattern, flags=0)\n",
            "        Compile a template pattern, returning a Pattern object\n",
            "\n",
            "DATA\n",
            "    A = re.ASCII\n",
            "    ASCII = re.ASCII\n",
            "    DOTALL = re.DOTALL\n",
            "    I = re.IGNORECASE\n",
            "    IGNORECASE = re.IGNORECASE\n",
            "    L = re.LOCALE\n",
            "    LOCALE = re.LOCALE\n",
            "    M = re.MULTILINE\n",
            "    MULTILINE = re.MULTILINE\n",
            "    S = re.DOTALL\n",
            "    U = re.UNICODE\n",
            "    UNICODE = re.UNICODE\n",
            "    VERBOSE = re.VERBOSE\n",
            "    X = re.VERBOSE\n",
            "    __all__ = ['match', 'fullmatch', 'search', 'sub', 'subn', 'split', 'fi...\n",
            "\n",
            "VERSION\n",
            "    2.2.1\n",
            "\n",
            "FILE\n",
            "    /usr/lib/python3.10/re.py\n",
            "\n",
            "\n",
            "None\n"
          ]
        }
      ],
      "source": [
        "import re\n",
        "print(help(re))"
      ]
    },
    {
      "cell_type": "markdown",
      "metadata": {
        "id": "634FNso0RcuT"
      },
      "source": [
        "### Match\n",
        "You can use match to find the occurence of a string at the beginning of a text."
      ]
    },
    {
      "cell_type": "markdown",
      "metadata": {
        "id": "az9UzER5eVFN"
      },
      "source": [
        "0. Use the `match` function to find the occurrences of lowercase at the start of `abcdef`"
      ]
    },
    {
      "cell_type": "code",
      "execution_count": null,
      "metadata": {
        "id": "c6_WmRbBxNkT",
        "colab": {
          "base_uri": "https://localhost:8080/"
        },
        "outputId": "e2669bb6-3cb3-466e-fbb2-ad067b166edc"
      },
      "outputs": [
        {
          "output_type": "execute_result",
          "data": {
            "text/plain": [
              "<re.Match object; span=(0, 1), match='a'>"
            ]
          },
          "metadata": {},
          "execution_count": 2
        }
      ],
      "source": [
        "regex = r'[a-z]'\n",
        "target = 'abcdef'\n",
        "re.match(regex, target)"
      ]
    },
    {
      "cell_type": "markdown",
      "metadata": {
        "id": "USXoSYg9eVFO"
      },
      "source": [
        "1. Use the `match` function to find the occurrence of `woodchuck` or `Woodchuck` in  the sentence `Woodchuck is one of the most common animals in the planet Mars.`"
      ]
    },
    {
      "cell_type": "code",
      "execution_count": null,
      "metadata": {
        "colab": {
          "base_uri": "https://localhost:8080/"
        },
        "id": "76QyuE7eeVFQ",
        "outputId": "30b8c279-4a9c-444b-abf8-5dd20896ae3e"
      },
      "outputs": [
        {
          "output_type": "execute_result",
          "data": {
            "text/plain": [
              "<re.Match object; span=(0, 9), match='Woodchuck'>"
            ]
          },
          "metadata": {},
          "execution_count": 3
        }
      ],
      "source": [
        "sentence = 'Woodchuck is one of the most common animals in the planet Mars'\n",
        "regex = r\"\\b[wW]oodchuck+\\b\"\n",
        "re.match(regex, sentence)"
      ]
    },
    {
      "cell_type": "markdown",
      "metadata": {
        "id": "iGA-KaOTeVFQ"
      },
      "source": [
        "2. Use the `match` function to find the occurrence of `woodchuck`, `Woodchuck`, `groundhog` or `Groundhog` in  the sentence `groundhog is one of the most common animals in the planet Mars.`"
      ]
    },
    {
      "cell_type": "code",
      "execution_count": null,
      "metadata": {
        "colab": {
          "base_uri": "https://localhost:8080/"
        },
        "id": "ynoPELvceVFR",
        "outputId": "5d72a3bd-b9d2-401d-e90c-2b48cb9c1140"
      },
      "outputs": [
        {
          "output_type": "execute_result",
          "data": {
            "text/plain": [
              "<re.Match object; span=(0, 9), match='groundhog'>"
            ]
          },
          "metadata": {},
          "execution_count": 4
        }
      ],
      "source": [
        "sentence = 'groundhog is one of the most common animals in the planet Mars'\n",
        "regex = r\"\\b[gG]roundhog+|[wW]oodchuck+\\b\"\n",
        "re.match(regex, sentence)"
      ]
    },
    {
      "cell_type": "markdown",
      "metadata": {
        "id": "KOyL2sQUeVFS"
      },
      "source": [
        "You can use the `compile` function to create a pattern to be used with different strings."
      ]
    },
    {
      "cell_type": "code",
      "execution_count": null,
      "metadata": {
        "id": "WG4OY2h0UzK1",
        "colab": {
          "base_uri": "https://localhost:8080/"
        },
        "outputId": "c6e4ed92-74b1-4b3b-a964-c5736d977f51"
      },
      "outputs": [
        {
          "output_type": "stream",
          "name": "stdout",
          "text": [
            "J\n"
          ]
        }
      ],
      "source": [
        "str_pattern = r\"\\w\"\n",
        "pattern = re.compile(str_pattern)\n",
        "target_string = \"Jessa salary is 8000$\"\n",
        "result = pattern.match(target_string)\n",
        "print(result.group())"
      ]
    },
    {
      "cell_type": "markdown",
      "metadata": {
        "id": "sYWzDLwLRm3B"
      },
      "source": [
        "### Search"
      ]
    },
    {
      "cell_type": "markdown",
      "metadata": {
        "id": "Rcb-cg_5Wpzi"
      },
      "source": [
        "You can use search to find the first occurence of a string across the entire text."
      ]
    },
    {
      "cell_type": "code",
      "execution_count": null,
      "metadata": {
        "colab": {
          "base_uri": "https://localhost:8080/"
        },
        "id": "Lg_Pmsl1_ous",
        "outputId": "241d88b5-9dce-4754-933a-999ca7632927"
      },
      "outputs": [
        {
          "output_type": "execute_result",
          "data": {
            "text/plain": [
              "<re.Match object; span=(2, 5), match='cde'>"
            ]
          },
          "metadata": {},
          "execution_count": 6
        }
      ],
      "source": [
        "re.search('cde','abcde')"
      ]
    },
    {
      "cell_type": "markdown",
      "metadata": {
        "id": "zaw1QjQveVFT"
      },
      "source": [
        "1. Find the first occurence of any digit in `The annual salary is 500K`"
      ]
    },
    {
      "cell_type": "code",
      "execution_count": null,
      "metadata": {
        "colab": {
          "base_uri": "https://localhost:8080/"
        },
        "id": "n05CA3SFeVFT",
        "outputId": "fb296113-1412-41ba-cf60-0a140d5900cb"
      },
      "outputs": [
        {
          "output_type": "execute_result",
          "data": {
            "text/plain": [
              "<re.Match object; span=(21, 22), match='5'>"
            ]
          },
          "metadata": {},
          "execution_count": 7
        }
      ],
      "source": [
        "sentence = 'The annual salary is 500K'\n",
        "re.search('[0-9]',sentence)"
      ]
    },
    {
      "cell_type": "markdown",
      "metadata": {
        "id": "fb8GifUTWmGU"
      },
      "source": [
        "2. Find the first occurence of `very` in the sentence `My computer gives a very good performance in a very short time.`"
      ]
    },
    {
      "cell_type": "code",
      "execution_count": null,
      "metadata": {
        "colab": {
          "base_uri": "https://localhost:8080/"
        },
        "id": "PXJ0v8mCeVFU",
        "outputId": "585a5804-1e86-4256-a4ca-5a87764c23ee"
      },
      "outputs": [
        {
          "output_type": "execute_result",
          "data": {
            "text/plain": [
              "<re.Match object; span=(20, 24), match='very'>"
            ]
          },
          "metadata": {},
          "execution_count": 8
        }
      ],
      "source": [
        "sentence = \"My computer gives a very good performance in a very short time.\"\n",
        "re.search('very',sentence)"
      ]
    },
    {
      "cell_type": "markdown",
      "metadata": {
        "id": "AO-J4V0yRjwA"
      },
      "source": [
        "### Split\n",
        "Use `split` to split a text based on a regular expression."
      ]
    },
    {
      "cell_type": "code",
      "execution_count": null,
      "metadata": {
        "id": "sYGj1FfR-2pM",
        "outputId": "4da35ac7-527c-4499-b6eb-bb6b9ab06b15",
        "colab": {
          "base_uri": "https://localhost:8080/"
        }
      },
      "outputs": [
        {
          "output_type": "execute_result",
          "data": {
            "text/plain": [
              "['split', 'on', 'spaces']"
            ]
          },
          "metadata": {},
          "execution_count": 9
        }
      ],
      "source": [
        "re.split(r'\\s+','split on spaces')"
      ]
    },
    {
      "cell_type": "markdown",
      "metadata": {
        "id": "LZR_zVJoeVFV"
      },
      "source": [
        "Create a function that receives a sentence as parameter, splits it by spaces and then prints it in backwards order. i.e. `hello world` -> `world hello`"
      ]
    },
    {
      "cell_type": "code",
      "execution_count": null,
      "metadata": {
        "colab": {
          "base_uri": "https://localhost:8080/"
        },
        "id": "3JvaMcFDeVFV",
        "outputId": "70220992-89e2-4c5d-d19c-eb14ea8d7fe8"
      },
      "outputs": [
        {
          "output_type": "stream",
          "name": "stdout",
          "text": [
            "world hello\n"
          ]
        }
      ],
      "source": [
        "sentence = \"hello world\"\n",
        "def backrev(sentence):\n",
        "  reve = re.split(r'\\s+',sentence)\n",
        "  reve.reverse()\n",
        "  text = \" \".join(reve)\n",
        "  print(text)\n",
        "\n",
        "backrev(sentence)"
      ]
    },
    {
      "cell_type": "markdown",
      "metadata": {
        "id": "l0WLGayvRrtI"
      },
      "source": [
        "### Findall\n",
        "Findall finds all the occurences of a regex and returns a list of the matched strings."
      ]
    },
    {
      "cell_type": "markdown",
      "metadata": {
        "id": "1Rvj8lRgeVFV"
      },
      "source": [
        "0. Find the spaces in the given sentence."
      ]
    },
    {
      "cell_type": "code",
      "execution_count": null,
      "metadata": {
        "colab": {
          "base_uri": "https://localhost:8080/"
        },
        "id": "OJNqZkFwBAlF",
        "outputId": "9601132b-f8b2-411a-8e03-6974140f1cc4"
      },
      "outputs": [
        {
          "output_type": "execute_result",
          "data": {
            "text/plain": [
              "[' ', ' ', ' ']"
            ]
          },
          "metadata": {},
          "execution_count": 11
        }
      ],
      "source": [
        "PATTERN = r\"\\s+\"\n",
        "my_string = \" let's write RegEx!\"\n",
        "re.findall (PATTERN,my_string)"
      ]
    },
    {
      "cell_type": "markdown",
      "metadata": {
        "id": "vrTAdSVDeVFW"
      },
      "source": [
        "1. Find all the digits in `The foreign key is 76ED90E6784EEFABC0`"
      ]
    },
    {
      "cell_type": "code",
      "execution_count": null,
      "metadata": {
        "id": "CZdmWj6XeVFW",
        "colab": {
          "base_uri": "https://localhost:8080/"
        },
        "outputId": "1704e0fb-a704-480b-9335-c96a90d4198f"
      },
      "outputs": [
        {
          "output_type": "execute_result",
          "data": {
            "text/plain": [
              "['76', '90', '6784', '0']"
            ]
          },
          "metadata": {},
          "execution_count": 15
        }
      ],
      "source": [
        "string_Sen = \"The foreign key is 76ED90E6784EEFABC0\"\n",
        "re.findall (r\"\\d+\",string_Sen)"
      ]
    },
    {
      "cell_type": "markdown",
      "metadata": {
        "id": "kawDd-7beVFW"
      },
      "source": [
        "2. Find all the occurences of `the` or `The` in the text:\n",
        "\n",
        "> `On offering to help the blind man, the man who then stole his car, had not, at that precise moment, had any evil intention, quite the contrary, what he did was nothing more than obey those feelings of generosity and altruism which, as everyone knows, are the two best traits of human nature and to be found in much more hardened criminals than this one, a simple car-thief without any hope of advancing in his profession, exploited by the real owners of this enterprise, for it is they who take advantage of the needs of the poor.`"
      ]
    },
    {
      "cell_type": "code",
      "execution_count": null,
      "metadata": {
        "id": "RV8666UzeVFX",
        "colab": {
          "base_uri": "https://localhost:8080/"
        },
        "outputId": "282cd979-08d6-4f63-8250-c5b7d382a8b6"
      },
      "outputs": [
        {
          "output_type": "execute_result",
          "data": {
            "text/plain": [
              "['the', 'the', 'the', 'the', 'the', 'the', 'the', 'the', 'the']"
            ]
          },
          "metadata": {},
          "execution_count": 23
        }
      ],
      "source": [
        "string_sen = \"On offering to help the blind man, the man who then stole his car,\\\n",
        "              had not, at that precise moment, had any evil intention, quite the\\\n",
        "              contrary, what he did was nothing more than obey those feelings of \\\n",
        "              generosity and altruism which, as everyone knows, are the two best \\\n",
        "              traits of human nature and to be found in much more hardened criminals than this one, \\\n",
        "              a simple car-thief without any hope of advancing in his profession, exploited by the real \\\n",
        "              owners of this enterprise, for it is they who take advantage of the needs of the poor.\"\n",
        "\n",
        "re.findall (r\"[tT]he\",string_sen)\n"
      ]
    },
    {
      "cell_type": "markdown",
      "metadata": {
        "id": "79TT6Q96MgS3"
      },
      "source": [
        "### Sub\n",
        "Use `sub` to substitute a matching regex from a text."
      ]
    },
    {
      "cell_type": "markdown",
      "metadata": {
        "id": "X-D0L-PxeVFX"
      },
      "source": [
        "0. Replace all spaces for dashes in a text."
      ]
    },
    {
      "cell_type": "code",
      "execution_count": null,
      "metadata": {
        "id": "vMMctRv1MVmk",
        "colab": {
          "base_uri": "https://localhost:8080/"
        },
        "outputId": "a8adae67-868f-48af-e07f-cb3b4bda046b"
      },
      "outputs": [
        {
          "output_type": "stream",
          "name": "stdout",
          "text": [
            "Jessa-salary-is-8000$\n"
          ]
        }
      ],
      "source": [
        "target_string = \"Jessa salary is 8000$\"\n",
        "result= re.sub(r\"\\s\", \"-\", target_string)\n",
        "print(result)"
      ]
    },
    {
      "cell_type": "markdown",
      "metadata": {
        "id": "zl4GadcMeVFY"
      },
      "source": [
        "1. Replace `and` with `not only` in the text:\n",
        "\n",
        "> `In the loveliest town of all, where the houses were white and high and the elms trees were green and higher than the houses, where the front yards were wide and pleasant and the back yards were bushy and worth finding out about, where the streets sloped down to the stream and the stream flowed quietly under the bridge, where the lawns ended in orchards and the orchards ended in fields and the fields ended in pastures and the pastures climbed the hill and disappeared over the top toward the wonderful wide sky, in this loveliest of all towns Stuart stopped to get a drink of sarsaparilla.`"
      ]
    },
    {
      "cell_type": "code",
      "execution_count": null,
      "metadata": {
        "id": "eIbGC6fgeVFY",
        "colab": {
          "base_uri": "https://localhost:8080/"
        },
        "outputId": "fd21ae62-b674-4a14-e096-06183b87887f"
      },
      "outputs": [
        {
          "output_type": "stream",
          "name": "stdout",
          "text": [
            "In the loveliest town of all, where the houses were white not only high not only the elms trees were green not only higher than the houses, where the front yards were wide not only pleasant not only the back yards were bushy not only worth finding out about, where the streets sloped down to the stream not only the stream flowed quietly under the bridge, where the lawns ended in orchards  not only the orchards ended in fields not only the fields ended in pastures not only the pastures climbed the hill not only disappeared over   the top toward the wonderful wide sky, in this loveliest of all towns Stuart stopped to get a drink of sarsaparilla.\n"
          ]
        }
      ],
      "source": [
        "targ_str = \"In the loveliest town of all, where the houses were white and high and the elms trees were green and higher \\\n",
        "than the houses, where the front yards were wide and pleasant and the back yards were bushy and worth finding out about,\\\n",
        " where the streets sloped down to the stream and the stream flowed quietly under the bridge, where the lawns ended in orchards\\\n",
        "  and the orchards ended in fields and the fields ended in pastures and the pastures climbed the hill and disappeared over\\\n",
        "   the top toward the wonderful wide sky, in this loveliest of all towns Stuart stopped to get a drink of sarsaparilla.\"\n",
        "\n",
        "results = re.sub(r\"and\", \"not only\", targ_str)\n",
        "print(results)"
      ]
    },
    {
      "cell_type": "markdown",
      "metadata": {
        "id": "I4I3WXVOBnbc"
      },
      "source": [
        "### Exercises\n",
        "\n",
        "Given the text below:\n",
        "\n",
        "> `At our state-of-the-art data center, we have a dedicated team of professionals ensuring smooth operations. Leading our team is John Doe (john.doe@datacenter.com, 555-123-4567), residing at 123 Tech Lane, Silicon Valley, CA 94025. Assisting him is Jane Smith (jane.smith@datacenter.com, 555-234-5678) from 456 Innovation Drive, Silicon Valley, CA 94025. Our network specialist, Mark Johnson (mark.johnson@datacenter.com, 555-345-6789), lives at 789 Data Blvd, Silicon Valley, CA 94025. Data analyst Emily Davis (emily.davis@datacenter.com, 555-456-7890) is at 101 Server St, Silicon Valley, CA 94025. Joining them are Sarah Brown (sarah.brown@datacenter.com, 555-567-8901), 234 Cloud Ave, Silicon Valley, CA 94025; Michael Miller (michael.miller@datacenter.com, 555-678-9012), 345 Network Rd, Silicon Valley, CA 94025; Jessica Wilson (jessica.wilson@datacenter.com, 555-789-0123), 456 Tech Park, Silicon Valley, CA 94025; David Taylor (david.taylor@datacenter.com, 555-890-1234), 567 Server Blvd, Silicon Valley, CA 94025; Elizabeth Anderson (elizabeth.anderson@datacenter.com, 555-901-2345), 678 Data St, Silicon Valley, CA 94025; Robert Thomas (robert.thomas@datacenter.com, 555-012-3456), 789 Network Ln, Silicon Valley, CA 94025; Mary Jackson (mary.jackson@datacenter.com, 555-123-4568), 890 Tech Dr, Silicon Valley, CA 94025; William White (william.white@datacenter.com, 555-234-5679), 901 Innovation Way, Silicon Valley, CA 94025; Linda Harris (linda.harris@datacenter.com, 555-345-6780), 102 Server Circle, Silicon Valley, CA 94025; and Kevin Martin (kevin.martin@datacenter.com, 555-456-7891), 203 Data Plaza, Silicon Valley, CA 94025. The team also includes Barbara Lee (barbara.lee@datacenter.com, 555-567-8902), 304 Network Blvd, Silicon Valley, CA 94025; James Walker (james.walker@datacenter.com, 555-678-9013), 405 Cloud St, Silicon Valley, CA 94025; Patricia Hall (patricia.hall@datacenter.com, 555-789-0124), 506 Tech Ave, Silicon Valley, CA 94025; Richard Allen (richard.allen@datacenter.com, 555-890-1235), 607 Server Rd, Silicon Valley, CA 94025; Maria Young (maria.young@datacenter.com, 555-901-2346), 708 Data Way, Silicon Valley, CA 94025; Charles Hernandez (charles.hernandez@datacenter.com, 555-012-3457), 809 Network Circle, Silicon Valley, CA 94025; Jennifer King (jennifer.king@datacenter.com, 555-123-4569), 910 Innovation Blvd, Silicon Valley, CA 94025; Christopher Wright (christopher.wright@datacenter.com, 555-234-5670), 112 Server St, Silicon Valley, CA 94025; Susan Lopez (susan.lopez@datacenter.com, 555-345-6781), 213 Data Dr, Silicon Valley, CA 94025; and Daniel Scott (daniel.scott@datacenter.com, 555-456-7892), 314 Network Ave, Silicon Valley, CA 94025. Additional team members include Nancy Hill (nancy.hill@datacenter.com, 555-567-8903), 415 Cloud Blvd, Silicon Valley, CA 94025; Paul Green (paul.green@datacenter.com, 555-678-9014), 516 Tech Circle, Silicon Valley, CA 94025; Karen Adams (karen.adams@datacenter.com, 555-789-0125), 617 Server Way, Silicon Valley, CA 94025; Matthew Baker (matthew.baker@datacenter.com, 555-890-1236), 718 Data Rd, Silicon Valley, CA 94025; Lisa Nelson (lisa.nelson@datacenter.com, 555-901-2347), 819 Network Plaza, Silicon Valley, CA 94025; Anthony Carter (anthony.carter@datacenter.com, 555-012-3458), 920 Cloud Dr, Silicon Valley, CA 94025; Dorothy Mitchell (dorothy.mitchell@datacenter.com, 555-123-4570), 123 Tech Blvd, Silicon Valley, CA 94025; Steven Perez (steven.perez@datacenter.com, 555-234-5671), 234 Server Lane, Silicon Valley, CA 94025; Deborah Roberts (deborah.roberts@datacenter.com, 555-345-6782), 345 Data Circle, Silicon Valley, CA 94025; and Edward Turner (edward.turner@datacenter.com, 555-456-7893), 456 Network Blvd, Silicon Valley, CA 94025. Furthermore, Cynthia Phillips (cynthia.phillips@datacenter.com, 555-567-8904), 567 Cloud Ave, Silicon Valley, CA 94025; George Campbell (george.campbell@datacenter.com, 555-678-9015), 678 Tech Dr, Silicon Valley, CA 94025; Amanda Parker (amanda.parker@datacenter.com, 555-789-0126), 789 Server Blvd, Silicon Valley, CA 94025; Joshua Evans (joshua.evans@datacenter.com, 555-890-1237), 890 Data St, Silicon Valley, CA 94025; Michelle Edwards (michelle.edwards@datacenter.com, 555-901-2348), 901 Network Lane, Silicon Valley, CA 94025; Brian Collins (brian.collins@datacenter.com, 555-012-3459), 102 Innovation Blvd, Silicon Valley, CA 94025; Angela Stewart (angela.stewart@datacenter.com, 555-123-4571), 203 Server Rd, Silicon Valley, CA 94025; Kenneth Sanchez (kenneth.sanchez@datacenter.com, 555-234-5672), 304 Data Plaza, Silicon Valley, CA 94025; Melissa Morris (melissa.morris@datacenter.com, 555-345-6783), 405 Network Circle, Silicon Valley, CA 94025; and Ronald Rogers (ronald.rogers@datacenter.com, 555-456-7894), 506 Cloud St, Silicon Valley, CA 94025. The list continues with Karen Reed (karen.reed@datacenter.com, 555-567-8905), 607 Tech Ave, Silicon Valley, CA 94025; Jason Cook (jason.cook@datacenter.com, 555-678-9016), 708 Server Way, Silicon Valley, CA 94025; Sandra Morgan (sandra.morgan@datacenter.com, 555-789-0127), 809 Data Blvd, Silicon Valley, CA 94025; Donald Bell (donald.bell@datacenter.com, 555-890-1238), 910 Network Dr, Silicon Valley, CA 94025; Donna Murphy (donna.murphy@datacenter.com, 555-901-2349), 112 Tech Circle, Silicon Valley, CA 94025; Eric Bailey (eric.bailey@datacenter.com, 555-012-3460), 213 Server Lane, Silicon Valley, CA 94025; Betty Rivera (betty.rivera@datacenter.com, 555-123-4572), 314 Data Rd, Silicon Valley, CA 94025; Gary Cooper (gary.cooper@datacenter.com, 555-234-5673), 415 Network Blvd, Silicon Valley, CA 94025; Helen Richardson (helen.richardson@datacenter.com, 555-345-6784), 516 Cloud Ave, Silicon Valley, CA 94025; Laura Cox (laura.cox@datacenter.com, 555-456-7895), 617 Tech Blvd, Silicon Valley, CA 94025; Stephen Howard (stephen.howard@datacenter.com, 555-567-8906), 718 Server St, Silicon Valley, CA 94025; Kimberly Ward (kimberly.ward@datacenter.com, 555-678-9017), 819 Data Circle, Silicon Valley, CA 94025; Timothy Watson (timothy.watson@datacenter.com, 555-789-0128), 920 Network Rd, Silicon Valley, CA 94025; and Carol Brooks (carol.brooks@datacenter.com, 555-890-1239), 123 Innovation Dr, Silicon Valley, CA 94025.`\n",
        "\n",
        "1. Extract a list of all the valid emails found in the text. Refer to the lectures slides for the correct regex format for an email.\n",
        "\n",
        "2. Extract a list of all the valid phone numbers in the text. Come up with your own RegEx form considering that a valid phone number has the format XXX-XXX-XXXX"
      ]
    },
    {
      "cell_type": "code",
      "source": [
        "valid_txt = \"At our state-of-the-art data center, we have a dedicated team of professionals ensuring smooth operations. \\\n",
        "Leading our team is John Doe (john.doe@datacenter.com, 555-123-4567), residing at 123 Tech Lane, Silicon Valley, CA 94025.\\\n",
        " Assisting him is Jane Smith (jane.smith@datacenter.com, 555-234-5678) from 456 Innovation Drive, Silicon Valley, CA 94025.\\\n",
        "  Our network specialist, Mark Johnson (mark.johnson@datacenter.com, 555-345-6789), lives at 789 Data Blvd, Silicon Valley, CA 94025. \\\n",
        "  Data analyst Emily Davis (emily.davis@datacenter.com, 555-456-7890) is at 101 Server St, Silicon Valley, CA 94025. \\\n",
        "  Joining them are Sarah Brown (sarah.brown@datacenter.com, 555-567-8901), 234 Cloud Ave, Silicon Valley, CA 94025; \\\n",
        "  Michael Miller (michael.miller@datacenter.com, 555-678-9012), 345 Network Rd, Silicon Valley, CA 94025; \\\n",
        "  Jessica Wilson (jessica.wilson@datacenter.com, 555-789-0123), 456 Tech Park, Silicon Valley, CA 94025; \\\n",
        "  David Taylor (david.taylor@datacenter.com, 555-890-1234), 567 Server Blvd, Silicon Valley, CA 94025; \\\n",
        "  Elizabeth Anderson (elizabeth.anderson@datacenter.com, 555-901-2345), 678 Data St, Silicon Valley, CA 94025; \\\n",
        "  Robert Thomas (robert.thomas@datacenter.com, 555-012-3456), 789 Network Ln, Silicon Valley, CA 94025; \\\n",
        "  Mary Jackson (mary.jackson@datacenter.com, 555-123-4568), 890 Tech Dr, Silicon Valley, CA 94025; \\\n",
        "  William White (william.white@datacenter.com, 555-234-5679), 901 Innovation Way, Silicon Valley, CA 94025; \\\n",
        "  Linda Harris (linda.harris@datacenter.com, 555-345-6780), 102 Server Circle, Silicon Valley, CA 94025; and \\\n",
        "  Kevin Martin (kevin.martin@datacenter.com, 555-456-7891), 203 Data Plaza, Silicon Valley, CA 94025. The team also \\\n",
        "  includes Barbara Lee (barbara.lee@datacenter.com, 555-567-8902), 304 Network Blvd, Silicon Valley, CA 94025; \\\n",
        "  James Walker (james.walker@datacenter.com, 555-678-9013), 405 Cloud St, Silicon Valley, CA 94025; \\\n",
        "  Patricia Hall (patricia.hall@datacenter.com, 555-789-0124), 506 Tech Ave, Silicon Valley, CA 94025; \\\n",
        "  Richard Allen (richard.allen@datacenter.com, 555-890-1235), 607 Server Rd, Silicon Valley, CA 94025;\\\n",
        "   Maria Young (maria.young@datacenter.com, 555-901-2346), 708 Data Way, Silicon Valley, CA 94025; Charles Hernandez\\\n",
        "    (charles.hernandez@datacenter.com, 555-012-3457), 809 Network Circle, Silicon Valley, CA 94025; Jennifer King\\\n",
        "     (jennifer.king@datacenter.com, 555-123-4569), 910 Innovation Blvd, Silicon Valley, CA 94025; Christopher Wright\\\n",
        "      (christopher.wright@datacenter.com, 555-234-5670), 112 Server St, Silicon Valley, CA 94025; Susan Lopez\\\n",
        "       (susan.lopez@datacenter.com, 555-345-6781), 213 Data Dr, Silicon Valley, CA 94025; and Daniel Scott\\\n",
        "        (daniel.scott@datacenter.com, 555-456-7892), 314 Network Ave, Silicon Valley, CA 94025. Additional team members \\\n",
        "        include Nancy Hill (nancy.hill@datacenter.com, 555-567-8903), 415 Cloud Blvd, Silicon Valley, CA 94025; Paul Green\\\n",
        "         (paul.green@datacenter.com, 555-678-9014), 516 Tech Circle, Silicon Valley, CA 94025; Karen Adams\\\n",
        "          (karen.adams@datacenter.com, 555-789-0125), 617 Server Way, Silicon Valley, CA 94025; Matthew Baker\\\n",
        "           (matthew.baker@datacenter.com, 555-890-1236), 718 Data Rd, Silicon Valley, CA 94025; Lisa Nelson \\\n",
        "           (lisa.nelson@datacenter.com, 555-901-2347), 819 Network Plaza, Silicon Valley, CA 94025; Anthony Carter \\\n",
        "           (anthony.carter@datacenter.com, 555-012-3458), 920 Cloud Dr, Silicon Valley, CA 94025; Dorothy Mitchell \\\n",
        "           (dorothy.mitchell@datacenter.com, 555-123-4570), 123 Tech Blvd, Silicon Valley, CA 94025; Steven Perez\\\n",
        "            (steven.perez@datacenter.com, 555-234-5671), 234 Server Lane, Silicon Valley, CA 94025; Deborah Roberts \\\n",
        "            (deborah.roberts@datacenter.com, 555-345-6782), 345 Data Circle, Silicon Valley, CA 94025; and Edward Turner\\\n",
        "             (edward.turner@datacenter.com, 555-456-7893), 456 Network Blvd, Silicon Valley, CA 94025. Furthermore, Cynthia Phillips\\\n",
        "              (cynthia.phillips@datacenter.com, 555-567-8904), 567 Cloud Ave, Silicon Valley, CA 94025; George Campbell \\\n",
        "              (george.campbell@datacenter.com, 555-678-9015), 678 Tech Dr, Silicon Valley, CA 94025; Amanda Parker \\\n",
        "              (amanda.parker@datacenter.com, 555-789-0126), 789 Server Blvd, Silicon Valley, CA 94025; Joshua Evans \\\n",
        "              (joshua.evans@datacenter.com, 555-890-1237), 890 Data St, Silicon Valley, CA 94025; Michelle Edwards \\\n",
        "              (michelle.edwards@datacenter.com, 555-901-2348), 901 Network Lane, Silicon Valley, CA 94025; Brian Collins \\\n",
        "              (brian.collins@datacenter.com, 555-012-3459), 102 Innovation Blvd, Silicon Valley, CA 94025; Angela Stewart \\\n",
        "              (angela.stewart@datacenter.com, 555-123-4571), 203 Server Rd, Silicon Valley, CA 94025; Kenneth Sanchez \\\n",
        "              (kenneth.sanchez@datacenter.com, 555-234-5672), 304 Data Plaza, Silicon Valley, CA 94025; Melissa Morris \\\n",
        "              (melissa.morris@datacenter.com, 555-345-6783), 405 Network Circle, Silicon Valley, CA 94025; and Ronald Rogers \\\n",
        "              (ronald.rogers@datacenter.com, 555-456-7894), 506 Cloud St, Silicon Valley, CA 94025. The list continues with Karen Reed \\\n",
        "              (karen.reed@datacenter.com, 555-567-8905), 607 Tech Ave, Silicon Valley, CA 94025; Jason Cook (jason.cook@datacenter.com, 555-678-9016), \\\n",
        "              708 Server Way, Silicon Valley, CA 94025; Sandra Morgan (sandra.morgan@datacenter.com, 555-789-0127), 809 Data Blvd, Silicon Valley, CA 94025;\\\n",
        "               Donald Bell (donald.bell@datacenter.com, 555-890-1238), 910 Network Dr, Silicon Valley, CA 94025; \\\n",
        "               Donna Murphy (donna.murphy@datacenter.com, 555-901-2349), 112 Tech Circle, Silicon Valley, CA 94025; \\\n",
        "               Eric Bailey (eric.bailey@datacenter.com, 555-012-3460), 213 Server Lane, Silicon Valley, CA 94025; \\\n",
        "               Betty Rivera (betty.rivera@datacenter.com, 555-123-4572), 314 Data Rd, Silicon Valley, CA 94025; \\\n",
        "               Gary Cooper (gary.cooper@datacenter.com, 555-234-5673), 415 Network Blvd, Silicon Valley, CA 94025; \\\n",
        "               Helen Richardson (helen.richardson@datacenter.com, 555-345-6784), 516 Cloud Ave, Silicon Valley, CA 94025; \\\n",
        "               Laura Cox (laura.cox@datacenter.com, 555-456-7895), 617 Tech Blvd, Silicon Valley, CA 94025; Stephen Howard \\\n",
        "               (stephen.howard@datacenter.com, 555-567-8906), 718 Server St, Silicon Valley, CA 94025; Kimberly Ward \\\n",
        "               (kimberly.ward@datacenter.com, 555-678-9017), 819 Data Circle, Silicon Valley, CA 94025; Timothy Watson \\\n",
        "               (timothy.watson@datacenter.com, 555-789-0128), 920 Network Rd, Silicon Valley, CA 94025; and Carol Brooks \\\n",
        "               (carol.brooks@datacenter.com, 555-890-1239), 123 Innovation Dr, Silicon Valley, CA 94025.\"\n",
        "\n",
        "\n",
        "emails = re.findall(r\"\\b[\\w.%+-]+@[\\w.-]+\\.[a-zA-Z]{2,6}\\b\", valid_txt)\n",
        "emails"
      ],
      "metadata": {
        "colab": {
          "base_uri": "https://localhost:8080/"
        },
        "id": "20aYXnULTLA6",
        "outputId": "0a2d16ad-3c0c-454e-8036-89c9dd402f43"
      },
      "execution_count": null,
      "outputs": [
        {
          "output_type": "execute_result",
          "data": {
            "text/plain": [
              "['john.doe@datacenter.com',\n",
              " 'jane.smith@datacenter.com',\n",
              " 'mark.johnson@datacenter.com',\n",
              " 'emily.davis@datacenter.com',\n",
              " 'sarah.brown@datacenter.com',\n",
              " 'michael.miller@datacenter.com',\n",
              " 'jessica.wilson@datacenter.com',\n",
              " 'david.taylor@datacenter.com',\n",
              " 'elizabeth.anderson@datacenter.com',\n",
              " 'robert.thomas@datacenter.com',\n",
              " 'mary.jackson@datacenter.com',\n",
              " 'william.white@datacenter.com',\n",
              " 'linda.harris@datacenter.com',\n",
              " 'kevin.martin@datacenter.com',\n",
              " 'barbara.lee@datacenter.com',\n",
              " 'james.walker@datacenter.com',\n",
              " 'patricia.hall@datacenter.com',\n",
              " 'richard.allen@datacenter.com',\n",
              " 'maria.young@datacenter.com',\n",
              " 'charles.hernandez@datacenter.com',\n",
              " 'jennifer.king@datacenter.com',\n",
              " 'christopher.wright@datacenter.com',\n",
              " 'susan.lopez@datacenter.com',\n",
              " 'daniel.scott@datacenter.com',\n",
              " 'nancy.hill@datacenter.com',\n",
              " 'paul.green@datacenter.com',\n",
              " 'karen.adams@datacenter.com',\n",
              " 'matthew.baker@datacenter.com',\n",
              " 'lisa.nelson@datacenter.com',\n",
              " 'anthony.carter@datacenter.com',\n",
              " 'dorothy.mitchell@datacenter.com',\n",
              " 'steven.perez@datacenter.com',\n",
              " 'deborah.roberts@datacenter.com',\n",
              " 'edward.turner@datacenter.com',\n",
              " 'cynthia.phillips@datacenter.com',\n",
              " 'george.campbell@datacenter.com',\n",
              " 'amanda.parker@datacenter.com',\n",
              " 'joshua.evans@datacenter.com',\n",
              " 'michelle.edwards@datacenter.com',\n",
              " 'brian.collins@datacenter.com',\n",
              " 'angela.stewart@datacenter.com',\n",
              " 'kenneth.sanchez@datacenter.com',\n",
              " 'melissa.morris@datacenter.com',\n",
              " 'ronald.rogers@datacenter.com',\n",
              " 'karen.reed@datacenter.com',\n",
              " 'jason.cook@datacenter.com',\n",
              " 'sandra.morgan@datacenter.com',\n",
              " 'donald.bell@datacenter.com',\n",
              " 'donna.murphy@datacenter.com',\n",
              " 'eric.bailey@datacenter.com',\n",
              " 'betty.rivera@datacenter.com',\n",
              " 'gary.cooper@datacenter.com',\n",
              " 'helen.richardson@datacenter.com',\n",
              " 'laura.cox@datacenter.com',\n",
              " 'stephen.howard@datacenter.com',\n",
              " 'kimberly.ward@datacenter.com',\n",
              " 'timothy.watson@datacenter.com',\n",
              " 'carol.brooks@datacenter.com']"
            ]
          },
          "metadata": {},
          "execution_count": 35
        }
      ]
    },
    {
      "cell_type": "code",
      "source": [
        "phone = re.findall(r\"\\b[\\d]+[-][\\d]+[-][\\d]+\\b\", valid_txt)\n",
        "phone"
      ],
      "metadata": {
        "colab": {
          "base_uri": "https://localhost:8080/"
        },
        "id": "qGkcVS9YTLKn",
        "outputId": "b81557ba-cb43-4f7c-cd48-110094375870"
      },
      "execution_count": null,
      "outputs": [
        {
          "output_type": "execute_result",
          "data": {
            "text/plain": [
              "['555-123-4567',\n",
              " '555-234-5678',\n",
              " '555-345-6789',\n",
              " '555-456-7890',\n",
              " '555-567-8901',\n",
              " '555-678-9012',\n",
              " '555-789-0123',\n",
              " '555-890-1234',\n",
              " '555-901-2345',\n",
              " '555-012-3456',\n",
              " '555-123-4568',\n",
              " '555-234-5679',\n",
              " '555-345-6780',\n",
              " '555-456-7891',\n",
              " '555-567-8902',\n",
              " '555-678-9013',\n",
              " '555-789-0124',\n",
              " '555-890-1235',\n",
              " '555-901-2346',\n",
              " '555-012-3457',\n",
              " '555-123-4569',\n",
              " '555-234-5670',\n",
              " '555-345-6781',\n",
              " '555-456-7892',\n",
              " '555-567-8903',\n",
              " '555-678-9014',\n",
              " '555-789-0125',\n",
              " '555-890-1236',\n",
              " '555-901-2347',\n",
              " '555-012-3458',\n",
              " '555-123-4570',\n",
              " '555-234-5671',\n",
              " '555-345-6782',\n",
              " '555-456-7893',\n",
              " '555-567-8904',\n",
              " '555-678-9015',\n",
              " '555-789-0126',\n",
              " '555-890-1237',\n",
              " '555-901-2348',\n",
              " '555-012-3459',\n",
              " '555-123-4571',\n",
              " '555-234-5672',\n",
              " '555-345-6783',\n",
              " '555-456-7894',\n",
              " '555-567-8905',\n",
              " '555-678-9016',\n",
              " '555-789-0127',\n",
              " '555-890-1238',\n",
              " '555-901-2349',\n",
              " '555-012-3460',\n",
              " '555-123-4572',\n",
              " '555-234-5673',\n",
              " '555-345-6784',\n",
              " '555-456-7895',\n",
              " '555-567-8906',\n",
              " '555-678-9017',\n",
              " '555-789-0128',\n",
              " '555-890-1239']"
            ]
          },
          "metadata": {},
          "execution_count": 36
        }
      ]
    }
  ],
  "metadata": {
    "colab": {
      "provenance": [],
      "include_colab_link": true
    },
    "kernelspec": {
      "display_name": "Python 3",
      "name": "python3"
    },
    "language_info": {
      "codemirror_mode": {
        "name": "ipython",
        "version": 3
      },
      "file_extension": ".py",
      "mimetype": "text/x-python",
      "name": "python",
      "nbconvert_exporter": "python",
      "pygments_lexer": "ipython3",
      "version": "3.12.3"
    }
  },
  "nbformat": 4,
  "nbformat_minor": 0
}