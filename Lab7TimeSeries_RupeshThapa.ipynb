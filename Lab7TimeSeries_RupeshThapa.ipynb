{
  "cells": [
    {
      "cell_type": "markdown",
      "metadata": {
        "id": "view-in-github",
        "colab_type": "text"
      },
      "source": [
        "<a href=\"https://colab.research.google.com/github/rupeshthapa123/NotebookProject/blob/main/Lab7TimeSeries_RupeshThapa.ipynb\" target=\"_parent\"><img src=\"https://colab.research.google.com/assets/colab-badge.svg\" alt=\"Open In Colab\"/></a>"
      ]
    },
    {
      "cell_type": "markdown",
      "source": [
        "# Timeseries\n",
        "\n",
        "### Timeseries is any data collected via measurements at a regular interval of the time. Some examples of timeseries data are daily price of a stock, hourly electricity consumption, or weekly sales, local weather, seismic activity e.t.c. and Timeseries requires knowledge of the system dynamic.\n",
        "\n",
        "\n",
        "### In this Lab we are going to predict a temperature 24 hours in the future given a timeseries data from Jena Dataset with 420,551 climate samples taken every 10 minutes between 2009-2016.\n",
        "\n",
        "### Here, we will be comparing three different models for prediction and the models are dense network, convolutional network and recurrent LSTM."
      ],
      "metadata": {
        "id": "Tqv65whWsf7P"
      }
    },
    {
      "cell_type": "markdown",
      "source": [
        "## First we are downloading and exploring the dataset and importing all the necessary libraries"
      ],
      "metadata": {
        "id": "1JUpyPzL4UxN"
      }
    },
    {
      "cell_type": "code",
      "execution_count": null,
      "metadata": {
        "colab": {
          "base_uri": "https://localhost:8080/"
        },
        "id": "XsTGqlNpcC8S",
        "outputId": "2fac86ae-ede4-4ce3-ca73-43192b45616c"
      },
      "outputs": [
        {
          "output_type": "stream",
          "name": "stdout",
          "text": [
            "--2024-07-11 22:40:40--  https://s3.amazonaws.com/keras-datasets/jena_climate_2009_2016.csv.zip\n",
            "Resolving s3.amazonaws.com (s3.amazonaws.com)... 52.217.131.240, 52.216.213.176, 54.231.161.16, ...\n",
            "Connecting to s3.amazonaws.com (s3.amazonaws.com)|52.217.131.240|:443... connected.\n",
            "HTTP request sent, awaiting response... 200 OK\n",
            "Length: 13565642 (13M) [application/zip]\n",
            "Saving to: ‘jena_climate_2009_2016.csv.zip’\n",
            "\n",
            "jena_climate_2009_2 100%[===================>]  12.94M  45.2MB/s    in 0.3s    \n",
            "\n",
            "2024-07-11 22:40:41 (45.2 MB/s) - ‘jena_climate_2009_2016.csv.zip’ saved [13565642/13565642]\n",
            "\n",
            "Archive:  jena_climate_2009_2016.csv.zip\n",
            "  inflating: jena_climate_2009_2016.csv  \n",
            "  inflating: __MACOSX/._jena_climate_2009_2016.csv  \n"
          ]
        }
      ],
      "source": [
        "# Downloading the dataset and unzipping it\n",
        "!wget https://s3.amazonaws.com/keras-datasets/jena_climate_2009_2016.csv.zip\n",
        "!unzip jena_climate_2009_2016.csv.zip"
      ]
    },
    {
      "cell_type": "code",
      "execution_count": null,
      "metadata": {
        "colab": {
          "base_uri": "https://localhost:8080/"
        },
        "id": "-0cM2sHkdAHV",
        "outputId": "44c5789b-7031-4c37-bbc3-f94dbf665f64"
      },
      "outputs": [
        {
          "output_type": "stream",
          "name": "stdout",
          "text": [
            "['\"Date Time\"', '\"p (mbar)\"', '\"T (degC)\"', '\"Tpot (K)\"', '\"Tdew (degC)\"', '\"rh (%)\"', '\"VPmax (mbar)\"', '\"VPact (mbar)\"', '\"VPdef (mbar)\"', '\"sh (g/kg)\"', '\"H2OC (mmol/mol)\"', '\"rho (g/m**3)\"', '\"wv (m/s)\"', '\"max. wv (m/s)\"', '\"wd (deg)\"']\n",
            "420451\n"
          ]
        }
      ],
      "source": [
        "# Importing necessary libraries\n",
        "# Reading the file and extracting data\n",
        "import os\n",
        "fname = os.path.join(\"jena_climate_2009_2016.csv\")\n",
        "\n",
        "with open(fname) as f:\n",
        "  data = f.read()\n",
        "\n",
        "lines = data.split(\"\\n\")\n",
        "header = lines[0].split(\",\")\n",
        "lines = lines[1:]\n",
        "print(header)\n",
        "print(len(lines))"
      ]
    },
    {
      "cell_type": "markdown",
      "source": [
        "## Data Ingestion\n",
        "\n",
        "Separating the features(measurements) from the output quantity."
      ],
      "metadata": {
        "id": "dzHVKfYT4nBi"
      }
    },
    {
      "cell_type": "code",
      "execution_count": null,
      "metadata": {
        "id": "VgKGvSigdum-"
      },
      "outputs": [],
      "source": [
        "# Initializing arrays for temperature and other raw data\n",
        "import numpy as np\n",
        "temperature = np.zeros((len(lines) ,))\n",
        "raw_data = np.zeros((len(lines), len(header) -1))\n",
        "\n",
        "# Filling the arrays with data\n",
        "for i, line in enumerate(lines):\n",
        "  values = [float(x) for x in line.split(\",\") [1:]]\n",
        "  temperature[i] = values[1]\n",
        "  raw_data[i, :]= values[:]"
      ]
    },
    {
      "cell_type": "markdown",
      "source": [
        "## Visualizing for discovering time patterns"
      ],
      "metadata": {
        "id": "BpiA0yqS463u"
      }
    },
    {
      "cell_type": "code",
      "execution_count": null,
      "metadata": {
        "colab": {
          "base_uri": "https://localhost:8080/",
          "height": 471
        },
        "id": "J26u8KsWgfVS",
        "outputId": "bb0c7927-d49e-4970-9c9e-7f0a281c2699"
      },
      "outputs": [
        {
          "output_type": "execute_result",
          "data": {
            "text/plain": [
              "[<matplotlib.lines.Line2D at 0x7b7b220137c0>]"
            ]
          },
          "metadata": {},
          "execution_count": 4
        },
        {
          "output_type": "display_data",
          "data": {
            "text/plain": [
              "<Figure size 640x480 with 1 Axes>"
            ],
            "image/png": "[encoded data removed]"
          },
          "metadata": {}
        }
      ],
      "source": [
        "from matplotlib import pyplot as plt\n",
        "plt.plot(range(len(temperature)), temperature)"
      ]
    },
    {
      "cell_type": "code",
      "execution_count": null,
      "metadata": {
        "colab": {
          "base_uri": "https://localhost:8080/",
          "height": 467
        },
        "id": "SK_ZlHoFgc5k",
        "outputId": "fabe5ace-c98c-4cf0-e179-c0ff85b3db5f"
      },
      "outputs": [
        {
          "output_type": "execute_result",
          "data": {
            "text/plain": [
              "[<matplotlib.lines.Line2D at 0x7b7b1dd848b0>]"
            ]
          },
          "metadata": {},
          "execution_count": 5
        },
        {
          "output_type": "display_data",
          "data": {
            "text/plain": [
              "<Figure size 640x480 with 1 Axes>"
            ],
            "image/png": "[encoded data removed]"
          },
          "metadata": {}
        }
      ],
      "source": [
        "# Zooming in on the first 1440 data points (10 days)\n",
        "plt.plot(range(1440), temperature[:1440])"
      ]
    },
    {
      "cell_type": "markdown",
      "source": [
        "## Splitting the data over 50% training, 25% validation and 25% testing"
      ],
      "metadata": {
        "id": "hycQRY4B5GCb"
      }
    },
    {
      "cell_type": "code",
      "execution_count": null,
      "metadata": {
        "id": "w4QM6eaFgvWr"
      },
      "outputs": [],
      "source": [
        "# Splitting the data into training, validation, and testing sets\n",
        "num_train_samples = int(0.5 * len(raw_data))\n",
        "num_val_samples = int(0.25 * len(raw_data))\n",
        "num_test_samples = len(raw_data) - num_train_samples - num_val_samples"
      ]
    },
    {
      "cell_type": "code",
      "execution_count": null,
      "metadata": {
        "colab": {
          "base_uri": "https://localhost:8080/"
        },
        "id": "kkLfIkDZgyZ8",
        "outputId": "d9bcccd1-d83e-47bf-cd92-eab5ebf99aba"
      },
      "outputs": [
        {
          "output_type": "stream",
          "name": "stdout",
          "text": [
            "num_train_samples: 210225\n",
            "num_val_samples: 105112\n",
            "num_test_samples: 105114\n"
          ]
        }
      ],
      "source": [
        "print(\"num_train_samples:\", num_train_samples)\n",
        "print(\"num_val_samples:\", num_val_samples)\n",
        "print(\"num_test_samples:\", num_test_samples)"
      ]
    },
    {
      "cell_type": "markdown",
      "source": [
        "## Data Preparation\n",
        "\n",
        "Mean/Standard Deviation only from training dataset is taken."
      ],
      "metadata": {
        "id": "gWVbDfmN5Q1e"
      }
    },
    {
      "cell_type": "code",
      "execution_count": null,
      "metadata": {
        "id": "wgDHEo-myg0k"
      },
      "outputs": [],
      "source": [
        "# Standardizing the data using the training set statistics\n",
        "mean = raw_data[:num_train_samples].mean(axis=0)\n",
        "raw_data -= mean\n",
        "std = raw_data[:num_train_samples].std(axis=0)\n",
        "raw_data /= std"
      ]
    },
    {
      "cell_type": "markdown",
      "source": [
        "## Data Sampling\n",
        "\n",
        "To extract features from days\n",
        "in the past and target in the\n",
        "future use the function\n",
        "timeseries_dataset_from_array()"
      ],
      "metadata": {
        "id": "58HthGAb5pCW"
      }
    },
    {
      "cell_type": "code",
      "execution_count": null,
      "metadata": {
        "id": "21D8zfn9g7Gc"
      },
      "outputs": [],
      "source": [
        "import tensorflow\n",
        "from tensorflow import keras\n",
        "# Preparing the timeseries dataset\n",
        "sampling_rate = 6\n",
        "sequence_length = 120\n",
        "delay = sampling_rate * (sequence_length + 24 -1)\n",
        "batch_size = 128\n",
        "\n",
        "train_dataset = keras.utils.timeseries_dataset_from_array(\n",
        "    raw_data[:-delay],\n",
        "    targets = temperature[delay:],\n",
        "    sampling_rate = sampling_rate,\n",
        "    sequence_length = sequence_length,\n",
        "    shuffle = True,\n",
        "    batch_size = batch_size,\n",
        "    start_index = 0,\n",
        "    end_index = num_train_samples)\n",
        "\n",
        "val_dataset = keras.utils.timeseries_dataset_from_array(\n",
        "    raw_data[:-delay],\n",
        "    targets = temperature[delay:],\n",
        "    sampling_rate = sampling_rate,\n",
        "    sequence_length = sequence_length,\n",
        "    shuffle = True,\n",
        "    batch_size = batch_size,\n",
        "    start_index = num_train_samples,\n",
        "    end_index = num_train_samples + num_val_samples)\n",
        "\n",
        "test_dataset = keras.utils.timeseries_dataset_from_array(\n",
        "    raw_data[:-delay],\n",
        "    targets = temperature[delay:],\n",
        "    sampling_rate = sampling_rate,\n",
        "    sequence_length = sequence_length,\n",
        "    shuffle = True,\n",
        "    batch_size = batch_size,\n",
        "    start_index = num_train_samples + num_val_samples)"
      ]
    },
    {
      "cell_type": "markdown",
      "source": [
        "## Model 1  that is Dense Network is used in the above data sampling"
      ],
      "metadata": {
        "id": "Pm4ItIK2509O"
      }
    },
    {
      "cell_type": "code",
      "execution_count": null,
      "metadata": {
        "colab": {
          "base_uri": "https://localhost:8080/"
        },
        "id": "L4ceq8dUhAcD",
        "outputId": "0a2c9d81-38b3-47ad-a911-58c746bca548"
      },
      "outputs": [
        {
          "output_type": "stream",
          "name": "stdout",
          "text": [
            "Epoch 1/10\n",
            "1637/1637 [==============================] - 51s 31ms/step - loss: 10.5024 - mae: 2.5217 - val_loss: 10.8827 - val_mae: 2.6078\n",
            "Epoch 2/10\n",
            "1637/1637 [==============================] - 47s 29ms/step - loss: 8.1027 - mae: 2.2406 - val_loss: 11.3410 - val_mae: 2.6628\n",
            "Epoch 3/10\n",
            "1637/1637 [==============================] - 50s 30ms/step - loss: 7.5168 - mae: 2.1599 - val_loss: 10.9129 - val_mae: 2.6060\n",
            "Epoch 4/10\n",
            "1637/1637 [==============================] - 48s 29ms/step - loss: 7.1676 - mae: 2.1102 - val_loss: 12.7737 - val_mae: 2.8239\n",
            "Epoch 5/10\n",
            "1637/1637 [==============================] - 53s 32ms/step - loss: 6.9272 - mae: 2.0735 - val_loss: 11.1247 - val_mae: 2.6318\n",
            "Epoch 6/10\n",
            "1637/1637 [==============================] - 47s 28ms/step - loss: 6.7464 - mae: 2.0462 - val_loss: 11.9484 - val_mae: 2.7343\n",
            "Epoch 7/10\n",
            "1637/1637 [==============================] - 48s 29ms/step - loss: 6.5908 - mae: 2.0233 - val_loss: 11.7544 - val_mae: 2.7041\n",
            "Epoch 8/10\n",
            "1637/1637 [==============================] - 49s 30ms/step - loss: 6.4578 - mae: 2.0009 - val_loss: 11.3108 - val_mae: 2.6579\n",
            "Epoch 9/10\n",
            "1637/1637 [==============================] - 52s 32ms/step - loss: 6.3311 - mae: 1.9838 - val_loss: 11.5119 - val_mae: 2.6759\n",
            "Epoch 10/10\n",
            "1637/1637 [==============================] - 56s 34ms/step - loss: 6.2523 - mae: 1.9712 - val_loss: 11.8643 - val_mae: 2.7186\n",
            "809/809 [==============================] - 16s 19ms/step - loss: 11.3421 - mae: 2.6315\n",
            "Test MAE: 2.63\n"
          ]
        }
      ],
      "source": [
        "from tensorflow.keras import layers\n",
        "\n",
        "inputs = keras.Input(shape=(sequence_length, raw_data.shape[-1]))\n",
        "x = layers.Flatten()(inputs)\n",
        "x = layers.Dense(16, activation=\"relu\")(x)\n",
        "outputs = layers.Dense(1)(x)\n",
        "model = keras.Model(inputs, outputs)\n",
        "\n",
        "callbacks = [\n",
        "    keras.callbacks.ModelCheckpoint(\"jena_dense.keras\",\n",
        "                                   save_best_only=True)\n",
        "]\n",
        "model.compile(optimizer=\"rmsprop\", loss=\"mse\", metrics=[\"mae\"])\n",
        "history = model.fit(train_dataset,\n",
        "                    epochs=10,\n",
        "                    validation_data=val_dataset,\n",
        "                    callbacks=callbacks)\n",
        "\n",
        "model = keras.models.load_model(\"jena_dense.keras\")\n",
        "print(f\"Test MAE: {model.evaluate(test_dataset)[1]:.2f}\")"
      ]
    },
    {
      "cell_type": "markdown",
      "source": [
        "## Plot for the fully connected dense network"
      ],
      "metadata": {
        "id": "CgHcLcsL6Eev"
      }
    },
    {
      "cell_type": "code",
      "execution_count": null,
      "metadata": {
        "id": "O5YjlobChEht",
        "colab": {
          "base_uri": "https://localhost:8080/",
          "height": 641
        },
        "outputId": "ef23cc26-6f76-4fb2-c5d8-0a75389db273"
      },
      "outputs": [
        {
          "output_type": "execute_result",
          "data": {
            "text/plain": [
              "<function matplotlib.pyplot.show(close=None, block=None)>"
            ],
            "text/html": [
              "<div style=\"max-width:800px; border: 1px solid var(--colab-border-color);\"><style>\n",
              "      pre.function-repr-contents {\n",
              "        overflow-x: auto;\n",
              "        padding: 8px 12px;\n",
              "        max-height: 500px;\n",
              "      }\n",
              "\n",
              "      pre.function-repr-contents.function-repr-contents-collapsed {\n",
              "        cursor: pointer;\n",
              "        max-height: 100px;\n",
              "      }\n",
              "    </style>\n",
              "    <pre style=\"white-space: initial; background:\n",
              "         var(--colab-secondary-surface-color); padding: 8px 12px;\n",
              "         border-bottom: 1px solid var(--colab-border-color);\"><b>matplotlib.pyplot.show</b><br/>def show(*args, **kwargs)</pre><pre class=\"function-repr-contents function-repr-contents-collapsed\" style=\"\"><a class=\"filepath\" style=\"display:none\" href=\"#\">/usr/local/lib/python3.10/dist-packages/matplotlib/pyplot.py</a>Display all open figures.\n",
              "\n",
              "Parameters\n",
              "----------\n",
              "block : bool, optional\n",
              "    Whether to wait for all figures to be closed before returning.\n",
              "\n",
              "    If `True` block and run the GUI main loop until all figure windows\n",
              "    are closed.\n",
              "\n",
              "    If `False` ensure that all figure windows are displayed and return\n",
              "    immediately.  In this case, you are responsible for ensuring\n",
              "    that the event loop is running to have responsive figures.\n",
              "\n",
              "    Defaults to True in non-interactive mode and to False in interactive\n",
              "    mode (see `.pyplot.isinteractive`).\n",
              "\n",
              "See Also\n",
              "--------\n",
              "ion : Enable interactive mode, which shows / updates the figure after\n",
              "      every plotting command, so that calling ``show()`` is not necessary.\n",
              "ioff : Disable interactive mode.\n",
              "savefig : Save the figure to an image file instead of showing it on screen.\n",
              "\n",
              "Notes\n",
              "-----\n",
              "**Saving figures to file and showing a window at the same time**\n",
              "\n",
              "If you want an image file as well as a user interface window, use\n",
              "`.pyplot.savefig` before `.pyplot.show`. At the end of (a blocking)\n",
              "``show()`` the figure is closed and thus unregistered from pyplot. Calling\n",
              "`.pyplot.savefig` afterwards would save a new and thus empty figure. This\n",
              "limitation of command order does not apply if the show is non-blocking or\n",
              "if you keep a reference to the figure and use `.Figure.savefig`.\n",
              "\n",
              "**Auto-show in jupyter notebooks**\n",
              "\n",
              "The jupyter backends (activated via ``%matplotlib inline``,\n",
              "``%matplotlib notebook``, or ``%matplotlib widget``), call ``show()`` at\n",
              "the end of every cell by default. Thus, you usually don&#x27;t have to call it\n",
              "explicitly there.</pre>\n",
              "      <script>\n",
              "      if (google.colab.kernel.accessAllowed && google.colab.files && google.colab.files.view) {\n",
              "        for (const element of document.querySelectorAll('.filepath')) {\n",
              "          element.style.display = 'block'\n",
              "          element.onclick = (event) => {\n",
              "            event.preventDefault();\n",
              "            event.stopPropagation();\n",
              "            google.colab.files.view(element.textContent, 401);\n",
              "          };\n",
              "        }\n",
              "      }\n",
              "      for (const element of document.querySelectorAll('.function-repr-contents')) {\n",
              "        element.onclick = (event) => {\n",
              "          event.preventDefault();\n",
              "          event.stopPropagation();\n",
              "          element.classList.toggle('function-repr-contents-collapsed');\n",
              "        };\n",
              "      }\n",
              "      </script>\n",
              "      </div>"
            ]
          },
          "metadata": {},
          "execution_count": 11
        },
        {
          "output_type": "display_data",
          "data": {
            "text/plain": [
              "<Figure size 640x480 with 1 Axes>"
            ],
            "image/png": "[encoded data removed]"
          },
          "metadata": {}
        }
      ],
      "source": [
        "# Plotting training and validation MAE for Dense Network\n",
        "import matplotlib.pyplot as plt\n",
        "loss = history.history[\"mae\"]\n",
        "val_loss=history.history[\"val_mae\"]\n",
        "epochs = range(1, len(loss)+1)\n",
        "plt.figure()\n",
        "plt.plot(epochs, loss, \"bo\", label=\"Training MAE\")\n",
        "plt.plot(epochs, val_loss, \"b\", label=\"Validation MAE\")\n",
        "plt.title(\"Training and validation MAE\")\n",
        "plt.legend()\n",
        "plt.show"
      ]
    },
    {
      "cell_type": "markdown",
      "source": [
        "## Convolutional Network"
      ],
      "metadata": {
        "id": "L92E2Bpo6K2I"
      }
    },
    {
      "cell_type": "code",
      "execution_count": null,
      "metadata": {
        "id": "b69ZkuENhEW6",
        "colab": {
          "base_uri": "https://localhost:8080/"
        },
        "outputId": "19e2ef98-3c3a-4ec5-afa3-996b7543f384"
      },
      "outputs": [
        {
          "output_type": "stream",
          "name": "stdout",
          "text": [
            "Epoch 1/10\n",
            "1637/1637 [==============================] - 89s 53ms/step - loss: 20.1677 - mae: 3.5087 - val_loss: 15.5215 - val_mae: 3.1141\n",
            "Epoch 2/10\n",
            "1637/1637 [==============================] - 84s 51ms/step - loss: 14.5225 - mae: 3.0192 - val_loss: 15.6147 - val_mae: 3.1420\n",
            "Epoch 3/10\n",
            "1637/1637 [==============================] - 80s 49ms/step - loss: 13.3469 - mae: 2.8896 - val_loss: 14.1625 - val_mae: 2.9687\n",
            "Epoch 4/10\n",
            "1637/1637 [==============================] - 83s 50ms/step - loss: 12.5629 - mae: 2.8007 - val_loss: 14.1541 - val_mae: 2.9574\n",
            "Epoch 5/10\n",
            "1637/1637 [==============================] - 83s 50ms/step - loss: 11.8998 - mae: 2.7229 - val_loss: 15.4389 - val_mae: 3.0813\n",
            "Epoch 6/10\n",
            "1637/1637 [==============================] - 85s 52ms/step - loss: 11.2460 - mae: 2.6485 - val_loss: 17.3482 - val_mae: 3.3050\n",
            "Epoch 7/10\n",
            "1637/1637 [==============================] - 82s 50ms/step - loss: 10.7158 - mae: 2.5863 - val_loss: 17.3904 - val_mae: 3.2716\n",
            "Epoch 8/10\n",
            "1637/1637 [==============================] - 85s 52ms/step - loss: 10.2906 - mae: 2.5324 - val_loss: 17.4001 - val_mae: 3.2710\n",
            "Epoch 9/10\n",
            "1637/1637 [==============================] - 83s 51ms/step - loss: 9.9005 - mae: 2.4825 - val_loss: 16.5177 - val_mae: 3.1842\n",
            "Epoch 10/10\n",
            "1637/1637 [==============================] - 86s 53ms/step - loss: 9.5979 - mae: 2.4431 - val_loss: 15.8361 - val_mae: 3.1463\n",
            "809/809 [==============================] - 20s 24ms/step - loss: 15.8442 - mae: 3.1350\n",
            "Test MAE: 3.13\n"
          ]
        }
      ],
      "source": [
        "inputs = keras.Input(shape=(sequence_length, raw_data.shape[-1]))\n",
        "x = layers.Conv1D(8, 24, activation=\"relu\")(inputs)\n",
        "x = layers.MaxPooling1D(2)(x)\n",
        "x = layers.Conv1D(8, 12, activation=\"relu\")(x)\n",
        "x = layers.MaxPooling1D(2)(x)\n",
        "x = layers.Conv1D(8, 6, activation=\"relu\")(x)\n",
        "x = layers.GlobalAveragePooling1D()(x)\n",
        "outputs = layers.Dense(1)(x)\n",
        "model = keras.Model(inputs, outputs)\n",
        "\n",
        "callbacks = [\n",
        "    keras.callbacks.ModelCheckpoint(\"jena_conv.keras\",\n",
        "                                    save_best_only=True)\n",
        "]\n",
        "model.compile(optimizer=\"rmsprop\", loss=\"mse\", metrics=[\"mae\"])\n",
        "history2 = model.fit(train_dataset,\n",
        "                    epochs=10,\n",
        "                    validation_data=val_dataset,\n",
        "                    callbacks=callbacks)\n",
        "model = keras.models.load_model(\"jena_conv.keras\")\n",
        "print(f\"Test MAE: {model.evaluate(test_dataset)[1]:.2f}\")"
      ]
    },
    {
      "cell_type": "markdown",
      "source": [
        "## Plot the history of convolutional network"
      ],
      "metadata": {
        "id": "JyilUNvh6Pq1"
      }
    },
    {
      "cell_type": "code",
      "execution_count": null,
      "metadata": {
        "id": "jFUHMfD1C2rP",
        "colab": {
          "base_uri": "https://localhost:8080/",
          "height": 641
        },
        "outputId": "e99dcf82-60cc-4b15-bb85-0459289ab932"
      },
      "outputs": [
        {
          "output_type": "execute_result",
          "data": {
            "text/plain": [
              "<function matplotlib.pyplot.show(close=None, block=None)>"
            ],
            "text/html": [
              "<div style=\"max-width:800px; border: 1px solid var(--colab-border-color);\"><style>\n",
              "      pre.function-repr-contents {\n",
              "        overflow-x: auto;\n",
              "        padding: 8px 12px;\n",
              "        max-height: 500px;\n",
              "      }\n",
              "\n",
              "      pre.function-repr-contents.function-repr-contents-collapsed {\n",
              "        cursor: pointer;\n",
              "        max-height: 100px;\n",
              "      }\n",
              "    </style>\n",
              "    <pre style=\"white-space: initial; background:\n",
              "         var(--colab-secondary-surface-color); padding: 8px 12px;\n",
              "         border-bottom: 1px solid var(--colab-border-color);\"><b>matplotlib.pyplot.show</b><br/>def show(*args, **kwargs)</pre><pre class=\"function-repr-contents function-repr-contents-collapsed\" style=\"\"><a class=\"filepath\" style=\"display:none\" href=\"#\">/usr/local/lib/python3.10/dist-packages/matplotlib/pyplot.py</a>Display all open figures.\n",
              "\n",
              "Parameters\n",
              "----------\n",
              "block : bool, optional\n",
              "    Whether to wait for all figures to be closed before returning.\n",
              "\n",
              "    If `True` block and run the GUI main loop until all figure windows\n",
              "    are closed.\n",
              "\n",
              "    If `False` ensure that all figure windows are displayed and return\n",
              "    immediately.  In this case, you are responsible for ensuring\n",
              "    that the event loop is running to have responsive figures.\n",
              "\n",
              "    Defaults to True in non-interactive mode and to False in interactive\n",
              "    mode (see `.pyplot.isinteractive`).\n",
              "\n",
              "See Also\n",
              "--------\n",
              "ion : Enable interactive mode, which shows / updates the figure after\n",
              "      every plotting command, so that calling ``show()`` is not necessary.\n",
              "ioff : Disable interactive mode.\n",
              "savefig : Save the figure to an image file instead of showing it on screen.\n",
              "\n",
              "Notes\n",
              "-----\n",
              "**Saving figures to file and showing a window at the same time**\n",
              "\n",
              "If you want an image file as well as a user interface window, use\n",
              "`.pyplot.savefig` before `.pyplot.show`. At the end of (a blocking)\n",
              "``show()`` the figure is closed and thus unregistered from pyplot. Calling\n",
              "`.pyplot.savefig` afterwards would save a new and thus empty figure. This\n",
              "limitation of command order does not apply if the show is non-blocking or\n",
              "if you keep a reference to the figure and use `.Figure.savefig`.\n",
              "\n",
              "**Auto-show in jupyter notebooks**\n",
              "\n",
              "The jupyter backends (activated via ``%matplotlib inline``,\n",
              "``%matplotlib notebook``, or ``%matplotlib widget``), call ``show()`` at\n",
              "the end of every cell by default. Thus, you usually don&#x27;t have to call it\n",
              "explicitly there.</pre>\n",
              "      <script>\n",
              "      if (google.colab.kernel.accessAllowed && google.colab.files && google.colab.files.view) {\n",
              "        for (const element of document.querySelectorAll('.filepath')) {\n",
              "          element.style.display = 'block'\n",
              "          element.onclick = (event) => {\n",
              "            event.preventDefault();\n",
              "            event.stopPropagation();\n",
              "            google.colab.files.view(element.textContent, 401);\n",
              "          };\n",
              "        }\n",
              "      }\n",
              "      for (const element of document.querySelectorAll('.function-repr-contents')) {\n",
              "        element.onclick = (event) => {\n",
              "          event.preventDefault();\n",
              "          event.stopPropagation();\n",
              "          element.classList.toggle('function-repr-contents-collapsed');\n",
              "        };\n",
              "      }\n",
              "      </script>\n",
              "      </div>"
            ]
          },
          "metadata": {},
          "execution_count": 13
        },
        {
          "output_type": "display_data",
          "data": {
            "text/plain": [
              "<Figure size 640x480 with 1 Axes>"
            ],
            "image/png": "[encoded data removed]"
          },
          "metadata": {}
        }
      ],
      "source": [
        "# Plotting training and validation MAE for Convolutional Network\n",
        "import matplotlib.pyplot as plt\n",
        "loss = history2.history[\"mae\"]\n",
        "val_loss=history2.history[\"val_mae\"]\n",
        "epochs = range(1, len(loss)+1)\n",
        "plt.figure()\n",
        "plt.plot(epochs, loss, \"bo\", label=\"Training MAE\")\n",
        "plt.plot(epochs, val_loss, \"b\", label=\"Validation MAE\")\n",
        "plt.title(\"Training and validation MAE\")\n",
        "plt.legend()\n",
        "plt.show"
      ]
    },
    {
      "cell_type": "markdown",
      "source": [
        "## Long Short Term Memory Network\n",
        "### A type of Recurrent network that saves information for later\n",
        "### Prevents older signals gradually vanish during processing inside the layers"
      ],
      "metadata": {
        "id": "-jxVqoJ36Vbu"
      }
    },
    {
      "cell_type": "code",
      "execution_count": null,
      "metadata": {
        "id": "sOfT7SophQhi",
        "colab": {
          "base_uri": "https://localhost:8080/"
        },
        "outputId": "a733827f-ce24-440a-b02d-6a421cbda189"
      },
      "outputs": [
        {
          "output_type": "stream",
          "name": "stdout",
          "text": [
            "Epoch 1/10\n",
            "1637/1637 [==============================] - 157s 94ms/step - loss: 27.7168 - mae: 3.7504 - val_loss: 9.5797 - val_mae: 2.3980\n",
            "Epoch 2/10\n",
            "1637/1637 [==============================] - 153s 93ms/step - loss: 9.7957 - mae: 2.4396 - val_loss: 9.3091 - val_mae: 2.3660\n",
            "Epoch 3/10\n",
            "1637/1637 [==============================] - 142s 87ms/step - loss: 9.2208 - mae: 2.3646 - val_loss: 9.2872 - val_mae: 2.3674\n",
            "Epoch 4/10\n",
            "1637/1637 [==============================] - 139s 85ms/step - loss: 8.8585 - mae: 2.3140 - val_loss: 9.3378 - val_mae: 2.3824\n",
            "Epoch 5/10\n",
            "1637/1637 [==============================] - 141s 86ms/step - loss: 8.4750 - mae: 2.2654 - val_loss: 9.2811 - val_mae: 2.3715\n",
            "Epoch 6/10\n",
            "1637/1637 [==============================] - 141s 86ms/step - loss: 8.1669 - mae: 2.2272 - val_loss: 9.4087 - val_mae: 2.3948\n",
            "Epoch 7/10\n",
            "1637/1637 [==============================] - 138s 84ms/step - loss: 7.9603 - mae: 2.1973 - val_loss: 9.5368 - val_mae: 2.4119\n",
            "Epoch 8/10\n",
            "1637/1637 [==============================] - 139s 85ms/step - loss: 7.7769 - mae: 2.1714 - val_loss: 9.4614 - val_mae: 2.4024\n",
            "Epoch 9/10\n",
            "1637/1637 [==============================] - 140s 86ms/step - loss: 7.6501 - mae: 2.1540 - val_loss: 9.6429 - val_mae: 2.4225\n",
            "Epoch 10/10\n",
            "1637/1637 [==============================] - 140s 85ms/step - loss: 7.5284 - mae: 2.1374 - val_loss: 9.7926 - val_mae: 2.4404\n",
            "809/809 [==============================] - 30s 36ms/step - loss: 11.1283 - mae: 2.6079\n",
            "Test MAE: 2.61\n"
          ]
        }
      ],
      "source": [
        "inputs = keras.Input(shape=(sequence_length, raw_data.shape[-1]))\n",
        "x = layers.LSTM(16)(inputs)\n",
        "outputs = layers.Dense(1)(x)\n",
        "model = keras.Model(inputs, outputs)\n",
        "\n",
        "callbacks = [\n",
        "    keras.callbacks.ModelCheckpoint(\"jena_lstm.keras\",\n",
        "                                   save_best_only=True)\n",
        "]\n",
        "model.compile(optimizer=\"rmsprop\", loss=\"mse\", metrics=[\"mae\"])\n",
        "\n",
        "history3 = model.fit(train_dataset,\n",
        "                    epochs=10,\n",
        "                    validation_data=val_dataset,\n",
        "                    callbacks=callbacks)\n",
        "\n",
        "model = keras.models.load_model(\"jena_lstm.keras\")\n",
        "print(f\"Test MAE: {model.evaluate(test_dataset)[1]:.2f}\")"
      ]
    },
    {
      "cell_type": "markdown",
      "source": [
        "## Plot of LSTM to see the MAE of training and validation differences"
      ],
      "metadata": {
        "id": "g3QLVFiD6-EX"
      }
    },
    {
      "cell_type": "code",
      "execution_count": null,
      "metadata": {
        "id": "cT85fu2wC2lk",
        "colab": {
          "base_uri": "https://localhost:8080/",
          "height": 641
        },
        "outputId": "4a99c549-7fcd-4602-d0d7-8b61336592ed"
      },
      "outputs": [
        {
          "output_type": "execute_result",
          "data": {
            "text/plain": [
              "<function matplotlib.pyplot.show(close=None, block=None)>"
            ],
            "text/html": [
              "<div style=\"max-width:800px; border: 1px solid var(--colab-border-color);\"><style>\n",
              "      pre.function-repr-contents {\n",
              "        overflow-x: auto;\n",
              "        padding: 8px 12px;\n",
              "        max-height: 500px;\n",
              "      }\n",
              "\n",
              "      pre.function-repr-contents.function-repr-contents-collapsed {\n",
              "        cursor: pointer;\n",
              "        max-height: 100px;\n",
              "      }\n",
              "    </style>\n",
              "    <pre style=\"white-space: initial; background:\n",
              "         var(--colab-secondary-surface-color); padding: 8px 12px;\n",
              "         border-bottom: 1px solid var(--colab-border-color);\"><b>matplotlib.pyplot.show</b><br/>def show(*args, **kwargs)</pre><pre class=\"function-repr-contents function-repr-contents-collapsed\" style=\"\"><a class=\"filepath\" style=\"display:none\" href=\"#\">/usr/local/lib/python3.10/dist-packages/matplotlib/pyplot.py</a>Display all open figures.\n",
              "\n",
              "Parameters\n",
              "----------\n",
              "block : bool, optional\n",
              "    Whether to wait for all figures to be closed before returning.\n",
              "\n",
              "    If `True` block and run the GUI main loop until all figure windows\n",
              "    are closed.\n",
              "\n",
              "    If `False` ensure that all figure windows are displayed and return\n",
              "    immediately.  In this case, you are responsible for ensuring\n",
              "    that the event loop is running to have responsive figures.\n",
              "\n",
              "    Defaults to True in non-interactive mode and to False in interactive\n",
              "    mode (see `.pyplot.isinteractive`).\n",
              "\n",
              "See Also\n",
              "--------\n",
              "ion : Enable interactive mode, which shows / updates the figure after\n",
              "      every plotting command, so that calling ``show()`` is not necessary.\n",
              "ioff : Disable interactive mode.\n",
              "savefig : Save the figure to an image file instead of showing it on screen.\n",
              "\n",
              "Notes\n",
              "-----\n",
              "**Saving figures to file and showing a window at the same time**\n",
              "\n",
              "If you want an image file as well as a user interface window, use\n",
              "`.pyplot.savefig` before `.pyplot.show`. At the end of (a blocking)\n",
              "``show()`` the figure is closed and thus unregistered from pyplot. Calling\n",
              "`.pyplot.savefig` afterwards would save a new and thus empty figure. This\n",
              "limitation of command order does not apply if the show is non-blocking or\n",
              "if you keep a reference to the figure and use `.Figure.savefig`.\n",
              "\n",
              "**Auto-show in jupyter notebooks**\n",
              "\n",
              "The jupyter backends (activated via ``%matplotlib inline``,\n",
              "``%matplotlib notebook``, or ``%matplotlib widget``), call ``show()`` at\n",
              "the end of every cell by default. Thus, you usually don&#x27;t have to call it\n",
              "explicitly there.</pre>\n",
              "      <script>\n",
              "      if (google.colab.kernel.accessAllowed && google.colab.files && google.colab.files.view) {\n",
              "        for (const element of document.querySelectorAll('.filepath')) {\n",
              "          element.style.display = 'block'\n",
              "          element.onclick = (event) => {\n",
              "            event.preventDefault();\n",
              "            event.stopPropagation();\n",
              "            google.colab.files.view(element.textContent, 401);\n",
              "          };\n",
              "        }\n",
              "      }\n",
              "      for (const element of document.querySelectorAll('.function-repr-contents')) {\n",
              "        element.onclick = (event) => {\n",
              "          event.preventDefault();\n",
              "          event.stopPropagation();\n",
              "          element.classList.toggle('function-repr-contents-collapsed');\n",
              "        };\n",
              "      }\n",
              "      </script>\n",
              "      </div>"
            ]
          },
          "metadata": {},
          "execution_count": 15
        },
        {
          "output_type": "display_data",
          "data": {
            "text/plain": [
              "<Figure size 640x480 with 1 Axes>"
            ],
            "image/png": "[encoded data removed]"
          },
          "metadata": {}
        }
      ],
      "source": [
        "# Plotting training and validation MAE for LSTM Network\n",
        "import matplotlib.pyplot as plt\n",
        "loss = history3.history[\"mae\"]\n",
        "val_loss=history3.history[\"val_mae\"]\n",
        "epochs = range(1, len(loss)+1)\n",
        "plt.figure()\n",
        "plt.plot(epochs, loss, \"bo\", label=\"Training MAE\")\n",
        "plt.plot(epochs, val_loss, \"b\", label=\"Validation MAE\")\n",
        "plt.title(\"Training and validation MAE\")\n",
        "plt.legend()\n",
        "plt.show"
      ]
    },
    {
      "cell_type": "markdown",
      "source": [
        "## Conclusion\n",
        "\n",
        "Based on the Mean Absolute Error (MAE) observed during testing, the LSTM network is generally the best option for this dataset due to its ability to capture long-term dependencies, which are crucial for timeseries data like climate measurements. However, if computational resources are limited or faster inference is required, the convolutional network provides a good balance between performance and efficiency."
      ],
      "metadata": {
        "id": "rRqxSoANkfPA"
      }
    }
  ],
  "metadata": {
    "colab": {
      "provenance": [],
      "authorship_tag": "ABX9TyOePINs6LXqHFSytpY9TkSv",
      "include_colab_link": true
    },
    "kernelspec": {
      "display_name": "Python 3",
      "name": "python3"
    },
    "language_info": {
      "name": "python"
    }
  },
  "nbformat": 4,
  "nbformat_minor": 0
}