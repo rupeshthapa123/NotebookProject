{
  "nbformat": 4,
  "nbformat_minor": 0,
  "metadata": {
    "colab": {
      "provenance": [],
      "include_colab_link": true
    },
    "kernelspec": {
      "name": "python3",
      "display_name": "Python 3"
    },
    "language_info": {
      "name": "python"
    }
  },
  "cells": [
    {
      "cell_type": "markdown",
      "metadata": {
        "id": "view-in-github",
        "colab_type": "text"
      },
      "source": [
        "<a href=\"https://colab.research.google.com/github/rupeshthapa123/NotebookProject/blob/main/Rupesh_Thapa_DimensionalityReduction.ipynb\" target=\"_parent\"><img src=\"https://colab.research.google.com/assets/colab-badge.svg\" alt=\"Open In Colab\"/></a>"
      ]
    },
    {
      "cell_type": "markdown",
      "source": [
        "# Dimensionality Reduction"
      ],
      "metadata": {
        "id": "rOpj6bGOuhry"
      }
    },
    {
      "cell_type": "markdown",
      "source": [
        "In this lab, you will understand the process behind reducing datasets dimensionality while preserving variance.\n",
        "\n",
        "Using the class slides as references, implement a synthetic dataset in 3D and reduce it to 2D using both SVD and PCA methods.\n",
        "\n",
        "Include your steps below in text and provide the corresponding Python code blocks.\n"
      ],
      "metadata": {
        "id": "NAw1VcaPulMr"
      }
    },
    {
      "cell_type": "markdown",
      "source": [
        "\n",
        "\n",
        "write your steps here..."
      ],
      "metadata": {
        "id": "VS0lltEKzZFm"
      }
    },
    {
      "cell_type": "code",
      "source": [
        "import numpy as np\n",
        "\n",
        "np.random.seed(4)\n",
        "m = 60\n",
        "w1, w2 = 0.1, 0.3\n",
        "noise = 0.1\n",
        "\n",
        "angles = np.random.rand(m) * 3 * np.pi / 2 - 0.5\n",
        "X = np.empty((m, 3))\n",
        "X[:, 0] = np.cos(angles) + np.sin(angles)/2 + noise * np.random.randn(m) / 2\n",
        "X[:, 1] = np.sin(angles) * 0.7 + noise * np.random.randn(m) / 2\n",
        "X[:, 2] = X[:, 0] * w1 + X[:, 1] * w2 + noise * np.random.randn(m)"
      ],
      "metadata": {
        "id": "sVWe_qdO_Wi4"
      },
      "execution_count": null,
      "outputs": []
    },
    {
      "cell_type": "code",
      "source": [
        "print(X[:, 2])"
      ],
      "metadata": {
        "colab": {
          "base_uri": "https://localhost:8080/"
        },
        "id": "KDwqs_1h_tOP",
        "outputId": "138ecbd0-83be-41ed-b07e-b613d26d2e33"
      },
      "execution_count": null,
      "outputs": [
        {
          "output_type": "stream",
          "name": "stdout",
          "text": [
            "[-0.26132626  0.03507755 -0.24920288  0.02182381  0.19152496  0.31710572\n",
            " -0.13368695 -0.00787835  0.46783297  0.2340159  -0.12152034  0.06972972\n",
            " -0.15761101 -0.13927911  0.09790432  0.06433843 -0.05926516  0.24642318\n",
            " -0.02162333 -0.38573526  0.39019099 -0.47610118 -0.18764369 -0.17189644\n",
            "  0.26579776  0.02223257  0.11210787  0.17826927 -0.07641252  0.37436649\n",
            "  0.14346668 -0.37070336  0.13736259  0.09297312  0.2668735   0.32415098\n",
            "  0.15571838 -0.06928305  0.13122889  0.27325686  0.25979142  0.15964958\n",
            "  0.1002999   0.11781711  0.25192037  0.17445205 -0.07109776  0.31705263\n",
            "  0.28640517 -0.10303808 -0.13498243  0.25913415  0.0903395   0.23025679\n",
            "  0.07305738  0.14297884 -0.33508853  0.43823703  0.05828838  0.25317605]\n"
          ]
        }
      ]
    },
    {
      "cell_type": "code",
      "source": [
        "X_centered = X - X.mean(axis=0)\n",
        "U, s, Vt = np.linalg.svd(X_centered)\n",
        "c1 = Vt.T[:, 0]\n",
        "c2 = Vt.T[:, 1]\n",
        "\n",
        "m, n = X.shape\n",
        "\n",
        "S = np.zeros(X_centered.shape)\n",
        "S[:n, :n] = np.diag(s)\n",
        "np.allclose(X_centered, U.dot(S).dot(Vt))\n",
        "W2 = Vt.T[:, :2]\n",
        "X2D = X_centered.dot(W2)\n",
        "\n",
        "X2D_using_svd = X2D"
      ],
      "metadata": {
        "id": "OTVDxEEz_s7y"
      },
      "execution_count": null,
      "outputs": []
    },
    {
      "cell_type": "code",
      "source": [
        "print(X2D_using_svd)"
      ],
      "metadata": {
        "colab": {
          "base_uri": "https://localhost:8080/"
        },
        "id": "tJCnDLODEDZt",
        "outputId": "0eebbf1d-fff1-4bed-9aa2-e7258aa3e1a7"
      },
      "execution_count": null,
      "outputs": [
        {
          "output_type": "stream",
          "name": "stdout",
          "text": [
            "[[-1.26203346 -0.42067648]\n",
            " [ 0.08001485  0.35272239]\n",
            " [-1.17545763 -0.36085729]\n",
            " [-0.89305601  0.30862856]\n",
            " [-0.73016287  0.25404049]\n",
            " [ 1.10436914 -0.20204953]\n",
            " [-1.27265808 -0.46781247]\n",
            " [ 0.44933007 -0.67736663]\n",
            " [ 1.09356195  0.04467792]\n",
            " [ 0.66177325  0.28651264]\n",
            " [-1.04466138  0.11244353]\n",
            " [ 1.05932502 -0.31189109]\n",
            " [-1.13761426 -0.14576655]\n",
            " [-1.16044117 -0.36481599]\n",
            " [ 1.00167625 -0.39422008]\n",
            " [-0.2750406   0.34391089]\n",
            " [ 0.45624787 -0.69707573]\n",
            " [ 0.79706574  0.26870969]\n",
            " [ 0.66924929 -0.65520024]\n",
            " [-1.30679728 -0.37671343]\n",
            " [ 0.6626586   0.32706423]\n",
            " [-1.25387588 -0.56043928]\n",
            " [-1.04046987  0.08727672]\n",
            " [-1.26047729 -0.1571074 ]\n",
            " [ 1.09786649 -0.38643428]\n",
            " [ 0.7130973  -0.64941523]\n",
            " [-0.17786909  0.43609071]\n",
            " [ 1.02975735 -0.33747452]\n",
            " [-0.94552283  0.22833268]\n",
            " [ 0.80994916  0.33810729]\n",
            " [ 0.20189175  0.3514758 ]\n",
            " [-1.34219411 -0.42415687]\n",
            " [ 0.13599883  0.37258632]\n",
            " [ 0.8206931  -0.55120835]\n",
            " [ 0.90818634 -0.31869127]\n",
            " [ 0.06703671  0.42486148]\n",
            " [ 0.13936893  0.41906961]\n",
            " [-0.37356775  0.27320849]\n",
            " [ 0.7312441   0.23441131]\n",
            " [-0.5230355   0.46621776]\n",
            " [ 0.86146183  0.30212526]\n",
            " [-0.33203239  0.47352674]\n",
            " [-0.99467436  0.18342807]\n",
            " [ 1.04520043 -0.32697207]\n",
            " [ 0.87477048  0.18062856]\n",
            " [ 0.30457923  0.43904343]\n",
            " [-0.63685997  0.32851826]\n",
            " [ 1.1287259  -0.11627335]\n",
            " [ 0.03836205  0.49036349]\n",
            " [-0.41386843  0.31734423]\n",
            " [-1.32417938 -0.1944472 ]\n",
            " [ 0.92968677  0.18429606]\n",
            " [-0.40274964  0.34154025]\n",
            " [ 1.11480941 -0.24138847]\n",
            " [ 0.31915065  0.27787663]\n",
            " [ 1.02666316 -0.34676546]\n",
            " [-1.24145806 -0.35049349]\n",
            " [ 0.66770361  0.32262317]\n",
            " [-1.16397896  0.03648137]\n",
            " [ 0.68326064  0.22756871]]\n"
          ]
        }
      ]
    },
    {
      "cell_type": "code",
      "source": [
        "from sklearn.decomposition import PCA\n",
        "\n",
        "pca = PCA(n_components=2)\n",
        "X2D = pca.fit_transform(X)\n",
        "\n",
        "X2D[:5]"
      ],
      "metadata": {
        "colab": {
          "base_uri": "https://localhost:8080/"
        },
        "id": "G6ig7D57EG3E",
        "outputId": "acda9572-87f2-40f9-90a3-15b8a4e77954"
      },
      "execution_count": null,
      "outputs": [
        {
          "output_type": "execute_result",
          "data": {
            "text/plain": [
              "array([[ 1.26203346,  0.42067648],\n",
              "       [-0.08001485, -0.35272239],\n",
              "       [ 1.17545763,  0.36085729],\n",
              "       [ 0.89305601, -0.30862856],\n",
              "       [ 0.73016287, -0.25404049]])"
            ]
          },
          "metadata": {},
          "execution_count": 43
        }
      ]
    },
    {
      "cell_type": "code",
      "source": [
        "X2D_using_svd[:5]"
      ],
      "metadata": {
        "colab": {
          "base_uri": "https://localhost:8080/"
        },
        "id": "l0pkBkJsHcor",
        "outputId": "25a93b02-260e-4ee3-b4c3-ce097e1c8bd4"
      },
      "execution_count": null,
      "outputs": [
        {
          "output_type": "execute_result",
          "data": {
            "text/plain": [
              "array([[-1.26203346, -0.42067648],\n",
              "       [ 0.08001485,  0.35272239],\n",
              "       [-1.17545763, -0.36085729],\n",
              "       [-0.89305601,  0.30862856],\n",
              "       [-0.73016287,  0.25404049]])"
            ]
          },
          "metadata": {},
          "execution_count": 44
        }
      ]
    },
    {
      "cell_type": "code",
      "source": [
        "pca.explained_variance_ratio_"
      ],
      "metadata": {
        "colab": {
          "base_uri": "https://localhost:8080/"
        },
        "id": "Lss8njfyEX0H",
        "outputId": "e8cda53c-7317-4802-87f4-28d58afda0bc"
      },
      "execution_count": null,
      "outputs": [
        {
          "output_type": "execute_result",
          "data": {
            "text/plain": [
              "array([0.84248607, 0.14631839])"
            ]
          },
          "metadata": {},
          "execution_count": 45
        }
      ]
    }
  ]
}