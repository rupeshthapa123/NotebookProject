{
  "nbformat": 4,
  "nbformat_minor": 0,
  "metadata": {
    "colab": {
      "provenance": [],
      "include_colab_link": true
    },
    "kernelspec": {
      "name": "python3",
      "display_name": "Python 3"
    },
    "language_info": {
      "name": "python"
    }
  },
  "cells": [
    {
      "cell_type": "markdown",
      "metadata": {
        "id": "view-in-github",
        "colab_type": "text"
      },
      "source": [
        "<a href=\"https://colab.research.google.com/github/rupeshthapa123/NotebookProject/blob/main/RupeshThapa_Lab8_Clustering.ipynb\" target=\"_parent\"><img src=\"https://colab.research.google.com/assets/colab-badge.svg\" alt=\"Open In Colab\"/></a>"
      ]
    },
    {
      "cell_type": "markdown",
      "source": [
        "# Lab8. Clustering"
      ],
      "metadata": {
        "id": "6X3AsJcGr7ej"
      }
    },
    {
      "cell_type": "markdown",
      "source": [
        "Clustering is a powerful example of Unsupervised Learning, in which the dataset is not classified or labeled a priori.\n",
        "Unlabeled data is more common than we think, almost all multimedia is unlabeled: audio, image and video are good examples. Also, real time data is unlabeled by nature as there may be no time for labelling it on the fly. Although Unsupervised Learning is not as famous or fancy as Supervised Learning, it plays an important role on initial data analysis and gives options when dealing with difficult datasets.\n",
        "\n",
        "In this lab, you will implement the clustering algorithm to analyze an unlabeled dataset. Use the lecture slides to guide you through the implementation.\n",
        "\n"
      ],
      "metadata": {
        "id": "Gr204uMjr_NU"
      }
    },
    {
      "cell_type": "markdown",
      "source": [
        "## Part1. Dataset\n",
        "\n",
        "Create a dataset with four clusters using the make_blobs function in Sklearn library. You can refer to the lecture slides."
      ],
      "metadata": {
        "id": "0ShUxDDTv-MW"
      }
    },
    {
      "cell_type": "code",
      "source": [
        "# write your code here\n",
        "import numpy as np\n",
        "from sklearn.datasets import make_blobs\n",
        "\n",
        "blob_centers = np.array(\n",
        "    [[0.2, 2.3],\n",
        "     [-1.5, 2.3],\n",
        "     [-2.8, 1.8],\n",
        "     [-1.3, 1.3]])\n",
        "blob_std = np.array([0.1,0.2,0.3,0.4])"
      ],
      "metadata": {
        "id": "IR9C9EVEyE3N"
      },
      "execution_count": null,
      "outputs": []
    },
    {
      "cell_type": "code",
      "source": [
        "X, y = make_blobs(n_samples=2000, centers=blob_centers, cluster_std=blob_std, random_state=7)"
      ],
      "metadata": {
        "id": "gNQmH7_LIW5S"
      },
      "execution_count": null,
      "outputs": []
    },
    {
      "cell_type": "code",
      "source": [
        "from matplotlib import pyplot as plt\n",
        "\n",
        "def plot_clusters(X, y=None):\n",
        "  plt.scatter(X[:,0],X[:,1], c=y, s=1)\n",
        "  plt.xlabel(\"$x_1$\", fontsize=14)\n",
        "  plt.ylabel(\"$x_2$\", fontsize=14, rotation=0)\n",
        "\n",
        "plt.figure(figsize= (8, 4) )\n",
        "plot_clusters(X)\n",
        "#plt.save_fig(\"blobs_plot\")\n",
        "plt.show()"
      ],
      "metadata": {
        "colab": {
          "base_uri": "https://localhost:8080/",
          "height": 393
        },
        "id": "y2VNomWTItvT",
        "outputId": "7515860a-bbf8-41af-ecc8-8560c21dc1f9"
      },
      "execution_count": null,
      "outputs": [
        {
          "output_type": "display_data",
          "data": {
            "text/plain": [
              "<Figure size 800x400 with 1 Axes>"
            ],
            "image/png": "[encoded data removed]"
          },
          "metadata": {}
        }
      ]
    },
    {
      "cell_type": "markdown",
      "source": [
        "## Part2. Implement the clustering algorithm using Sklearn library\n",
        "\n",
        "1. Use the dataset you created before to train a clustering model\n",
        "2. Provide the final computed centroids in the model\n",
        "3. Propose two never seen datapoints and use the model to predict their corresponding cluster"
      ],
      "metadata": {
        "id": "8LpbHYUKyGzl"
      }
    },
    {
      "cell_type": "code",
      "source": [
        "# write your code here\n",
        "from sklearn.cluster import KMeans\n",
        "k = 4\n",
        "kmeans = KMeans(n_clusters=k, n_init=1)\n",
        "y_pred = kmeans.fit_predict(X)"
      ],
      "metadata": {
        "id": "VY-gGDsJ3lIk"
      },
      "execution_count": null,
      "outputs": []
    },
    {
      "cell_type": "code",
      "source": [
        "y_pred"
      ],
      "metadata": {
        "colab": {
          "base_uri": "https://localhost:8080/"
        },
        "id": "Hp1pqpDGMPUa",
        "outputId": "4e690762-00e2-4258-ee5a-6ef410c94265"
      },
      "execution_count": null,
      "outputs": [
        {
          "output_type": "execute_result",
          "data": {
            "text/plain": [
              "array([1, 0, 2, ..., 1, 2, 0], dtype=int32)"
            ]
          },
          "metadata": {},
          "execution_count": 5
        }
      ]
    },
    {
      "cell_type": "code",
      "source": [
        "y_pred is kmeans.labels_"
      ],
      "metadata": {
        "colab": {
          "base_uri": "https://localhost:8080/"
        },
        "id": "T1UiPMGPMSCQ",
        "outputId": "d345701a-1e05-4ac3-c02a-72a7efab3a48"
      },
      "execution_count": null,
      "outputs": [
        {
          "output_type": "execute_result",
          "data": {
            "text/plain": [
              "True"
            ]
          },
          "metadata": {},
          "execution_count": 6
        }
      ]
    },
    {
      "cell_type": "code",
      "source": [
        "kmeans.cluster_centers_"
      ],
      "metadata": {
        "colab": {
          "base_uri": "https://localhost:8080/"
        },
        "id": "1WG-H25rMwdU",
        "outputId": "904b36f3-f182-4875-cb02-a3dd1b270fc0"
      },
      "execution_count": null,
      "outputs": [
        {
          "output_type": "execute_result",
          "data": {
            "text/plain": [
              "array([[-2.80414344,  1.80786271],\n",
              "       [-1.2791246 ,  1.19899862],\n",
              "       [ 0.19504931,  2.28748153],\n",
              "       [-1.49340454,  2.24313877]])"
            ]
          },
          "metadata": {},
          "execution_count": 7
        }
      ]
    },
    {
      "cell_type": "code",
      "source": [
        "X_new = np.array([[0,2],[4,1],[3,2],[-2,1.5]])\n",
        "kmeans.predict(X_new)"
      ],
      "metadata": {
        "colab": {
          "base_uri": "https://localhost:8080/"
        },
        "id": "5bkqj8PkNBpu",
        "outputId": "4cd96bc8-bbe3-4d89-aaba-ffa8636c8b9f"
      },
      "execution_count": null,
      "outputs": [
        {
          "output_type": "execute_result",
          "data": {
            "text/plain": [
              "array([2, 2, 2, 1], dtype=int32)"
            ]
          },
          "metadata": {},
          "execution_count": 8
        }
      ]
    },
    {
      "cell_type": "code",
      "source": [
        "Y_new = np.array([[0,6],[3,3],[4,-1],[-3,2]])\n",
        "kmeans.predict(Y_new)"
      ],
      "metadata": {
        "colab": {
          "base_uri": "https://localhost:8080/"
        },
        "id": "yFNQwQDJUW7h",
        "outputId": "09d3a9c9-bed6-4065-c3e9-fd6342158415"
      },
      "execution_count": null,
      "outputs": [
        {
          "output_type": "execute_result",
          "data": {
            "text/plain": [
              "array([2, 2, 2, 0], dtype=int32)"
            ]
          },
          "metadata": {},
          "execution_count": 9
        }
      ]
    },
    {
      "cell_type": "markdown",
      "source": [
        "## Part3. Centroid initialization\n",
        "\n",
        "1. Propose two different initialization vectors and train two new clustering models\n",
        "2. For each model, provide the corresponding inertia"
      ],
      "metadata": {
        "id": "qwLi4t3K3mkh"
      }
    },
    {
      "cell_type": "code",
      "source": [
        "good_init1 = np.array([[-2,1],[4,3],[-2,6],[-1,5]])\n",
        "kmeans = KMeans(n_clusters=4, init=good_init1, n_init=1)\n",
        "kmeans.fit_predict(X)\n",
        "kmeans.inertia_"
      ],
      "metadata": {
        "id": "WuVk2CWI4AFF",
        "colab": {
          "base_uri": "https://localhost:8080/"
        },
        "outputId": "db95bcf1-a81f-4f32-d9f8-e73705739ecf"
      },
      "execution_count": null,
      "outputs": [
        {
          "output_type": "execute_result",
          "data": {
            "text/plain": [
              "264.68935792701615"
            ]
          },
          "metadata": {},
          "execution_count": 10
        }
      ]
    },
    {
      "cell_type": "code",
      "source": [
        "good_init2 = np.array([[3,1],[-2,8],[-4,-6],[3,5]])\n",
        "kmeans = KMeans(n_clusters=4, init=good_init2, n_init=1)\n",
        "kmeans.fit_predict(X)\n",
        "kmeans.inertia_"
      ],
      "metadata": {
        "colab": {
          "base_uri": "https://localhost:8080/"
        },
        "id": "U8KLhYHWWXoP",
        "outputId": "5e4810bf-2232-444f-adc8-d975a1d171cb"
      },
      "execution_count": null,
      "outputs": [
        {
          "output_type": "execute_result",
          "data": {
            "text/plain": [
              "264.67654895195255"
            ]
          },
          "metadata": {},
          "execution_count": 11
        }
      ]
    },
    {
      "cell_type": "markdown",
      "source": [
        "## Part4. Optimal K\n",
        "\n",
        "Verify that K=4 is correct by finding the silhouette score for K=3, K=4 and K=5\n",
        "\n",
        "NOTE: You will need to train three different models for each score."
      ],
      "metadata": {
        "id": "jHDxWe8c4Ac0"
      }
    },
    {
      "cell_type": "code",
      "source": [
        "from sklearn.metrics import silhouette_score\n",
        "#silhouette_score(X, kmeans.labels_)\n",
        "silhouette_scores = []\n",
        "for k in range(3, 6):\n",
        "    kmeans = KMeans(n_clusters=k, n_init=1)\n",
        "    kmeans.fit(X)\n",
        "    silhouette_scores.append(silhouette_score(X, kmeans.labels_))\n",
        "\n",
        "print(silhouette_scores)"
      ],
      "metadata": {
        "id": "JUn5Y8hh4lM5",
        "colab": {
          "base_uri": "https://localhost:8080/"
        },
        "outputId": "b6bc4867-cb07-4f8f-a171-19c51ce3171f"
      },
      "execution_count": null,
      "outputs": [
        {
          "output_type": "stream",
          "name": "stdout",
          "text": [
            "[0.5995990825782954, 0.6460133146038682, 0.6092199105155396]\n"
          ]
        }
      ]
    },
    {
      "cell_type": "code",
      "source": [
        "silhouette_scores = []\n",
        "for k in range(2, 9):\n",
        "    kmeans = KMeans(n_clusters=k, n_init=1)\n",
        "    kmeans.fit(X)\n",
        "    silhouette_scores.append(silhouette_score(X, kmeans.labels_))\n",
        "\n",
        "# Plot the silhouette scores\n",
        "plt.plot(range(2, 9), silhouette_scores, 'bo-')\n",
        "plt.xlabel('Number of Clusters or k')\n",
        "plt.ylabel('Silhouette Score')\n",
        "plt.show()"
      ],
      "metadata": {
        "colab": {
          "base_uri": "https://localhost:8080/",
          "height": 449
        },
        "id": "ROT5Qd5SXlDK",
        "outputId": "0b43b918-cb31-49d5-c03c-4f23660528fa"
      },
      "execution_count": null,
      "outputs": [
        {
          "output_type": "display_data",
          "data": {
            "text/plain": [
              "<Figure size 640x480 with 1 Axes>"
            ],
            "image/png": "[encoded data removed]"
          },
          "metadata": {}
        }
      ]
    }
  ]
}