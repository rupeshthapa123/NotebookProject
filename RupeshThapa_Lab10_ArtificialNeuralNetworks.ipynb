{
  "nbformat": 4,
  "nbformat_minor": 0,
  "metadata": {
    "colab": {
      "provenance": [],
      "include_colab_link": true
    },
    "kernelspec": {
      "name": "python3",
      "display_name": "Python 3"
    },
    "language_info": {
      "name": "python"
    }
  },
  "cells": [
    {
      "cell_type": "markdown",
      "metadata": {
        "id": "view-in-github",
        "colab_type": "text"
      },
      "source": [
        "<a href=\"https://colab.research.google.com/github/rupeshthapa123/NotebookProject/blob/main/RupeshThapa_Lab10_ArtificialNeuralNetworks.ipynb\" target=\"_parent\"><img src=\"https://colab.research.google.com/assets/colab-badge.svg\" alt=\"Open In Colab\"/></a>"
      ]
    },
    {
      "cell_type": "markdown",
      "source": [
        "# Lab10. Artificial Neural Networks"
      ],
      "metadata": {
        "id": "BPjAQYvx3ZX7"
      }
    },
    {
      "cell_type": "markdown",
      "source": [
        "In this lab you will implement a basic Artificial Neural Network using a multilayer perceptron architecture. The Fashion MNIST dataset is used to train a model that classifies images of clothes."
      ],
      "metadata": {
        "id": "l0EIEMeh3Zie"
      }
    },
    {
      "cell_type": "markdown",
      "source": [
        "# Dataset\n",
        "\n",
        "Import the Fashion MNIST dataset using Keras. Show the shape and data type of the data."
      ],
      "metadata": {
        "id": "UX9MP95g3Zk9"
      }
    },
    {
      "cell_type": "code",
      "source": [
        "import keras"
      ],
      "metadata": {
        "id": "8o2wDSi7TTvQ"
      },
      "execution_count": null,
      "outputs": []
    },
    {
      "cell_type": "code",
      "source": [
        "fashion_mnist = keras.datasets.fashion_mnist\n",
        "(X_train_full, y_train_full), (X_test, y_test)= fashion_mnist.load_data()"
      ],
      "metadata": {
        "id": "KXXH7ph-7vGy",
        "colab": {
          "base_uri": "https://localhost:8080/"
        },
        "outputId": "b764deb0-42f2-4684-a6f9-20931512bbfc"
      },
      "execution_count": null,
      "outputs": [
        {
          "output_type": "stream",
          "name": "stdout",
          "text": [
            "Downloading data from https://storage.googleapis.com/tensorflow/tf-keras-datasets/train-labels-idx1-ubyte.gz\n",
            "29515/29515 [==============================] - 0s 0us/step\n",
            "Downloading data from https://storage.googleapis.com/tensorflow/tf-keras-datasets/train-images-idx3-ubyte.gz\n",
            "26421880/26421880 [==============================] - 0s 0us/step\n",
            "Downloading data from https://storage.googleapis.com/tensorflow/tf-keras-datasets/t10k-labels-idx1-ubyte.gz\n",
            "5148/5148 [==============================] - 0s 0us/step\n",
            "Downloading data from https://storage.googleapis.com/tensorflow/tf-keras-datasets/t10k-images-idx3-ubyte.gz\n",
            "4422102/4422102 [==============================] - 0s 0us/step\n"
          ]
        }
      ]
    },
    {
      "cell_type": "markdown",
      "source": [
        "Create a validation dataset from the original dataset and scale the train/validation dataset to a range of 0 to 1"
      ],
      "metadata": {
        "id": "JASJ_VxY3Znh"
      }
    },
    {
      "cell_type": "code",
      "source": [
        "X_train_full.shape"
      ],
      "metadata": {
        "id": "Ql2meqv28Mn-",
        "colab": {
          "base_uri": "https://localhost:8080/"
        },
        "outputId": "8eb852cd-d1ef-4134-f1d4-5918f1d5aeb3"
      },
      "execution_count": null,
      "outputs": [
        {
          "output_type": "execute_result",
          "data": {
            "text/plain": [
              "(60000, 28, 28)"
            ]
          },
          "metadata": {},
          "execution_count": 3
        }
      ]
    },
    {
      "cell_type": "code",
      "source": [
        "X_train_full.dtype"
      ],
      "metadata": {
        "colab": {
          "base_uri": "https://localhost:8080/"
        },
        "id": "74ddAdSwThSN",
        "outputId": "d4457b19-ac4e-4ac6-ca68-984a48e29fb2"
      },
      "execution_count": null,
      "outputs": [
        {
          "output_type": "execute_result",
          "data": {
            "text/plain": [
              "dtype('uint8')"
            ]
          },
          "metadata": {},
          "execution_count": 4
        }
      ]
    },
    {
      "cell_type": "code",
      "source": [
        "X_valid, X_train = X_train_full[:5000] / 255.0, X_train_full[5000:] / 255.0\n",
        "y_valid, y_train = y_train_full[:5000], y_train_full[5000:]"
      ],
      "metadata": {
        "id": "drBDcZLsTrpE"
      },
      "execution_count": null,
      "outputs": []
    },
    {
      "cell_type": "code",
      "source": [
        "class_names = [\"T-shirt/top\", \"Trouser\", \"Pullover\", \"Dress\", \"Coat\", \"Sandal\", \"Shirt\", \"Sneaker\", \"Bag\", \"Ankle boot\"]\n",
        "class_names[y_train[0]]"
      ],
      "metadata": {
        "colab": {
          "base_uri": "https://localhost:8080/",
          "height": 35
        },
        "id": "5IxftuIqUSsT",
        "outputId": "bb60d4e0-4686-4d46-e190-4012a992d2d7"
      },
      "execution_count": null,
      "outputs": [
        {
          "output_type": "execute_result",
          "data": {
            "text/plain": [
              "'Coat'"
            ],
            "application/vnd.google.colaboratory.intrinsic+json": {
              "type": "string"
            }
          },
          "metadata": {},
          "execution_count": 6
        }
      ]
    },
    {
      "cell_type": "markdown",
      "source": [
        "# Sequential ANN Model"
      ],
      "metadata": {
        "id": "R5LVQYa58M_0"
      }
    },
    {
      "cell_type": "markdown",
      "source": [
        "Use the Sequential function to create a sequential model with two hidden layers using:\n",
        "- One 28x28 input layer flattened to a vector\n",
        "- Two dense layers of 300 and 100 neurons **using** relu activation\n",
        "- One output layer with 10 outputs using **softmax** activation function"
      ],
      "metadata": {
        "id": "35BPvEAp8TxN"
      }
    },
    {
      "cell_type": "code",
      "source": [
        "model = keras.models.Sequential()\n",
        "model.add(keras.layers.Flatten(input_shape=[28,28]))\n",
        "model.add(keras.layers.Dense(300, activation=\"relu\"))\n",
        "model.add(keras.layers.Dense(100, activation=\"relu\"))\n",
        "model.add(keras.layers.Dense(10, activation=\"softmax\"))"
      ],
      "metadata": {
        "id": "u6xcOtOc83kJ"
      },
      "execution_count": null,
      "outputs": []
    },
    {
      "cell_type": "markdown",
      "source": [
        "Show the summary and layers for your model"
      ],
      "metadata": {
        "id": "WgmqzjT28361"
      }
    },
    {
      "cell_type": "code",
      "source": [
        "model.summary()"
      ],
      "metadata": {
        "id": "Umlx4DHJ9CcW",
        "colab": {
          "base_uri": "https://localhost:8080/"
        },
        "outputId": "de3c59cc-bd97-4f16-fb1c-0e49f16ffa25"
      },
      "execution_count": null,
      "outputs": [
        {
          "output_type": "stream",
          "name": "stdout",
          "text": [
            "Model: \"sequential\"\n",
            "_________________________________________________________________\n",
            " Layer (type)                Output Shape              Param #   \n",
            "=================================================================\n",
            " flatten (Flatten)           (None, 784)               0         \n",
            "                                                                 \n",
            " dense (Dense)               (None, 300)               235500    \n",
            "                                                                 \n",
            " dense_1 (Dense)             (None, 100)               30100     \n",
            "                                                                 \n",
            " dense_2 (Dense)             (None, 10)                1010      \n",
            "                                                                 \n",
            "=================================================================\n",
            "Total params: 266610 (1.02 MB)\n",
            "Trainable params: 266610 (1.02 MB)\n",
            "Non-trainable params: 0 (0.00 Byte)\n",
            "_________________________________________________________________\n"
          ]
        }
      ]
    },
    {
      "cell_type": "code",
      "source": [
        "model.layers"
      ],
      "metadata": {
        "colab": {
          "base_uri": "https://localhost:8080/"
        },
        "id": "5lUJrkJNW74C",
        "outputId": "118cef88-7880-42b9-884a-b47dae598407"
      },
      "execution_count": null,
      "outputs": [
        {
          "output_type": "execute_result",
          "data": {
            "text/plain": [
              "[<keras.src.layers.reshaping.flatten.Flatten at 0x7ed77f7afdf0>,\n",
              " <keras.src.layers.core.dense.Dense at 0x7ed77f82caf0>,\n",
              " <keras.src.layers.core.dense.Dense at 0x7ed77f82d7b0>,\n",
              " <keras.src.layers.core.dense.Dense at 0x7ed77f82d8a0>]"
            ]
          },
          "metadata": {},
          "execution_count": 9
        }
      ]
    },
    {
      "cell_type": "code",
      "source": [
        "hidden1 = model.layers[1]\n",
        "hidden1.name"
      ],
      "metadata": {
        "colab": {
          "base_uri": "https://localhost:8080/",
          "height": 35
        },
        "id": "DEef_-l4XDle",
        "outputId": "80e0d893-ef63-41cc-874e-303bf76bb7b8"
      },
      "execution_count": null,
      "outputs": [
        {
          "output_type": "execute_result",
          "data": {
            "text/plain": [
              "'dense'"
            ],
            "application/vnd.google.colaboratory.intrinsic+json": {
              "type": "string"
            }
          },
          "metadata": {},
          "execution_count": 10
        }
      ]
    },
    {
      "cell_type": "code",
      "source": [
        "model.get_layer('dense') is hidden1"
      ],
      "metadata": {
        "colab": {
          "base_uri": "https://localhost:8080/"
        },
        "id": "FdVmMvirXDwk",
        "outputId": "70468a5d-6d03-4756-eaf9-1539bf19f12a"
      },
      "execution_count": null,
      "outputs": [
        {
          "output_type": "execute_result",
          "data": {
            "text/plain": [
              "True"
            ]
          },
          "metadata": {},
          "execution_count": 11
        }
      ]
    },
    {
      "cell_type": "markdown",
      "source": [
        "Show the weights and biases of your model"
      ],
      "metadata": {
        "id": "qv3RRhaO9Cts"
      }
    },
    {
      "cell_type": "code",
      "source": [
        "weights, biases = hidden1.get_weights()"
      ],
      "metadata": {
        "id": "DSka8F-c9Jjt"
      },
      "execution_count": null,
      "outputs": []
    },
    {
      "cell_type": "code",
      "source": [
        "weights"
      ],
      "metadata": {
        "colab": {
          "base_uri": "https://localhost:8080/"
        },
        "id": "jeRwSBnHXif9",
        "outputId": "030b5ca5-8670-414f-ebf4-a0745987116b"
      },
      "execution_count": null,
      "outputs": [
        {
          "output_type": "execute_result",
          "data": {
            "text/plain": [
              "array([[-0.01989499,  0.01927517,  0.06700718, ...,  0.07048884,\n",
              "         0.05265251, -0.04459247],\n",
              "       [ 0.01746962,  0.00277495,  0.03367725, ...,  0.03294134,\n",
              "         0.0618834 ,  0.03014299],\n",
              "       [ 0.06198838, -0.02949314,  0.0204529 , ..., -0.00873221,\n",
              "        -0.05074516, -0.03144017],\n",
              "       ...,\n",
              "       [-0.00251168,  0.02404235,  0.03754082, ..., -0.05005417,\n",
              "        -0.04876741,  0.03019466],\n",
              "       [-0.03508861, -0.06054517,  0.01681057, ...,  0.06193858,\n",
              "         0.06167658, -0.06558368],\n",
              "       [ 0.01457798, -0.06499345,  0.0202755 , ..., -0.06232979,\n",
              "         0.03276701,  0.00978328]], dtype=float32)"
            ]
          },
          "metadata": {},
          "execution_count": 13
        }
      ]
    },
    {
      "cell_type": "code",
      "source": [
        "weights.shape"
      ],
      "metadata": {
        "colab": {
          "base_uri": "https://localhost:8080/"
        },
        "id": "a5ktTvOHXmQQ",
        "outputId": "89533808-e2ae-43ad-b983-0d521f6ad6b3"
      },
      "execution_count": null,
      "outputs": [
        {
          "output_type": "execute_result",
          "data": {
            "text/plain": [
              "(784, 300)"
            ]
          },
          "metadata": {},
          "execution_count": 14
        }
      ]
    },
    {
      "cell_type": "code",
      "source": [
        "biases"
      ],
      "metadata": {
        "colab": {
          "base_uri": "https://localhost:8080/"
        },
        "id": "7LcMAfZGXpSC",
        "outputId": "94f42862-2716-47a4-9cbc-7b92ce3eef1d"
      },
      "execution_count": null,
      "outputs": [
        {
          "output_type": "execute_result",
          "data": {
            "text/plain": [
              "array([0., 0., 0., 0., 0., 0., 0., 0., 0., 0., 0., 0., 0., 0., 0., 0., 0.,\n",
              "       0., 0., 0., 0., 0., 0., 0., 0., 0., 0., 0., 0., 0., 0., 0., 0., 0.,\n",
              "       0., 0., 0., 0., 0., 0., 0., 0., 0., 0., 0., 0., 0., 0., 0., 0., 0.,\n",
              "       0., 0., 0., 0., 0., 0., 0., 0., 0., 0., 0., 0., 0., 0., 0., 0., 0.,\n",
              "       0., 0., 0., 0., 0., 0., 0., 0., 0., 0., 0., 0., 0., 0., 0., 0., 0.,\n",
              "       0., 0., 0., 0., 0., 0., 0., 0., 0., 0., 0., 0., 0., 0., 0., 0., 0.,\n",
              "       0., 0., 0., 0., 0., 0., 0., 0., 0., 0., 0., 0., 0., 0., 0., 0., 0.,\n",
              "       0., 0., 0., 0., 0., 0., 0., 0., 0., 0., 0., 0., 0., 0., 0., 0., 0.,\n",
              "       0., 0., 0., 0., 0., 0., 0., 0., 0., 0., 0., 0., 0., 0., 0., 0., 0.,\n",
              "       0., 0., 0., 0., 0., 0., 0., 0., 0., 0., 0., 0., 0., 0., 0., 0., 0.,\n",
              "       0., 0., 0., 0., 0., 0., 0., 0., 0., 0., 0., 0., 0., 0., 0., 0., 0.,\n",
              "       0., 0., 0., 0., 0., 0., 0., 0., 0., 0., 0., 0., 0., 0., 0., 0., 0.,\n",
              "       0., 0., 0., 0., 0., 0., 0., 0., 0., 0., 0., 0., 0., 0., 0., 0., 0.,\n",
              "       0., 0., 0., 0., 0., 0., 0., 0., 0., 0., 0., 0., 0., 0., 0., 0., 0.,\n",
              "       0., 0., 0., 0., 0., 0., 0., 0., 0., 0., 0., 0., 0., 0., 0., 0., 0.,\n",
              "       0., 0., 0., 0., 0., 0., 0., 0., 0., 0., 0., 0., 0., 0., 0., 0., 0.,\n",
              "       0., 0., 0., 0., 0., 0., 0., 0., 0., 0., 0., 0., 0., 0., 0., 0., 0.,\n",
              "       0., 0., 0., 0., 0., 0., 0., 0., 0., 0., 0.], dtype=float32)"
            ]
          },
          "metadata": {},
          "execution_count": 15
        }
      ]
    },
    {
      "cell_type": "code",
      "source": [
        "biases.shape"
      ],
      "metadata": {
        "colab": {
          "base_uri": "https://localhost:8080/"
        },
        "id": "u2hyKQtLXs1V",
        "outputId": "408d1bab-3672-48db-d6d8-c7fd145805a6"
      },
      "execution_count": null,
      "outputs": [
        {
          "output_type": "execute_result",
          "data": {
            "text/plain": [
              "(300,)"
            ]
          },
          "metadata": {},
          "execution_count": 16
        }
      ]
    },
    {
      "cell_type": "code",
      "source": [
        "model.compile(loss=\"sparse_categorical_crossentropy\",\n",
        "              optimizer=\"sgd\",\n",
        "              metrics=[\"accuracy\"])"
      ],
      "metadata": {
        "id": "CqKo3KdaX0im"
      },
      "execution_count": null,
      "outputs": []
    },
    {
      "cell_type": "markdown",
      "source": [
        "Train the model using your dataset"
      ],
      "metadata": {
        "id": "_gdupABS9Ju0"
      }
    },
    {
      "cell_type": "code",
      "source": [
        "history = model.fit(X_train, y_train, epochs=30,\n",
        "                    validation_data=(X_valid, y_valid))"
      ],
      "metadata": {
        "id": "yR9S7umV9Mcu",
        "colab": {
          "base_uri": "https://localhost:8080/"
        },
        "outputId": "af691fb9-4a1a-4a94-98b9-fbdd551ccde6"
      },
      "execution_count": null,
      "outputs": [
        {
          "output_type": "stream",
          "name": "stdout",
          "text": [
            "Epoch 1/30\n",
            "1719/1719 [==============================] - 18s 9ms/step - loss: 0.7269 - accuracy: 0.7612 - val_loss: 0.5021 - val_accuracy: 0.8308\n",
            "Epoch 2/30\n",
            "1719/1719 [==============================] - 7s 4ms/step - loss: 0.4890 - accuracy: 0.8292 - val_loss: 0.4761 - val_accuracy: 0.8336\n",
            "Epoch 3/30\n",
            "1719/1719 [==============================] - 7s 4ms/step - loss: 0.4437 - accuracy: 0.8442 - val_loss: 0.4588 - val_accuracy: 0.8350\n",
            "Epoch 4/30\n",
            "1719/1719 [==============================] - 6s 4ms/step - loss: 0.4170 - accuracy: 0.8530 - val_loss: 0.3984 - val_accuracy: 0.8604\n",
            "Epoch 5/30\n",
            "1719/1719 [==============================] - 7s 4ms/step - loss: 0.3948 - accuracy: 0.8619 - val_loss: 0.3869 - val_accuracy: 0.8676\n",
            "Epoch 6/30\n",
            "1719/1719 [==============================] - 6s 4ms/step - loss: 0.3791 - accuracy: 0.8666 - val_loss: 0.3831 - val_accuracy: 0.8656\n",
            "Epoch 7/30\n",
            "1719/1719 [==============================] - 7s 4ms/step - loss: 0.3642 - accuracy: 0.8716 - val_loss: 0.3618 - val_accuracy: 0.8764\n",
            "Epoch 8/30\n",
            "1719/1719 [==============================] - 6s 4ms/step - loss: 0.3519 - accuracy: 0.8749 - val_loss: 0.3560 - val_accuracy: 0.8736\n",
            "Epoch 9/30\n",
            "1719/1719 [==============================] - 7s 4ms/step - loss: 0.3424 - accuracy: 0.8780 - val_loss: 0.3488 - val_accuracy: 0.8744\n",
            "Epoch 10/30\n",
            "1719/1719 [==============================] - 6s 4ms/step - loss: 0.3338 - accuracy: 0.8814 - val_loss: 0.3445 - val_accuracy: 0.8788\n",
            "Epoch 11/30\n",
            "1719/1719 [==============================] - 6s 4ms/step - loss: 0.3250 - accuracy: 0.8841 - val_loss: 0.3426 - val_accuracy: 0.8790\n",
            "Epoch 12/30\n",
            "1719/1719 [==============================] - 7s 4ms/step - loss: 0.3161 - accuracy: 0.8868 - val_loss: 0.3382 - val_accuracy: 0.8788\n",
            "Epoch 13/30\n",
            "1719/1719 [==============================] - 6s 3ms/step - loss: 0.3099 - accuracy: 0.8895 - val_loss: 0.3535 - val_accuracy: 0.8718\n",
            "Epoch 14/30\n",
            "1719/1719 [==============================] - 7s 4ms/step - loss: 0.3027 - accuracy: 0.8914 - val_loss: 0.3296 - val_accuracy: 0.8796\n",
            "Epoch 15/30\n",
            "1719/1719 [==============================] - 6s 4ms/step - loss: 0.2966 - accuracy: 0.8929 - val_loss: 0.3155 - val_accuracy: 0.8872\n",
            "Epoch 16/30\n",
            "1719/1719 [==============================] - 7s 4ms/step - loss: 0.2905 - accuracy: 0.8951 - val_loss: 0.3278 - val_accuracy: 0.8820\n",
            "Epoch 17/30\n",
            "1719/1719 [==============================] - 6s 3ms/step - loss: 0.2842 - accuracy: 0.8986 - val_loss: 0.3353 - val_accuracy: 0.8820\n",
            "Epoch 18/30\n",
            "1719/1719 [==============================] - 7s 4ms/step - loss: 0.2793 - accuracy: 0.9003 - val_loss: 0.3096 - val_accuracy: 0.8930\n",
            "Epoch 19/30\n",
            "1719/1719 [==============================] - 6s 3ms/step - loss: 0.2738 - accuracy: 0.9026 - val_loss: 0.3086 - val_accuracy: 0.8936\n",
            "Epoch 20/30\n",
            "1719/1719 [==============================] - 7s 4ms/step - loss: 0.2682 - accuracy: 0.9042 - val_loss: 0.3063 - val_accuracy: 0.8878\n",
            "Epoch 21/30\n",
            "1719/1719 [==============================] - 6s 3ms/step - loss: 0.2646 - accuracy: 0.9061 - val_loss: 0.3109 - val_accuracy: 0.8884\n",
            "Epoch 22/30\n",
            "1719/1719 [==============================] - 7s 4ms/step - loss: 0.2582 - accuracy: 0.9076 - val_loss: 0.3028 - val_accuracy: 0.8904\n",
            "Epoch 23/30\n",
            "1719/1719 [==============================] - 6s 3ms/step - loss: 0.2538 - accuracy: 0.9084 - val_loss: 0.2945 - val_accuracy: 0.8948\n",
            "Epoch 24/30\n",
            "1719/1719 [==============================] - 7s 4ms/step - loss: 0.2503 - accuracy: 0.9099 - val_loss: 0.3142 - val_accuracy: 0.8892\n",
            "Epoch 25/30\n",
            "1719/1719 [==============================] - 6s 3ms/step - loss: 0.2451 - accuracy: 0.9114 - val_loss: 0.3305 - val_accuracy: 0.8828\n",
            "Epoch 26/30\n",
            "1719/1719 [==============================] - 7s 4ms/step - loss: 0.2417 - accuracy: 0.9132 - val_loss: 0.3000 - val_accuracy: 0.8926\n",
            "Epoch 27/30\n",
            "1719/1719 [==============================] - 6s 3ms/step - loss: 0.2370 - accuracy: 0.9153 - val_loss: 0.3046 - val_accuracy: 0.8896\n",
            "Epoch 28/30\n",
            "1719/1719 [==============================] - 7s 4ms/step - loss: 0.2326 - accuracy: 0.9162 - val_loss: 0.3118 - val_accuracy: 0.8884\n",
            "Epoch 29/30\n",
            "1719/1719 [==============================] - 6s 3ms/step - loss: 0.2299 - accuracy: 0.9179 - val_loss: 0.2976 - val_accuracy: 0.8922\n",
            "Epoch 30/30\n",
            "1719/1719 [==============================] - 7s 4ms/step - loss: 0.2258 - accuracy: 0.9188 - val_loss: 0.2983 - val_accuracy: 0.8890\n"
          ]
        }
      ]
    },
    {
      "cell_type": "markdown",
      "source": [
        "Evaluate the performance of your model and show accuracy and loss."
      ],
      "metadata": {
        "id": "mVf0VkSd9Mqc"
      }
    },
    {
      "cell_type": "code",
      "source": [
        "model.evaluate(X_test, y_test)"
      ],
      "metadata": {
        "id": "73C6hL_s9WqO",
        "colab": {
          "base_uri": "https://localhost:8080/"
        },
        "outputId": "371ee436-93c0-447c-b722-9f4f280dda80"
      },
      "execution_count": null,
      "outputs": [
        {
          "output_type": "stream",
          "name": "stdout",
          "text": [
            "313/313 [==============================] - 1s 2ms/step - loss: 62.3087 - accuracy: 0.8545\n"
          ]
        },
        {
          "output_type": "execute_result",
          "data": {
            "text/plain": [
              "[62.30873107910156, 0.8544999957084656]"
            ]
          },
          "metadata": {},
          "execution_count": 19
        }
      ]
    },
    {
      "cell_type": "markdown",
      "source": [
        "Use the last five samples in the test dataset and predict their classes using **predict** and **predict_proba** functions"
      ],
      "metadata": {
        "id": "3sX6ABFB9W3W"
      }
    },
    {
      "cell_type": "code",
      "source": [
        "X_new = X_test[:5]\n",
        "y_proba = model.predict(X_new)\n",
        "y_proba.round(2)"
      ],
      "metadata": {
        "id": "5EvD0ZSL92IR",
        "colab": {
          "base_uri": "https://localhost:8080/"
        },
        "outputId": "40c28d37-d907-4e86-d2f8-9808cbb6f924"
      },
      "execution_count": null,
      "outputs": [
        {
          "output_type": "stream",
          "name": "stdout",
          "text": [
            "1/1 [==============================] - 0s 89ms/step\n"
          ]
        },
        {
          "output_type": "execute_result",
          "data": {
            "text/plain": [
              "array([[0., 0., 0., 0., 0., 0., 0., 0., 0., 1.],\n",
              "       [0., 0., 1., 0., 0., 0., 0., 0., 0., 0.],\n",
              "       [0., 1., 0., 0., 0., 0., 0., 0., 0., 0.],\n",
              "       [0., 1., 0., 0., 0., 0., 0., 0., 0., 0.],\n",
              "       [0., 0., 0., 0., 0., 0., 1., 0., 0., 0.]], dtype=float32)"
            ]
          },
          "metadata": {},
          "execution_count": 20
        }
      ]
    },
    {
      "cell_type": "markdown",
      "source": [
        "The function predict_classes was removed from tensor flow. That is why I am using new method for the below code."
      ],
      "metadata": {
        "id": "DbuCseJueSCF"
      }
    },
    {
      "cell_type": "code",
      "source": [
        "import numpy as np\n",
        "y_pred = np.argmax(model.predict(X_new), axis=1)\n",
        "y_pred"
      ],
      "metadata": {
        "colab": {
          "base_uri": "https://localhost:8080/"
        },
        "id": "OeBCl9KtZ5G8",
        "outputId": "cfcac347-a7cc-40e7-dea1-6071113e3ac9"
      },
      "execution_count": null,
      "outputs": [
        {
          "output_type": "stream",
          "name": "stdout",
          "text": [
            "1/1 [==============================] - 0s 23ms/step\n"
          ]
        },
        {
          "output_type": "execute_result",
          "data": {
            "text/plain": [
              "array([9, 2, 1, 1, 6])"
            ]
          },
          "metadata": {},
          "execution_count": 21
        }
      ]
    },
    {
      "cell_type": "code",
      "source": [
        "np.array(class_names)[y_pred]"
      ],
      "metadata": {
        "colab": {
          "base_uri": "https://localhost:8080/"
        },
        "id": "NmDNchcaaAlN",
        "outputId": "c74c2727-5abc-4e91-9df5-b684be03e0b2"
      },
      "execution_count": null,
      "outputs": [
        {
          "output_type": "execute_result",
          "data": {
            "text/plain": [
              "array(['Ankle boot', 'Pullover', 'Trouser', 'Trouser', 'Shirt'],\n",
              "      dtype='<U11')"
            ]
          },
          "metadata": {},
          "execution_count": 22
        }
      ]
    }
  ]
}