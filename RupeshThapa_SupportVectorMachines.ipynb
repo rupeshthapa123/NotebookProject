{
  "nbformat": 4,
  "nbformat_minor": 0,
  "metadata": {
    "colab": {
      "provenance": [],
      "include_colab_link": true
    },
    "kernelspec": {
      "name": "python3",
      "display_name": "Python 3"
    },
    "language_info": {
      "name": "python"
    }
  },
  "cells": [
    {
      "cell_type": "markdown",
      "metadata": {
        "id": "view-in-github",
        "colab_type": "text"
      },
      "source": [
        "<a href=\"https://colab.research.google.com/github/rupeshthapa123/NotebookProject/blob/main/RupeshThapa_SupportVectorMachines.ipynb\" target=\"_parent\"><img src=\"https://colab.research.google.com/assets/colab-badge.svg\" alt=\"Open In Colab\"/></a>"
      ]
    },
    {
      "cell_type": "markdown",
      "source": [
        "# Support Vector Machines\n",
        "\n",
        "Support Vector Machines are some of the most popular machine learning models for their versatility and accuracy. Basically, they try to find the largest gap or __margin__ that separates a set of _linearly separable_ classes.\n",
        "\n",
        "The margin limits are defined by “support vectors” that can be lines in the case of 2D, planes in the case of 3D or hyperplanes for higher dimensions.\n",
        "\n",
        "In this lab, you will implement the code for two of the basic machine learning tasks: an SVM classifier and an SVM regressor, both linear and nonlinear cases.\n",
        "\n",
        "__INSTRUCTIONS__: Refer to your lecture slides to complete the code requested in each text box."
      ],
      "metadata": {
        "id": "2ybSO3-t4rHT"
      }
    },
    {
      "cell_type": "markdown",
      "source": [
        "## Linear SVM Classification"
      ],
      "metadata": {
        "id": "oPOQCJatAqpu"
      }
    },
    {
      "cell_type": "markdown",
      "source": [
        "Import the necessary libraries for an SVM classifier.\n",
        "\n",
        "You will need numpy, matplotlib.pyplot and some sklearn sublibraries like datasets, pipeline, standardscaler and linearSVC."
      ],
      "metadata": {
        "id": "ralIPFclXbiP"
      }
    },
    {
      "cell_type": "code",
      "source": [
        "import numpy as np\n",
        "from sklearn import datasets\n",
        "from sklearn.pipeline import Pipeline\n",
        "from sklearn.preprocessing import StandardScaler\n",
        "from sklearn.svm import LinearSVC"
      ],
      "metadata": {
        "id": "hOO7Ukgp5xoy"
      },
      "execution_count": null,
      "outputs": []
    },
    {
      "cell_type": "markdown",
      "source": [
        "Create and train an SVM classifier to classify the Iris dataset in either Iris virginica or not Iris virginica."
      ],
      "metadata": {
        "id": "tq94Ah6OBzIf"
      }
    },
    {
      "cell_type": "code",
      "source": [
        "iris = datasets.load_iris()\n",
        "#Select the features of the dataset\n",
        "X = iris[\"data\"][:, (2,3)]\n",
        "#Create a target variable y\n",
        "y = (iris[\"target\"] == 2).astype(np.float64)\n",
        "\n",
        "#Create a pipeline to scale the data and apply a linear SVM classifier\n",
        "svm_clf = Pipeline([\n",
        "    (\"scaler\", StandardScaler()),\n",
        "    (\"linear_svc\", LinearSVC(C=1, loss=\"hinge\")),\n",
        "])\n",
        "\n",
        "#Fit the pipeline to the data\n",
        "svm_clf.fit(X, y)\n",
        "#Predict the class of a given feature vector\n",
        "svm_clf.predict([[5.5,1.7]])"
      ],
      "metadata": {
        "id": "K3WbKxg9672C",
        "colab": {
          "base_uri": "https://localhost:8080/"
        },
        "outputId": "d271ae23-fab2-40b3-a75a-fff864431a93"
      },
      "execution_count": null,
      "outputs": [
        {
          "output_type": "execute_result",
          "data": {
            "text/plain": [
              "array([1.])"
            ]
          },
          "metadata": {},
          "execution_count": 2
        }
      ]
    },
    {
      "cell_type": "markdown",
      "source": [
        "Predict the species of two new datapoints (petal length, petal width):\n",
        "\n",
        "$p_1 (6,2)$\n",
        "\n",
        "$p_2 (1,0.5)$"
      ],
      "metadata": {
        "id": "nUTrsBDPCwrj"
      }
    },
    {
      "cell_type": "code",
      "source": [
        "svm_clf.predict([[6,2]])"
      ],
      "metadata": {
        "id": "ga0Y-h3g8DeN",
        "colab": {
          "base_uri": "https://localhost:8080/"
        },
        "outputId": "918287fa-556e-47f7-ffe0-62aff34dfe26"
      },
      "execution_count": null,
      "outputs": [
        {
          "output_type": "execute_result",
          "data": {
            "text/plain": [
              "array([1.])"
            ]
          },
          "metadata": {},
          "execution_count": 3
        }
      ]
    },
    {
      "cell_type": "code",
      "source": [
        "svm_clf.predict([[1,0.5]])"
      ],
      "metadata": {
        "colab": {
          "base_uri": "https://localhost:8080/"
        },
        "id": "lrQYYejzDc0Y",
        "outputId": "03948191-fb7a-4d7d-9228-b0a6d5adabd7"
      },
      "execution_count": null,
      "outputs": [
        {
          "output_type": "execute_result",
          "data": {
            "text/plain": [
              "array([0.])"
            ]
          },
          "metadata": {},
          "execution_count": 4
        }
      ]
    },
    {
      "cell_type": "markdown",
      "source": [
        "## Nonlinear SVM Classification"
      ],
      "metadata": {
        "id": "_MZocVYqDZvh"
      }
    },
    {
      "cell_type": "markdown",
      "source": [
        "Import the necessary libraries for a nonlinear svm classifier.\n",
        "\n",
        "Use the __make_moons__ dataset and expand the dataset using Polynomial features.\n",
        "\n",
        "Use the function below to plot the dataset:\n",
        "\n",
        "```python\n",
        "def plot_dataset(X, y, axes):\n",
        "    plt.plot(X[:, 0][y==0], X[:, 1][y==0], \"bs\")\n",
        "    plt.plot(X[:, 0][y==1], X[:, 1][y==1], \"g^\")\n",
        "    plt.axis(axes)\n",
        "    plt.grid(True, which='both')\n",
        "    plt.xlabel(r\"$x_1$\", fontsize=20)\n",
        "    plt.ylabel(r\"$x_2$\", fontsize=20, rotation=0)\n",
        "\n",
        "```"
      ],
      "metadata": {
        "id": "wRtaJY2fXVi7"
      }
    },
    {
      "cell_type": "code",
      "source": [
        "def plot_dataset(X, y, axes):\n",
        "    # Plot the data points X with label 0 in blue and label 1 in green\n",
        "    plt.plot(X[:, 0][y==0], X[:, 1][y==0], \"bs\")\n",
        "    plt.plot(X[:, 0][y==1], X[:, 1][y==1], \"g^\")\n",
        "    # Set the axis limits\n",
        "    plt.axis(axes)\n",
        "    # Add grid lines\n",
        "    plt.grid(True, which='both')\n",
        "    # Label the x-axis\n",
        "    plt.xlabel(r\"$x_1$\", fontsize=20)\n",
        "    # Label the y-axis\n",
        "    plt.ylabel(r\"$x_2$\", fontsize=20, rotation=0)"
      ],
      "metadata": {
        "id": "nvQCqMWNPHT9"
      },
      "execution_count": null,
      "outputs": []
    },
    {
      "cell_type": "code",
      "source": [
        "from sklearn.datasets import make_moons\n",
        "from sklearn.pipeline import Pipeline\n",
        "from sklearn.preprocessing import PolynomialFeatures\n",
        "import matplotlib.pyplot as plt\n",
        "# Create a dataset with 100 samples and 0.15 noise\n",
        "X, y = make_moons(n_samples=100, noise=0.15)\n",
        "# Create a pipeline with polynomial features, a scaler, and a linear SVC\n",
        "polynomial_svm_clf = Pipeline([\n",
        "           (\"poly_features\", PolynomialFeatures(degree=3)),\n",
        "           (\"scaler\", StandardScaler()),\n",
        "           (\"svm_clf\", LinearSVC(C=10, loss=\"hinge\"))\n",
        "            ])\n",
        "# Fit the pipeline to the dataset\n",
        "polynomial_svm_clf.fit(X, y)\n",
        "\n",
        "# Plot the dataset with a range of x and y values\n",
        "plot_dataset(X, y, [-1.5,2.5,-1.0,1.5])"
      ],
      "metadata": {
        "id": "N4DpcPXeEH7p",
        "colab": {
          "base_uri": "https://localhost:8080/",
          "height": 469
        },
        "outputId": "c24327e9-f9d8-4280-f5b0-20f57f474238"
      },
      "execution_count": null,
      "outputs": [
        {
          "output_type": "display_data",
          "data": {
            "text/plain": [
              "<Figure size 640x480 with 1 Axes>"
            ],
            "image/png": "[encoded data removed]"
          },
          "metadata": {}
        }
      ]
    },
    {
      "cell_type": "markdown",
      "source": [
        "Use the trained model to predict the class of the points:\n",
        "\n",
        "$p_3 (2,0.5)$\n",
        "\n",
        "$p_4 (0,1)$"
      ],
      "metadata": {
        "id": "oKCVMdRkMuAU"
      }
    },
    {
      "cell_type": "code",
      "source": [
        "polynomial_svm_clf.predict([[2,0.5]])"
      ],
      "metadata": {
        "id": "3RWQouS5M9Bh",
        "colab": {
          "base_uri": "https://localhost:8080/"
        },
        "outputId": "b3f88d72-9356-4191-ebe7-d85f164fc49d"
      },
      "execution_count": null,
      "outputs": [
        {
          "output_type": "execute_result",
          "data": {
            "text/plain": [
              "array([1])"
            ]
          },
          "metadata": {},
          "execution_count": 7
        }
      ]
    },
    {
      "cell_type": "code",
      "source": [
        "polynomial_svm_clf.predict([[0,1]])"
      ],
      "metadata": {
        "colab": {
          "base_uri": "https://localhost:8080/"
        },
        "id": "ogjr9X4YHPlF",
        "outputId": "07e4a86e-63e0-4bc4-c086-573c3e03e854"
      },
      "execution_count": null,
      "outputs": [
        {
          "output_type": "execute_result",
          "data": {
            "text/plain": [
              "array([0])"
            ]
          },
          "metadata": {},
          "execution_count": 21
        }
      ]
    },
    {
      "cell_type": "markdown",
      "source": [
        "## Nonlinear Polynomial Kernel Classification"
      ],
      "metadata": {
        "id": "8z2pCG1bNGXq"
      }
    },
    {
      "cell_type": "markdown",
      "source": [
        "Use the Kernel method in SVM to create and train a nonlinear classifier for the make moons dataset.\n",
        "\n",
        "Predict the classification of the previous two datapoints using the new classifier."
      ],
      "metadata": {
        "id": "Mho0kPXQXgvX"
      }
    },
    {
      "cell_type": "code",
      "source": [
        "from sklearn.svm import SVC\n",
        "\n",
        "# Create a pipeline with a StandardScaler and an SVC with a polynomial kernel and C=5\n",
        "poly_kernel_svm_clf = Pipeline([\n",
        "    (\"scaler\", StandardScaler()),\n",
        "    (\"svm_clf\", SVC(kernel=\"poly\", degree=10, coef0=1, C=5))\n",
        "])\n",
        "# Fit the pipeline to the data\n",
        "poly_kernel_svm_clf.fit(X, y)\n",
        "# Plot the data with the pipeline\n",
        "plot_dataset(X, y, [-1.5,2.5,-1.0,1.5])"
      ],
      "metadata": {
        "id": "pQnZ3IiOaE1_",
        "colab": {
          "base_uri": "https://localhost:8080/",
          "height": 469
        },
        "outputId": "94e36b47-73eb-4b76-ce22-97ae05ec25d0"
      },
      "execution_count": null,
      "outputs": [
        {
          "output_type": "display_data",
          "data": {
            "text/plain": [
              "<Figure size 640x480 with 1 Axes>"
            ],
            "image/png": "[encoded data removed]"
          },
          "metadata": {}
        }
      ]
    },
    {
      "cell_type": "code",
      "source": [
        "poly_kernel_svm_clf.predict([[2,0.5]])"
      ],
      "metadata": {
        "colab": {
          "base_uri": "https://localhost:8080/"
        },
        "id": "0LjL3whDIXhg",
        "outputId": "66088baf-d76a-4d84-8f9e-56b3feaf148d"
      },
      "execution_count": null,
      "outputs": [
        {
          "output_type": "execute_result",
          "data": {
            "text/plain": [
              "array([1])"
            ]
          },
          "metadata": {},
          "execution_count": 10
        }
      ]
    },
    {
      "cell_type": "code",
      "source": [
        "polynomial_svm_clf.predict([[0,1]])"
      ],
      "metadata": {
        "colab": {
          "base_uri": "https://localhost:8080/"
        },
        "id": "sN7IBhVuIN3K",
        "outputId": "305e6dec-b0cc-42ce-ec95-de16720a6293"
      },
      "execution_count": null,
      "outputs": [
        {
          "output_type": "execute_result",
          "data": {
            "text/plain": [
              "array([0])"
            ]
          },
          "metadata": {},
          "execution_count": 11
        }
      ]
    },
    {
      "cell_type": "markdown",
      "source": [
        "## Linear SVM Regression"
      ],
      "metadata": {
        "id": "NAd8ysjkEsRP"
      }
    },
    {
      "cell_type": "markdown",
      "source": [
        "Generate a synthetic linear dataset. Refer to previous labs to find out how to create a linear dataset from a line with added noise."
      ],
      "metadata": {
        "id": "Pr8LbUKKXmM4"
      }
    },
    {
      "cell_type": "code",
      "source": [
        "X = 2 * np.random.rand(100,1)\n",
        "# Create a vector of 100 random values between 0 and 2\n",
        "y = 5 + 4 * X + np.random.randn(100, 1)"
      ],
      "metadata": {
        "id": "fyrW-xUvZd3-"
      },
      "execution_count": null,
      "outputs": []
    },
    {
      "cell_type": "markdown",
      "source": [
        "Use SVM to create and train a regressor for the synthetic data you just created.\n"
      ],
      "metadata": {
        "id": "qBXVe4qWZV92"
      }
    },
    {
      "cell_type": "code",
      "source": [
        "from sklearn.svm import LinearSVR\n",
        "#Create an SVM regressor\n",
        "svm_reg = LinearSVR(epsilon=1.5)\n",
        "#Fit the regressor to the data\n",
        "svm_reg.fit(X,y)\n",
        "\n",
        "#Create a range of values from the min to max of the X data\n",
        "xmin=min(X)\n",
        "xmax=max(X)\n",
        "\n",
        "#Create an array of values from the min to max of the X data with 100 points\n",
        "x = np.linspace(xmin,xmax,100).reshape(100,1)\n",
        "#Predict the values of the array using the regressor\n",
        "Y = svm_reg.predict(x)\n",
        "\n",
        "#Print the intercept and coefficient of the regressor\n",
        "svm_reg.intercept_,svm_reg.coef_\n",
        "#Plot the values of the array and the data\n",
        "plt.scatter(x,Y,marker=\"*\")\n",
        "plt.scatter(X,y)"
      ],
      "metadata": {
        "id": "G_Z7FFsRZVkm",
        "colab": {
          "base_uri": "https://localhost:8080/",
          "height": 506
        },
        "outputId": "b0023a4a-62f7-4be6-e5cc-9c131fb4446b"
      },
      "execution_count": null,
      "outputs": [
        {
          "output_type": "stream",
          "name": "stderr",
          "text": [
            "/usr/local/lib/python3.10/dist-packages/sklearn/utils/validation.py:1143: DataConversionWarning: A column-vector y was passed when a 1d array was expected. Please change the shape of y to (n_samples, ), for example using ravel().\n",
            "  y = column_or_1d(y, warn=True)\n"
          ]
        },
        {
          "output_type": "execute_result",
          "data": {
            "text/plain": [
              "<matplotlib.collections.PathCollection at 0x7dfebcf324d0>"
            ]
          },
          "metadata": {},
          "execution_count": 17
        },
        {
          "output_type": "display_data",
          "data": {
            "text/plain": [
              "<Figure size 640x480 with 1 Axes>"
            ],
            "image/png": "[encoded data removed]"
          },
          "metadata": {}
        }
      ]
    },
    {
      "cell_type": "markdown",
      "source": [
        "## Nonlinear SVM Regression\n",
        "\n"
      ],
      "metadata": {
        "id": "6xYZ-kmVE3wP"
      }
    },
    {
      "cell_type": "markdown",
      "source": [
        "Generate a synthetic nonlinear dataset. Refer to previous labs to find out how to create a quadratic (2nd order) dataset from a curve with added noise."
      ],
      "metadata": {
        "id": "llkjQuZsZupS"
      }
    },
    {
      "cell_type": "code",
      "source": [
        "m = 100\n",
        "# Create an array of m random numbers between -3 and 3\n",
        "X = 6 * np.random.rand(m,1) - 3\n",
        "# Create an array of y values that are 2.5 times the X values plus 1 plus a random number\n",
        "y = 0.7 * X**2 + 2.5 * X + 1 + np.random.randn(m, 1)"
      ],
      "metadata": {
        "id": "ti7QsMHcZzTb"
      },
      "execution_count": null,
      "outputs": []
    },
    {
      "cell_type": "markdown",
      "source": [
        "Use SVM to create and train a regressor for the synthetic data you just created. Remember to look at the degree of the dataset."
      ],
      "metadata": {
        "id": "do8E5uRMZzzP"
      }
    },
    {
      "cell_type": "code",
      "source": [
        "from sklearn.svm import SVR\n",
        "\n",
        "# Create an SVM regression model with a polynomial kernel\n",
        "svm_poly_reg = SVR(kernel=\"poly\", degree=3, C=100, epsilon=0.1)\n",
        "\n",
        "# Find the min and max values of the X data\n",
        "xmin = min(X)\n",
        "xmax = max(X)\n",
        "\n",
        "# Fit the model to the data\n",
        "svm_poly_reg.fit(X,y)\n",
        "\n",
        "# Create a range of values from the min to max of the X data\n",
        "newx = np.linspace(xmin,xmax,100).reshape(100,1)\n",
        "# Use the model to predict the y values for the new x values\n",
        "newY = svm_poly_reg.predict(newx)\n",
        "\n",
        "# Plot the new x and y values\n",
        "plt.scatter(newx,newY, marker=\"*\")\n",
        "plt.scatter(X,y)"
      ],
      "metadata": {
        "id": "Qgiqbi-fbaUc",
        "colab": {
          "base_uri": "https://localhost:8080/",
          "height": 503
        },
        "outputId": "11ea6ed1-82fa-4727-912a-3ff82914dd75"
      },
      "execution_count": null,
      "outputs": [
        {
          "output_type": "stream",
          "name": "stderr",
          "text": [
            "/usr/local/lib/python3.10/dist-packages/sklearn/utils/validation.py:1143: DataConversionWarning: A column-vector y was passed when a 1d array was expected. Please change the shape of y to (n_samples, ), for example using ravel().\n",
            "  y = column_or_1d(y, warn=True)\n"
          ]
        },
        {
          "output_type": "execute_result",
          "data": {
            "text/plain": [
              "<matplotlib.collections.PathCollection at 0x7dfebcde7490>"
            ]
          },
          "metadata": {},
          "execution_count": 16
        },
        {
          "output_type": "display_data",
          "data": {
            "text/plain": [
              "<Figure size 640x480 with 1 Axes>"
            ],
            "image/png": "[encoded data removed]"
          },
          "metadata": {}
        }
      ]
    }
  ]
}