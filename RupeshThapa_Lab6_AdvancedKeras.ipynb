{
  "nbformat": 4,
  "nbformat_minor": 0,
  "metadata": {
    "colab": {
      "provenance": [],
      "authorship_tag": "ABX9TyOC2qZeizEGRhJjBfLye1iX",
      "include_colab_link": true
    },
    "kernelspec": {
      "name": "python3",
      "display_name": "Python 3"
    },
    "language_info": {
      "name": "python"
    }
  },
  "cells": [
    {
      "cell_type": "markdown",
      "metadata": {
        "id": "view-in-github",
        "colab_type": "text"
      },
      "source": [
        "<a href=\"https://colab.research.google.com/github/rupeshthapa123/NotebookProject/blob/main/RupeshThapa_Lab6_AdvancedKeras.ipynb\" target=\"_parent\"><img src=\"https://colab.research.google.com/assets/colab-badge.svg\" alt=\"Open In Colab\"/></a>"
      ]
    },
    {
      "cell_type": "markdown",
      "source": [
        "#Advanced Keras\n",
        "##The 3 Keras Model APIs\n",
        "### • Sequential. List-style stacked layers arranged input to output\n",
        "### • Functional. Graph-like model architecture. Balanced combination of usability and flexibility. Most common API.\n",
        "### • Subclassing. Low-level option to write all the code from scratch"
      ],
      "metadata": {
        "id": "0WZiPOEkbED9"
      }
    },
    {
      "cell_type": "markdown",
      "source": [
        "## Sequential Model"
      ],
      "metadata": {
        "id": "VEg1qiPocqRM"
      }
    },
    {
      "cell_type": "code",
      "execution_count": null,
      "metadata": {
        "id": "GMC4KtWAG761"
      },
      "outputs": [],
      "source": [
        "import tensorflow as tf\n",
        "from tensorflow import keras\n",
        "from tensorflow.keras import layers\n",
        "from tensorflow.keras.layers import Dense\n",
        "from tensorflow.keras.datasets import mnist"
      ]
    },
    {
      "cell_type": "code",
      "source": [
        "# Load MNIST dataset\n",
        "(x_train, y_train), (x_test, y_test) = mnist.load_data()\n",
        "x_train, x_test = x_train / 255.0, x_test / 255.0"
      ],
      "metadata": {
        "id": "shgRo-6UeUeT"
      },
      "execution_count": null,
      "outputs": []
    },
    {
      "cell_type": "code",
      "source": [
        "# Build Sequential Model\n",
        "model = keras.Sequential([\n",
        "    layers.Dense(64, activation = 'relu'),\n",
        "    layers.Dense(10, activation= 'softmax')\n",
        "])"
      ],
      "metadata": {
        "id": "SoHD4kfKeVcp"
      },
      "execution_count": null,
      "outputs": []
    },
    {
      "cell_type": "code",
      "source": [
        "# model = keras.Sequential()\n",
        "# model.add(layers.Dense(64, activation='relu'))\n",
        "# model.add(layers.Dense(10, activation='softmax'))"
      ],
      "metadata": {
        "id": "1FNNvtwNH3XZ"
      },
      "execution_count": null,
      "outputs": []
    },
    {
      "cell_type": "code",
      "source": [
        "model.build(input_shape=(None,28,28))"
      ],
      "metadata": {
        "id": "_mVUyqomH3T4"
      },
      "execution_count": null,
      "outputs": []
    },
    {
      "cell_type": "code",
      "source": [
        "model.weights"
      ],
      "metadata": {
        "colab": {
          "base_uri": "https://localhost:8080/"
        },
        "id": "vDydzS5Weycp",
        "outputId": "7446bee8-bbf3-4e66-bfc3-f7284da2bdcc"
      },
      "execution_count": null,
      "outputs": [
        {
          "output_type": "execute_result",
          "data": {
            "text/plain": [
              "[<tf.Variable 'dense_11/kernel:0' shape=(28, 64) dtype=float32, numpy=\n",
              " array([[ 0.068243  , -0.1492723 , -0.00283524, ..., -0.21701036,\n",
              "         -0.10928635,  0.09568113],\n",
              "        [ 0.07749248,  0.16467959,  0.18170044, ..., -0.2502404 ,\n",
              "          0.21215817, -0.10130066],\n",
              "        [-0.07444637, -0.09642418, -0.06180131, ..., -0.08186077,\n",
              "          0.14952126, -0.06536032],\n",
              "        ...,\n",
              "        [ 0.14751214,  0.12700307, -0.12850259, ...,  0.14320287,\n",
              "          0.13611159, -0.05353607],\n",
              "        [-0.11496915,  0.19446576, -0.17938805, ..., -0.22461376,\n",
              "         -0.19995236, -0.03261074],\n",
              "        [ 0.15668586, -0.04738763, -0.1759687 , ..., -0.16880625,\n",
              "         -0.11263421,  0.10593265]], dtype=float32)>,\n",
              " <tf.Variable 'dense_11/bias:0' shape=(64,) dtype=float32, numpy=\n",
              " array([0., 0., 0., 0., 0., 0., 0., 0., 0., 0., 0., 0., 0., 0., 0., 0., 0.,\n",
              "        0., 0., 0., 0., 0., 0., 0., 0., 0., 0., 0., 0., 0., 0., 0., 0., 0.,\n",
              "        0., 0., 0., 0., 0., 0., 0., 0., 0., 0., 0., 0., 0., 0., 0., 0., 0.,\n",
              "        0., 0., 0., 0., 0., 0., 0., 0., 0., 0., 0., 0., 0.], dtype=float32)>,\n",
              " <tf.Variable 'dense_12/kernel:0' shape=(64, 10) dtype=float32, numpy=\n",
              " array([[-1.25060350e-01, -1.45708889e-01, -2.60495305e-01,\n",
              "         -1.45347372e-01, -2.44365811e-01,  5.79396486e-02,\n",
              "         -1.37944475e-01, -9.36002135e-02,  7.83562064e-02,\n",
              "          2.01421440e-01],\n",
              "        [-1.77678391e-01, -4.21221107e-02,  2.43172050e-03,\n",
              "         -1.92335248e-02,  1.97488666e-02,  1.86355025e-01,\n",
              "         -2.53131926e-01, -1.49124518e-01,  5.10888994e-02,\n",
              "         -7.38872737e-02],\n",
              "        [-1.76061332e-01, -1.87347218e-01, -1.86995953e-01,\n",
              "          8.57174397e-04,  2.32210666e-01,  1.16216719e-01,\n",
              "         -1.47024691e-02, -1.52472541e-01,  1.88494623e-02,\n",
              "          1.35952950e-01],\n",
              "        [ 1.12782478e-01, -7.93691128e-02,  2.65458435e-01,\n",
              "         -1.75727457e-01,  5.32232523e-02,  1.67009294e-01,\n",
              "         -2.16287673e-02,  1.68285787e-01, -2.77339190e-01,\n",
              "          9.57846045e-02],\n",
              "        [ 2.06183523e-01, -8.32843333e-02,  2.69115418e-01,\n",
              "          1.75436288e-01, -3.08527350e-02, -3.82232368e-02,\n",
              "          1.66139215e-01, -2.71339446e-01,  2.52791613e-01,\n",
              "          1.91107601e-01],\n",
              "        [-1.16747603e-01, -3.22290361e-02,  4.05389369e-02,\n",
              "         -1.07289106e-01,  1.93471342e-01, -1.42231941e-01,\n",
              "         -2.26743922e-01,  1.12566113e-01, -9.69353318e-02,\n",
              "         -1.24995187e-01],\n",
              "        [-2.31158137e-01,  1.01353616e-01,  1.14095449e-01,\n",
              "          1.17692769e-01, -1.70544326e-01, -1.11828148e-02,\n",
              "          1.16976678e-01,  2.67281681e-01,  1.55030191e-01,\n",
              "          8.77993703e-02],\n",
              "        [-1.56510502e-01, -1.38030082e-01, -2.63482571e-01,\n",
              "          2.74605751e-02,  2.78797537e-01,  1.12491369e-01,\n",
              "         -1.54419050e-01,  1.42978430e-02, -1.52486250e-01,\n",
              "          1.05205774e-02],\n",
              "        [-1.34031624e-01, -1.23462111e-01,  1.40587181e-01,\n",
              "         -1.56307787e-01, -1.86068460e-01, -3.65729928e-02,\n",
              "         -2.66942948e-01,  1.25590712e-01, -1.91817850e-01,\n",
              "         -9.05566812e-02],\n",
              "        [-1.10275954e-01, -1.95418894e-01, -1.34384856e-01,\n",
              "          2.13386625e-01,  1.71034008e-01, -9.91392881e-02,\n",
              "          4.86445427e-03, -1.92153484e-01, -2.77028084e-02,\n",
              "         -7.26958215e-02],\n",
              "        [ 1.65094197e-01,  2.75703877e-01, -4.83300239e-02,\n",
              "          4.69346344e-02,  2.05176234e-01, -1.60383791e-01,\n",
              "         -2.55218506e-01, -1.01712346e-03,  1.00381792e-01,\n",
              "         -5.33392876e-02],\n",
              "        [-2.01335818e-01, -1.28316715e-01, -4.88557518e-02,\n",
              "         -3.49154770e-02,  1.10884219e-01,  2.55254060e-01,\n",
              "         -8.91688317e-02,  2.25585192e-01, -4.54759747e-02,\n",
              "         -1.45842686e-01],\n",
              "        [-2.15269178e-01,  2.19923466e-01,  1.10193789e-01,\n",
              "         -1.87750131e-01,  2.62529284e-01,  9.89853144e-02,\n",
              "         -1.96419507e-01,  1.34113640e-01,  8.04213285e-02,\n",
              "          7.25085735e-02],\n",
              "        [ 7.01871216e-02,  1.56897336e-01,  1.66518092e-01,\n",
              "          5.64257205e-02, -1.73502862e-02,  2.13821113e-01,\n",
              "         -1.77873850e-01,  1.28862679e-01,  2.07837373e-01,\n",
              "          2.69429296e-01],\n",
              "        [ 1.34617716e-01, -1.31351426e-01,  1.10021353e-01,\n",
              "         -9.09604281e-02,  2.80529261e-02,  1.33985132e-01,\n",
              "         -1.53858289e-01,  1.42547756e-01, -8.20844024e-02,\n",
              "          1.72223508e-01],\n",
              "        [-2.91252136e-02,  2.52748281e-01, -2.26376981e-01,\n",
              "         -1.62654743e-01,  1.04700089e-01,  3.29648852e-02,\n",
              "          1.59047455e-01,  1.76757187e-01,  8.22546780e-02,\n",
              "         -1.74665600e-01],\n",
              "        [ 4.68395054e-02, -1.79230466e-01, -2.83220559e-01,\n",
              "          4.69429195e-02, -1.33178666e-01,  2.13656604e-01,\n",
              "         -1.25106573e-02,  4.82984483e-02, -2.43410006e-01,\n",
              "          7.76181221e-02],\n",
              "        [-1.80026680e-01, -1.78069711e-01, -9.27773416e-02,\n",
              "         -2.32377350e-01, -2.32466564e-01,  2.22889155e-01,\n",
              "          2.08691329e-01,  9.98520553e-02, -6.71868175e-02,\n",
              "         -2.46078461e-01],\n",
              "        [-2.15142488e-01,  2.82174677e-01,  1.36275142e-01,\n",
              "          2.13718712e-01, -1.91127419e-01,  1.72163904e-01,\n",
              "         -1.46515071e-01,  2.73792535e-01,  2.80699104e-01,\n",
              "         -1.07942119e-01],\n",
              "        [-8.66134912e-02,  1.00573301e-01, -1.70879573e-01,\n",
              "         -9.74268615e-02,  2.53373116e-01,  1.29354417e-01,\n",
              "         -7.03311712e-02, -1.61914468e-01,  2.38806009e-02,\n",
              "         -1.59772038e-02],\n",
              "        [ 8.97610188e-02,  2.72813439e-02,  1.70396417e-01,\n",
              "         -1.85186565e-02,  1.27165467e-01, -8.49254280e-02,\n",
              "          3.67155075e-02, -1.38311818e-01,  1.10764503e-02,\n",
              "          3.86419296e-02],\n",
              "        [-1.01304606e-01, -1.13861442e-01, -2.57987887e-01,\n",
              "          1.00935906e-01,  5.17587662e-02, -2.24452019e-02,\n",
              "         -1.87890604e-01, -1.01985127e-01, -2.57290661e-01,\n",
              "         -2.66048163e-01],\n",
              "        [-2.60605216e-01, -9.72435623e-02,  2.23422438e-01,\n",
              "         -1.24744877e-01, -2.28081673e-01,  9.85781848e-02,\n",
              "         -1.47440329e-01,  4.93615866e-02, -8.18871111e-02,\n",
              "         -1.48191795e-01],\n",
              "        [-9.00996625e-02,  2.27860242e-01, -2.07605988e-01,\n",
              "          1.43539637e-01,  1.40463024e-01, -2.24012673e-01,\n",
              "          9.10599530e-02,  1.40725553e-01,  2.31299967e-01,\n",
              "          2.40974993e-01],\n",
              "        [ 1.64750129e-01, -9.27588344e-03,  1.67899579e-01,\n",
              "         -2.46745601e-01, -3.85239273e-02,  3.38147283e-02,\n",
              "          1.35236323e-01, -1.24615744e-01, -7.30541348e-02,\n",
              "          1.82130814e-01],\n",
              "        [ 1.81861907e-01,  1.09853059e-01,  1.24258637e-01,\n",
              "         -2.25173712e-01, -1.94408834e-01, -9.95979458e-02,\n",
              "         -1.24494433e-01,  2.94924974e-02,  2.13885725e-01,\n",
              "         -9.02253240e-02],\n",
              "        [ 5.00002503e-03,  1.04839921e-01,  7.26180971e-02,\n",
              "          1.10570937e-01, -2.40330100e-02, -5.24614751e-02,\n",
              "          2.07910419e-01,  2.49508649e-01, -2.48853967e-01,\n",
              "         -4.82797921e-02],\n",
              "        [ 1.22817844e-01,  1.66331202e-01, -7.70356208e-02,\n",
              "         -1.52082309e-01, -1.32181376e-01,  2.75526434e-01,\n",
              "          1.22194201e-01,  7.84067810e-02,  2.38597602e-01,\n",
              "         -8.82067084e-02],\n",
              "        [ 1.41111106e-01,  2.79956847e-01, -1.78027540e-01,\n",
              "         -4.67992574e-02, -2.06794515e-01,  2.21620768e-01,\n",
              "          4.79325354e-02, -1.76472127e-01,  2.24788696e-01,\n",
              "         -2.33074710e-01],\n",
              "        [ 2.56452411e-01, -6.64348155e-02,  1.69362724e-01,\n",
              "         -2.29816243e-01,  2.49966115e-01,  2.24365860e-01,\n",
              "          7.74399042e-02,  6.38001859e-02,  8.97094905e-02,\n",
              "         -2.04455256e-02],\n",
              "        [ 2.18954355e-01, -2.60031432e-01,  2.73474127e-01,\n",
              "         -1.14982501e-01, -1.24931768e-01, -2.06316575e-01,\n",
              "         -2.46593192e-01,  2.80272275e-01,  2.23529965e-01,\n",
              "          1.09650135e-01],\n",
              "        [-3.27703953e-02,  9.59824622e-02, -2.42779583e-01,\n",
              "          1.69571429e-01,  1.46059394e-02,  2.56803304e-01,\n",
              "          2.77703375e-01,  1.90996051e-01,  2.56850272e-01,\n",
              "          1.95160627e-01],\n",
              "        [ 8.74644816e-02,  1.56516075e-01, -8.41553509e-02,\n",
              "         -1.90583289e-01, -1.35383904e-01,  9.56404209e-02,\n",
              "         -7.41582811e-02,  1.56880915e-01,  2.60503680e-01,\n",
              "         -1.71487719e-01],\n",
              "        [ 3.44744027e-02,  2.82915026e-01, -2.20053256e-01,\n",
              "         -1.78099513e-01, -1.51242718e-01, -1.86961129e-01,\n",
              "          1.94752842e-01,  7.54095614e-02,  1.09759241e-01,\n",
              "         -1.15756229e-01],\n",
              "        [ 1.58932984e-01,  1.51836008e-01,  2.12450504e-01,\n",
              "          2.58776158e-01, -5.31025529e-02, -1.81364685e-01,\n",
              "         -9.90735739e-02, -1.90854162e-01,  7.91615844e-02,\n",
              "         -8.15063715e-03],\n",
              "        [-1.04557514e-01, -1.39180392e-01,  8.10243189e-02,\n",
              "         -1.07318163e-04,  2.37867981e-01,  7.61193037e-03,\n",
              "         -6.31586909e-02, -1.68555528e-01, -2.32960865e-01,\n",
              "         -1.67220831e-02],\n",
              "        [-1.16506800e-01,  1.51335269e-01, -4.40919846e-02,\n",
              "          1.70108676e-03,  1.21802628e-01,  1.56905681e-01,\n",
              "         -2.10856050e-01, -7.48416781e-03,  5.22446632e-03,\n",
              "          1.92685187e-01],\n",
              "        [-1.78570241e-01, -6.89344257e-02,  7.73141086e-02,\n",
              "         -5.92438728e-02,  5.73164225e-02, -1.79034337e-01,\n",
              "         -1.18961677e-01, -9.18362588e-02,  1.50940150e-01,\n",
              "          7.68075287e-02],\n",
              "        [ 8.53046477e-02,  1.84857458e-01, -5.72979599e-02,\n",
              "         -2.21415713e-01, -1.79511130e-01,  2.50659883e-02,\n",
              "          1.56166852e-01, -1.82501763e-01, -1.17204979e-01,\n",
              "          1.43278241e-01],\n",
              "        [ 2.39687651e-01, -2.72059947e-01,  1.82297826e-02,\n",
              "         -2.76208907e-01,  2.68430144e-01,  1.64948106e-01,\n",
              "          9.78198647e-03,  3.61162424e-03,  1.86956048e-01,\n",
              "         -1.03022546e-01],\n",
              "        [ 2.74726778e-01,  2.44563729e-01, -5.60536236e-02,\n",
              "          1.22529775e-01, -4.33866829e-02, -1.59855068e-01,\n",
              "         -5.15047908e-02,  1.07170552e-01,  2.06339180e-01,\n",
              "         -1.21657416e-01],\n",
              "        [-8.44083130e-02, -1.04192138e-01, -2.71105975e-01,\n",
              "         -1.10902786e-02,  1.74607337e-02,  1.91268414e-01,\n",
              "          2.38031149e-02,  2.83318311e-01, -1.38491049e-01,\n",
              "          3.81816924e-02],\n",
              "        [-8.11713636e-02, -1.22239292e-01, -7.51020759e-02,\n",
              "         -2.38398641e-01, -2.56729126e-03,  2.40334779e-01,\n",
              "          2.55976886e-01, -1.06009662e-01,  1.21439546e-01,\n",
              "         -4.00109589e-02],\n",
              "        [ 9.59651470e-02,  2.52522558e-01, -2.61870950e-01,\n",
              "          2.11690962e-02,  2.58338541e-01, -1.51349783e-01,\n",
              "         -9.76696312e-02, -2.23562911e-01,  1.12307668e-01,\n",
              "         -2.76239812e-02],\n",
              "        [ 1.14646792e-01, -1.23847038e-01, -1.72184601e-01,\n",
              "         -6.87005520e-02, -2.49830350e-01, -1.29905596e-01,\n",
              "          1.19667113e-01,  5.21390736e-02, -9.10228789e-02,\n",
              "         -2.25718051e-01],\n",
              "        [-4.89882827e-02, -4.17648852e-02, -3.95303071e-02,\n",
              "          1.80090427e-01, -8.52483064e-02, -2.78854430e-01,\n",
              "         -1.28192216e-01,  5.77485561e-03,  3.26040685e-02,\n",
              "         -1.48442641e-01],\n",
              "        [-1.99344575e-01,  1.80332452e-01, -1.36363685e-01,\n",
              "         -2.01113015e-01, -1.31559715e-01,  7.06964731e-02,\n",
              "         -2.16349423e-01, -2.58971751e-02, -2.11908877e-01,\n",
              "         -1.37253985e-01],\n",
              "        [ 1.88801587e-02, -2.59622723e-01, -1.23388648e-01,\n",
              "         -7.23827779e-02, -1.91993207e-01, -6.46114349e-04,\n",
              "         -2.63360649e-01, -2.24623084e-03, -2.06553936e-03,\n",
              "         -5.72442710e-02],\n",
              "        [ 6.64311647e-02,  9.97449160e-02,  2.33327121e-01,\n",
              "          2.76013315e-02,  2.72904485e-01, -1.86387271e-01,\n",
              "          6.66475892e-02,  1.23708338e-01,  1.64073884e-01,\n",
              "         -1.45180508e-01],\n",
              "        [ 1.72212362e-01, -1.57521173e-01,  1.01596117e-02,\n",
              "          4.67203856e-02, -6.89704716e-02,  2.02384382e-01,\n",
              "         -2.36527547e-01,  5.91113567e-02, -4.57752943e-02,\n",
              "          2.40771800e-01],\n",
              "        [-7.54099488e-02,  6.14495873e-02,  1.71987414e-02,\n",
              "          1.11834556e-01,  2.68808275e-01,  5.06138802e-03,\n",
              "         -1.69049010e-01, -1.20887220e-01,  2.06301510e-01,\n",
              "          1.96930021e-01],\n",
              "        [-2.26418123e-01,  1.80686474e-01,  2.09288001e-01,\n",
              "          2.14142144e-01,  2.46602744e-01,  2.08729565e-01,\n",
              "          1.63560510e-02,  1.43388569e-01, -2.05634028e-01,\n",
              "          1.60600901e-01],\n",
              "        [ 6.18577302e-02,  2.82006055e-01, -8.59646648e-02,\n",
              "         -1.59395590e-01, -6.20735586e-02, -7.35102892e-02,\n",
              "          7.29053319e-02, -4.38927263e-02, -8.54725391e-02,\n",
              "          2.06663340e-01],\n",
              "        [ 2.25724548e-01, -1.66557610e-01, -2.79602617e-01,\n",
              "          2.44692296e-01, -1.60630554e-01, -1.19932085e-01,\n",
              "         -1.32086262e-01,  9.66774225e-02, -2.80513018e-01,\n",
              "          1.47801906e-01],\n",
              "        [ 3.46339345e-02, -1.17548898e-01, -1.60191864e-01,\n",
              "          2.35212833e-01, -1.63664117e-01,  1.53154343e-01,\n",
              "          2.45245785e-01,  6.17046356e-02, -1.12383634e-01,\n",
              "         -2.04894513e-01],\n",
              "        [ 7.06041455e-02, -1.61179304e-01, -7.86880404e-02,\n",
              "          1.16929889e-01, -7.42009878e-02,  2.43310124e-01,\n",
              "         -4.77272272e-03, -8.54848325e-02, -2.15312958e-01,\n",
              "          3.47992480e-02],\n",
              "        [-2.62350380e-01,  2.22649127e-01,  7.40857720e-02,\n",
              "         -2.99424827e-02,  7.33749270e-02, -2.47579351e-01,\n",
              "         -2.82625318e-01,  7.87623227e-02, -2.65195966e-01,\n",
              "         -1.09420136e-01],\n",
              "        [ 6.17294908e-02,  1.08842075e-01, -1.15173608e-01,\n",
              "         -2.67575949e-01,  1.29144430e-01,  6.76816702e-02,\n",
              "         -1.12702504e-01,  2.42818922e-01,  3.89363468e-02,\n",
              "         -1.14179224e-01],\n",
              "        [ 7.54750669e-02,  9.45809484e-02, -1.15347505e-02,\n",
              "          5.30356169e-03, -1.53900445e-01, -6.09330833e-02,\n",
              "         -2.29048759e-01, -9.37088430e-02,  2.25257903e-01,\n",
              "          5.77977598e-02],\n",
              "        [ 1.70724183e-01, -2.42053241e-01,  1.51142985e-01,\n",
              "          1.44524485e-01, -2.37306446e-01, -1.40069947e-01,\n",
              "         -2.00813770e-01, -1.13892063e-01,  1.46891922e-01,\n",
              "          2.48709649e-01],\n",
              "        [ 1.76915586e-01, -1.51956782e-01,  1.27426147e-01,\n",
              "          1.10694200e-01, -1.76605880e-01,  1.38115615e-01,\n",
              "          1.89421445e-01, -1.26057714e-01, -1.33798286e-01,\n",
              "          2.16089338e-01],\n",
              "        [ 6.80274963e-02,  7.82942772e-03, -2.18784750e-01,\n",
              "          2.68169194e-01, -2.48591304e-02, -2.05102444e-01,\n",
              "          3.94640565e-02,  2.66609281e-01,  4.35349643e-02,\n",
              "         -1.05302393e-01],\n",
              "        [ 2.23063856e-01,  2.79523820e-01, -8.39373469e-03,\n",
              "          7.89049566e-02, -2.29076922e-01, -2.32855290e-01,\n",
              "          3.05265188e-02, -2.66166568e-01,  1.91489190e-01,\n",
              "         -4.30003256e-02],\n",
              "        [-2.52493024e-01,  1.94134086e-01,  1.34802490e-01,\n",
              "         -2.31822163e-01, -8.45216215e-02, -1.37772039e-01,\n",
              "          2.22725838e-01, -2.29460984e-01, -5.73855489e-02,\n",
              "          2.31521398e-01]], dtype=float32)>,\n",
              " <tf.Variable 'dense_12/bias:0' shape=(10,) dtype=float32, numpy=array([0., 0., 0., 0., 0., 0., 0., 0., 0., 0.], dtype=float32)>]"
            ]
          },
          "metadata": {},
          "execution_count": 40
        }
      ]
    },
    {
      "cell_type": "code",
      "source": [
        "model = keras.Sequential(name=\"my_sequential_model\")\n",
        "model.add(layers.Dense(64, activation='relu', name=\"my_hidden_layer\"))\n",
        "model.add(layers.Dense(10, activation='softmax', name=\"my_last_layer\"))\n",
        "model.build((None, 3))\n",
        "model.summary()"
      ],
      "metadata": {
        "colab": {
          "base_uri": "https://localhost:8080/"
        },
        "id": "WmV8znF5H3Q6",
        "outputId": "841ec55a-ca32-413f-cc13-881a6a7e12d2"
      },
      "execution_count": null,
      "outputs": [
        {
          "output_type": "stream",
          "name": "stdout",
          "text": [
            "Model: \"my_sequential_model\"\n",
            "_________________________________________________________________\n",
            " Layer (type)                Output Shape              Param #   \n",
            "=================================================================\n",
            " my_hidden_layer (Dense)     (None, 64)                256       \n",
            "                                                                 \n",
            " my_last_layer (Dense)       (None, 10)                650       \n",
            "                                                                 \n",
            "=================================================================\n",
            "Total params: 906 (3.54 KB)\n",
            "Trainable params: 906 (3.54 KB)\n",
            "Non-trainable params: 0 (0.00 Byte)\n",
            "_________________________________________________________________\n"
          ]
        }
      ]
    },
    {
      "cell_type": "markdown",
      "source": [
        "## Functional Model"
      ],
      "metadata": {
        "id": "Of8CePvTcyup"
      }
    },
    {
      "cell_type": "code",
      "source": [
        "# Define input shapes\n",
        "vocabulary_size = 10000\n",
        "num_tags = 100\n",
        "num_departments = 4\n",
        "\n",
        "title = keras.Input(shape=(vocabulary_size,), name=\"title\")\n",
        "text_body = keras.Input(shape=(vocabulary_size,), name=\"text_body\")\n",
        "tags = keras.Input(shape=(num_tags,), name=\"tags\")\n",
        "\n",
        "features = layers.Concatenate()([title, text_body, tags])\n",
        "features = layers.Dense(64, activation='relu')(features)\n",
        "\n",
        "priority = layers.Dense(1, activation=\"sigmoid\", name=\"priority\")(features)\n",
        "department = layers.Dense(num_departments, activation=\"softmax\", name=\"department\")(features)"
      ],
      "metadata": {
        "id": "gN8OSp7cJvXk"
      },
      "execution_count": null,
      "outputs": []
    },
    {
      "cell_type": "code",
      "source": [
        "# Define Functional Model\n",
        "functional_model = keras.Model(inputs=[title, text_body, tags],\n",
        "                    outputs=[priority, department])"
      ],
      "metadata": {
        "id": "-r8xa4C5jATP"
      },
      "execution_count": null,
      "outputs": []
    },
    {
      "cell_type": "code",
      "source": [
        "import numpy as np\n",
        "num_samples = 1280\n",
        "\n",
        "# Generate dummy data\n",
        "title_data = np.random.randint(0,2,size=(num_samples, vocabulary_size))\n",
        "text_body_data = np.random.randint(0, 2,size=(num_samples, vocabulary_size))\n",
        "tags_data = np.random.randint(0, 2, size=(num_samples, num_tags))\n",
        "\n",
        "priority_data = np.random.random(size=(num_samples, 1))\n",
        "department_data = np.random.randint(0, 2, size=(num_samples, num_departments))"
      ],
      "metadata": {
        "id": "pWAwH5W-LYQM"
      },
      "execution_count": null,
      "outputs": []
    },
    {
      "cell_type": "code",
      "source": [
        "# Compile the model\n",
        "functional_model.compile(optimizer=\"rmsprop\",\n",
        "              loss = {\"priority\":\"mean_squared_error\", \"department\": \"categorical_crossentropy\"},\n",
        "              metrics={\"priority\": [\"mean_absolute_error\"], \"department\": [\"accuracy\"]})\n",
        "# Train the model\n",
        "functional_model.fit({\"title\": title_data, \"text_body\": text_body_data, \"tags\": tags_data},\n",
        "          {\"priority\":priority_data, \"department\":department_data}, epochs=1)"
      ],
      "metadata": {
        "colab": {
          "base_uri": "https://localhost:8080/"
        },
        "id": "R0eRoswpLYMo",
        "outputId": "0dad9fb0-b818-4c2b-b82e-853c9826071c"
      },
      "execution_count": null,
      "outputs": [
        {
          "output_type": "stream",
          "name": "stdout",
          "text": [
            "40/40 [==============================] - 2s 19ms/step - loss: 27.7267 - priority_loss: 0.3236 - department_loss: 27.4031 - priority_mean_absolute_error: 0.4897 - department_accuracy: 0.2727\n"
          ]
        },
        {
          "output_type": "execute_result",
          "data": {
            "text/plain": [
              "<keras.src.callbacks.History at 0x7ddfc8101f60>"
            ]
          },
          "metadata": {},
          "execution_count": 46
        }
      ]
    },
    {
      "cell_type": "code",
      "source": [
        "functional_model.evaluate({\"title\":title_data, \"text_body\":text_body_data, \"tags\":tags_data},\n",
        "               {\"priority\":priority_data, \"department\": department_data})"
      ],
      "metadata": {
        "colab": {
          "base_uri": "https://localhost:8080/"
        },
        "id": "iirx1F-0jWCq",
        "outputId": "d6cdbf30-afb9-4e2a-963b-32c822da7774"
      },
      "execution_count": null,
      "outputs": [
        {
          "output_type": "stream",
          "name": "stdout",
          "text": [
            "40/40 [==============================] - 1s 8ms/step - loss: 19.6865 - priority_loss: 0.3319 - department_loss: 19.3545 - priority_mean_absolute_error: 0.4985 - department_accuracy: 0.0867\n"
          ]
        },
        {
          "output_type": "execute_result",
          "data": {
            "text/plain": [
              "[19.686466217041016,\n",
              " 0.3319251537322998,\n",
              " 19.354541778564453,\n",
              " 0.4985477030277252,\n",
              " 0.08671875298023224]"
            ]
          },
          "metadata": {},
          "execution_count": 47
        }
      ]
    },
    {
      "cell_type": "code",
      "source": [
        "priority_preds, department_preds = functional_model.predict({\n",
        "    \"title\": title_data, \"text_body\": text_body_data, \"tags\": tags_data\n",
        "})"
      ],
      "metadata": {
        "colab": {
          "base_uri": "https://localhost:8080/"
        },
        "id": "b0oZCJyrjV_D",
        "outputId": "0344e767-b82f-4a01-990a-cc13393a4c26"
      },
      "execution_count": null,
      "outputs": [
        {
          "output_type": "stream",
          "name": "stdout",
          "text": [
            "40/40 [==============================] - 1s 12ms/step\n"
          ]
        }
      ]
    },
    {
      "cell_type": "code",
      "source": [
        "# Model summary\n",
        "functional_model.summary()"
      ],
      "metadata": {
        "colab": {
          "base_uri": "https://localhost:8080/"
        },
        "id": "MVzMM-4giOA6",
        "outputId": "7d373fd2-76e8-4cd6-b09a-c22d47ac0878"
      },
      "execution_count": null,
      "outputs": [
        {
          "output_type": "stream",
          "name": "stdout",
          "text": [
            "Model: \"model_3\"\n",
            "__________________________________________________________________________________________________\n",
            " Layer (type)                Output Shape                 Param #   Connected to                  \n",
            "==================================================================================================\n",
            " title (InputLayer)          [(None, 10000)]              0         []                            \n",
            "                                                                                                  \n",
            " text_body (InputLayer)      [(None, 10000)]              0         []                            \n",
            "                                                                                                  \n",
            " tags (InputLayer)           [(None, 100)]                0         []                            \n",
            "                                                                                                  \n",
            " concatenate_3 (Concatenate  (None, 20100)                0         ['title[0][0]',               \n",
            " )                                                                   'text_body[0][0]',           \n",
            "                                                                     'tags[0][0]']                \n",
            "                                                                                                  \n",
            " dense_13 (Dense)            (None, 64)                   1286464   ['concatenate_3[0][0]']       \n",
            "                                                                                                  \n",
            " priority (Dense)            (None, 1)                    65        ['dense_13[0][0]']            \n",
            "                                                                                                  \n",
            " department (Dense)          (None, 4)                    260       ['dense_13[0][0]']            \n",
            "                                                                                                  \n",
            "==================================================================================================\n",
            "Total params: 1286789 (4.91 MB)\n",
            "Trainable params: 1286789 (4.91 MB)\n",
            "Non-trainable params: 0 (0.00 Byte)\n",
            "__________________________________________________________________________________________________\n"
          ]
        }
      ]
    },
    {
      "cell_type": "code",
      "source": [
        "keras.utils.plot_model(\n",
        "    functional_model, \"ticket_classifier_with_shape_info.png\", show_shapes=True\n",
        ")"
      ],
      "metadata": {
        "colab": {
          "base_uri": "https://localhost:8080/",
          "height": 442
        },
        "id": "HSRbndBTLYHD",
        "outputId": "94793ba3-787a-4b6e-f211-1fb727792213"
      },
      "execution_count": null,
      "outputs": [
        {
          "output_type": "execute_result",
          "data": {
            "image/png": "[encoded data removed]",
            "text/plain": [
              "<IPython.core.display.Image object>"
            ]
          },
          "metadata": {},
          "execution_count": 50
        }
      ]
    },
    {
      "cell_type": "markdown",
      "source": [
        "## Subclass Model"
      ],
      "metadata": {
        "id": "KJqPpZcRc5ox"
      }
    },
    {
      "cell_type": "code",
      "source": [
        "class CustomerTicketModel(keras.Model):\n",
        "  def __init__(self, num_departments):\n",
        "    super().__init__()\n",
        "    self.concat_layer = layers.Concatenate()\n",
        "    self.mixing_layer = layers.Dense(64, activation=\"relu\")\n",
        "    self.priority_scorer = layers.Dense(1, activation=\"sigmoid\")\n",
        "    self.department_classifier = layers.Dense(num_departments, activation=\"softmax\")\n",
        "\n",
        "  def call(self, inputs):\n",
        "    title = inputs[\"title\"]\n",
        "    text_body = inputs[\"text_body\"]\n",
        "    tags = inputs[\"tags\"]\n",
        "\n",
        "    features = self.concat_layer([title, text_body, tags])\n",
        "    features = self.mixing_layer(features)\n",
        "\n",
        "    priority = self.priority_scorer(features)\n",
        "    department = self.department_classifier(features)\n",
        "    return priority, department\n"
      ],
      "metadata": {
        "id": "aGJvWxITRBeB"
      },
      "execution_count": null,
      "outputs": []
    },
    {
      "cell_type": "code",
      "source": [
        "# Generate dummy data\n",
        "title_data = np.random.randint(0,2,size=(num_samples, vocabulary_size))\n",
        "text_body_data = np.random.randint(0, 2,size=(num_samples, vocabulary_size))\n",
        "tags_data = np.random.randint(0, 2, size=(num_samples, num_tags))\n",
        "\n",
        "priority_data = np.random.random(size=(num_samples, 1))\n",
        "department_data = np.random.randint(0, 2, size=(num_samples, num_departments))"
      ],
      "metadata": {
        "id": "0mkDLtwLpYyE"
      },
      "execution_count": null,
      "outputs": []
    },
    {
      "cell_type": "code",
      "source": [
        "model = CustomerTicketModel(num_departments=4)\n",
        "\n",
        "priority, department = model(\n",
        "    {\"title\": title_data, \"text_body\": text_body_data, \"tags\": tags_data})\n",
        "\n",
        "model.compile(optimizer=\"rmsprop\",\n",
        "              loss=[\"mean_squared_error\", \"categorical_crossentropy\"],\n",
        "              metrics =[[\"mean_absolute_error\"], [\"accuracy\"]])\n",
        "\n",
        "model.fit({\"title\": title_data,\n",
        "           \"text_body\": text_body_data,\n",
        "           \"tags\": tags_data},\n",
        "          [priority_data, department_data],\n",
        "          epochs=1)\n",
        "\n",
        "model.evaluate({\"title\":title_data,\n",
        "                \"text_body\":text_body_data,\n",
        "                \"tags\":tags_data},\n",
        "               [priority_data, department_data])\n",
        "\n",
        "priority_preds,department_preds = model.predict({\"title\": title_data,\n",
        "                                                 \"text_body\":text_body_data,\n",
        "                                                 \"tags\":tags_data})"
      ],
      "metadata": {
        "colab": {
          "base_uri": "https://localhost:8080/"
        },
        "id": "DtNr1SAXS5-V",
        "outputId": "9f197b07-5bf8-4166-f58a-a38c7abbadf7"
      },
      "execution_count": null,
      "outputs": [
        {
          "output_type": "stream",
          "name": "stdout",
          "text": [
            "40/40 [==============================] - 2s 25ms/step - loss: 59.0131 - output_1_loss: 0.3191 - output_2_loss: 58.6940 - output_1_mean_absolute_error: 0.4860 - output_2_accuracy: 0.2820\n",
            "40/40 [==============================] - 1s 12ms/step - loss: 48.3007 - output_1_loss: 0.3248 - output_2_loss: 47.9759 - output_1_mean_absolute_error: 0.4921 - output_2_accuracy: 0.5562\n",
            "40/40 [==============================] - 0s 8ms/step\n"
          ]
        }
      ]
    },
    {
      "cell_type": "code",
      "source": [
        "# Model summary\n",
        "model.summary()"
      ],
      "metadata": {
        "colab": {
          "base_uri": "https://localhost:8080/"
        },
        "id": "NbfOC-lqiKVq",
        "outputId": "277cba10-053c-41a7-f1d5-6e42f8b03c14"
      },
      "execution_count": null,
      "outputs": [
        {
          "output_type": "stream",
          "name": "stdout",
          "text": [
            "Model: \"customer_ticket_model_2\"\n",
            "_________________________________________________________________\n",
            " Layer (type)                Output Shape              Param #   \n",
            "=================================================================\n",
            " concatenate_5 (Concatenate  multiple                  0         \n",
            " )                                                               \n",
            "                                                                 \n",
            " dense_17 (Dense)            multiple                  1286464   \n",
            "                                                                 \n",
            " dense_18 (Dense)            multiple                  65        \n",
            "                                                                 \n",
            " dense_19 (Dense)            multiple                  260       \n",
            "                                                                 \n",
            "=================================================================\n",
            "Total params: 1286789 (4.91 MB)\n",
            "Trainable params: 1286789 (4.91 MB)\n",
            "Non-trainable params: 0 (0.00 Byte)\n",
            "_________________________________________________________________\n"
          ]
        }
      ]
    },
    {
      "cell_type": "markdown",
      "source": [
        "## Conclusion: Reflect on the usages of the three APIs\n",
        "\n",
        "### Sequential API\n",
        "- **Ease of Use**: The Sequential API is straightforward and easy to use for simple, linear stacks of layers.\n",
        "- **Limitations**: It lacks flexibility for more complex models with multiple inputs, outputs, or non-linear topology.\n",
        "\n",
        "### Functional API\n",
        "- **Flexibility**: The Functional API provides a flexible approach to building models, supporting complex architectures like multi-input/output, shared layers, and more.\n",
        "- **Usability**: It offers a balance between ease of use and model complexity, making it the most common API used in practice.\n",
        "\n",
        "### Subclassing API\n",
        "- **Control**: The Subclassing API gives the most control over model building, allowing for the creation of highly customized models.\n",
        "- **Complexity**: It requires more code and is more complex to implement, but it is very powerful for research and custom layer development.\n",
        "\n",
        "Each API serves different needs, and the choice of which to use depends on the complexity of the model and the specific requirements of the task at hand. For me the sequential model was easier to understand and create."
      ],
      "metadata": {
        "id": "62JT3NE9lmAa"
      }
    }
  ]
}