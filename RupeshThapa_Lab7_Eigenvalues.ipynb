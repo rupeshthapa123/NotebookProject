{
  "cells": [
    {
      "cell_type": "markdown",
      "metadata": {
        "id": "view-in-github",
        "colab_type": "text"
      },
      "source": [
        "<a href=\"https://colab.research.google.com/github/rupeshthapa123/NotebookProject/blob/main/RupeshThapa_Lab7_Eigenvalues.ipynb\" target=\"_parent\"><img src=\"https://colab.research.google.com/assets/colab-badge.svg\" alt=\"Open In Colab\"/></a>"
      ]
    },
    {
      "cell_type": "markdown",
      "metadata": {
        "id": "qqDKxJ1ZpLr1"
      },
      "source": [
        "# Lab7. Eigenvalues"
      ]
    },
    {
      "cell_type": "markdown",
      "metadata": {
        "id": "6gAIPKJdpLr1"
      },
      "source": [
        "In this Lab you will learn the computation of eigenvectors and eigenvalues for linear transformations from $\\mathbb{R}^n$ to $\\mathbb{R}^n$ that can be used to analyze the effect of a transformation matrix.\n",
        "\n",
        "Given a square $n\\times n$ matrix $A$, a scalar $\\lambda$ is called an **eigenvalue** of $A$ if there exists some nonzero vector $V$ in $\\mathbb{R}^n$ such that\n",
        "\n",
        "$$AV=\\lambda V$$\n",
        "\n",
        "The vector $V$ is the **eigenvector** associated with $\\lambda$.  \n",
        "\n",
        "In general, there may be multiple eigenvalues ($\\lambda_1$, $\\lambda_2$, etc.) associated with a given matrix.\n",
        "\n",
        "##  Eigenvalues in $\\mathbb{R}^2$\n",
        "\n",
        "The Eigendecomposition of a Matrix $A$ is given by the solution to the __characteristic equation__ of $A$,\n",
        "\n",
        "$$det(A-\\lambda I)=0$$\n",
        "\n",
        "where $I$ is the identity matrix.\n",
        "\n",
        "> __NOTE__: _The graphical meaning of the Determinant is the change in area for a given transformation._\n",
        "\n",
        "For the matrix $A$ given by,\n",
        "$$\n",
        "\\begin{equation}\n",
        "A = \\left[ \\begin{array}{cc} a & b \\\\ c & d \\end{array}\\right]\n",
        "\\end{equation}\n",
        "$$\n",
        "\n",
        "The characteristic equation is,\n",
        "$$\n",
        "\\begin{equation}\n",
        "det(A-\\lambda I) = det \\left[ \\begin{array}{cc} a-\\lambda & b \\\\ c & d-\\lambda \\end{array}\\right]\n",
        "\\end{equation}\n",
        "$$\n",
        "\n",
        "Solving the determinant,\n",
        "$$(a-\\lambda)(d-\\lambda)-cb=0$$\n",
        "Which yields\n",
        "$$\\lambda^2-\\lambda(d+a)+ad-cb=0$$\n",
        "\n",
        "The solution(s) to this equation are scalar and are the __Eigenvalues__ of $A$.\n",
        "\n",
        "\n",
        "## Eigenvectors in $\\mathbb{R}^2$\n",
        "\n",
        "The corresponding __Eigenvectors__ $[x_1 x_2]^T$ are defined for each Eigenvalue $\\lambda_n$ by the solutions of,\n",
        "\n",
        "$$AV=\\lambda V$$\n",
        "\n",
        "Subtracting $\\lambda V$ from both sides,\n",
        "\n",
        "$$AV-\\lambda V=\\lambda V-\\lambda V$$\n",
        "\n",
        "Rearranging we get,\n",
        "\n",
        "$$(A-\\lambda)V=0$$\n",
        "\n",
        "Expanding the expression,\n",
        "\n",
        "$$\n",
        "\\begin{equation}\n",
        "\\left[ \\begin{array}{cc} a-\\lambda & b \\\\ c & d-\\lambda \\end{array}\\right] \\left[ \\begin{array}{cc} x_1 \\\\ x_2 \\end{array}\\right]=0\n",
        "\\end{equation}\n",
        "$$\n",
        "\n",
        "The result is an equation system such that,\n",
        "\n",
        "$$(a-\\lambda)x_1+bx_2=0\\\\\n",
        "cx_1+(a-\\lambda)x_2=0$$\n",
        "\n",
        "We can see that a free selection of one variable will define the other. In this case, selection of $x_1$ will lead to the corresponding $x_2$ and the eigenvector will be $[x_1 x_2]^T$\n",
        "\n",
        "> **NOTE**: The equation system given by the eigenvectors is not unique. This means that a complete family of vectors can be solutions of the system."
      ]
    },
    {
      "cell_type": "markdown",
      "metadata": {
        "id": "hRUK7k2HpLr2"
      },
      "source": [
        "## Example 1:  Matrix representing horizontal stretch\n",
        "\n",
        "Let's consider first the following matrix.\n",
        "\n",
        "$$\n",
        "\\begin{equation}\n",
        "A = \\left[ \\begin{array}{cc} 2 & 0 \\\\ 0 & 1 \\end{array}\\right]\n",
        "\\end{equation}\n",
        "$$\n",
        "\n",
        "This transformation matrix has the effect of a horizontal stretch."
      ]
    },
    {
      "cell_type": "code",
      "execution_count": null,
      "metadata": {
        "tags": [
          "hide-input"
        ],
        "colab": {
          "base_uri": "https://localhost:8080/",
          "height": 435
        },
        "id": "CFW7toIWpLr2",
        "outputId": "45c31732-c93b-4b94-b46d-1c892cc75532"
      },
      "outputs": [
        {
          "output_type": "display_data",
          "data": {
            "text/plain": [
              "<Figure size 640x480 with 1 Axes>"
            ],
            "image/png": "[encoded data removed]"
          },
          "metadata": {}
        }
      ],
      "source": [
        "%matplotlib inline\n",
        "import numpy as np\n",
        "import matplotlib.pyplot as plt\n",
        "\n",
        "fig, ax = plt.subplots()\n",
        "\n",
        "options = {\"head_width\":0.1, \"head_length\":0.2, \"length_includes_head\":True}\n",
        "\n",
        "ax.arrow(0,0,2,3,fc='b',ec='b',**options)\n",
        "ax.arrow(0,0,4,3,fc='r',ec='r',**options)\n",
        "\n",
        "ax.set_xlim(-1,5)\n",
        "ax.set_ylim(-1,5)\n",
        "ax.set_aspect('equal')\n",
        "ax.set_xticks(np.arange(-1,6,step = 1))\n",
        "ax.set_yticks(np.arange(-1,6,step = 1))\n",
        "\n",
        "ax.text(0.8,2.2,'$X$')\n",
        "ax.text(4,2.2,'$AX$')\n",
        "\n",
        "ax.axvline(color='k',linewidth = 1)\n",
        "ax.axhline(color='k',linewidth = 1)\n",
        "\n",
        "ax.grid(True,ls=':')"
      ]
    },
    {
      "cell_type": "markdown",
      "metadata": {
        "id": "BVa2nlTqpLr2"
      },
      "source": [
        "$$\n",
        "\\begin{equation}\n",
        "X = \\left[ \\begin{array}{c} 2  \\\\ 3 \\end{array}\\right] \\hspace{1cm}\n",
        "AX = \\left[ \\begin{array}{c} 4  \\\\ 3 \\end{array}\\right]\n",
        "\\end{equation}\n",
        "$$"
      ]
    },
    {
      "cell_type": "markdown",
      "metadata": {
        "id": "nbAaZOcGpLr3"
      },
      "source": [
        "For this example it is possible to deduce the eigenvalues and eigenvectors since the effect of the matrix is rather simple.  Any vector that does not have its direction changed by this transformation is an eigenvector.  In particular, we notice that any vector along the $x_1$-axis will be scaled by the stretch, but the direction will be unchanged.  Let's choose the unit vector to label as $V_1$\n",
        "\n",
        "$$\n",
        "\\begin{equation}\n",
        "V_1 = \\left[ \\begin{array}{c} 1  \\\\ 0 \\end{array}\\right] \\hspace{1cm}\n",
        "\\end{equation}\n",
        "$$\n",
        "\n",
        "We can calculate and observe that $AV_1 = 2V_1$  This tells us that $\\lambda_1 = 2$ is the eigenvalue associated with $V_1$.  It is important to note that given $\\lambda_1 = 2$, there is a whole collection of eigenvectors that satisfy the equation $AV = 2V$.  Indeed if $V=kV_1$, where $k$ is any scalar, we have\n",
        "\n",
        "$AV = A(kV_1) = k(AV_1) = k(2V_1) = 2(kV_1) = 2V$.\n",
        "\n",
        "We now consider if any other vectors whose directions are unchanged by the transformation.\n",
        "After a bit of thought, we realize that any vector along the $x_2$-axis is entirely unaffected by the matrix multiplication.  Let's label $V_2$ as the unit vector along that axis.\n",
        "\n",
        "$$\n",
        "\\begin{equation}\n",
        "V_2 = \\left[ \\begin{array}{c} 0  \\\\ 1 \\end{array}\\right] \\hspace{1cm}\n",
        "\\end{equation}\n",
        "$$\n",
        "\n",
        "Since $AV_2 = V_2$, it must be that the associated eigenvalue is $\\lambda_2 = 1.$  Again we note that there is a whole collection of eigenvectors associated with $\\lambda_2$, since any multiple of $V_2$ is also unchanged by the transformation."
      ]
    },
    {
      "cell_type": "markdown",
      "metadata": {
        "id": "qEXgD7FMpLr3"
      },
      "source": [
        "## Example 2:  Projection matrix\n",
        "\n",
        "For the next example, let's consider a matrix which projects vectors orthogonally onto its one-dimensional column space.\n",
        "\n",
        "$$\n",
        "\\begin{equation}\n",
        "B = \\left[ \\begin{array}{cc} 0.2 & -0.4 \\\\ -0.4 & 0.8 \\end{array}\\right]\n",
        "\\end{equation}\n",
        "$$\n"
      ]
    },
    {
      "cell_type": "code",
      "execution_count": null,
      "metadata": {
        "colab": {
          "base_uri": "https://localhost:8080/"
        },
        "id": "syjwd299pLr3",
        "outputId": "3c166337-8102-43bb-9ece-c92aeb45a82f"
      },
      "outputs": [
        {
          "output_type": "stream",
          "name": "stdout",
          "text": [
            "[[-0.6]\n",
            " [ 1.2]] \n",
            "\n",
            "[[0.]\n",
            " [0.]]\n"
          ]
        }
      ],
      "source": [
        "B = np.array([[0.2, -0.4],[-0.4, 0.8]])\n",
        "X = np.array([[1],[2]])\n",
        "Y = np.array([[2],[1]])\n",
        "\n",
        "print(B@X,'\\n')\n",
        "print(B@Y)\n"
      ]
    },
    {
      "cell_type": "code",
      "execution_count": null,
      "metadata": {
        "tags": [
          "hide-input"
        ],
        "colab": {
          "base_uri": "https://localhost:8080/",
          "height": 435
        },
        "id": "jAZA8UN5pLr3",
        "outputId": "509edfc5-4bdf-4866-8478-db0910f8f7ba"
      },
      "outputs": [
        {
          "output_type": "display_data",
          "data": {
            "text/plain": [
              "<Figure size 640x480 with 1 Axes>"
            ],
            "image/png": "[encoded data removed]"
          },
          "metadata": {}
        }
      ],
      "source": [
        "fig, ax = plt.subplots()\n",
        "x=np.linspace(-6,6,100)\n",
        "\n",
        "options = {\"head_width\":0.1, \"head_length\":0.2, \"length_includes_head\":True}\n",
        "\n",
        "ax.arrow(0,0,1,2,fc='b',ec='b',**options)\n",
        "ax.arrow(0,0,-0.6,1.2,fc='r',ec='r',**options)\n",
        "ax.plot(x,-2*x,ls=':')\n",
        "\n",
        "ax.set_xlim(-3,3)\n",
        "ax.set_ylim(-2,4)\n",
        "ax.set_aspect('equal')\n",
        "ax.set_xticks(np.arange(-3,4,step = 1))\n",
        "ax.set_yticks(np.arange(-2,5,step = 1))\n",
        "\n",
        "ax.text(0.8,2.2,'$X$')\n",
        "ax.text(-1,1.2,'$BX$')\n",
        "ax.text(0.85,-1,'$\\mathcal{C}(B)$')\n",
        "\n",
        "ax.axvline(color='k',linewidth = 1)\n",
        "ax.axhline(color='k',linewidth = 1)\n",
        "\n",
        "ax.grid(True,ls=':')"
      ]
    },
    {
      "cell_type": "markdown",
      "metadata": {
        "id": "7fYc0-adpLr4"
      },
      "source": [
        "In this example we can again determine the eigenvectors and corresponding eigenvalues by considering the transformation represented by the matrix.  Any vectors in $\\mathcal{C}(B)$ will be unchanged by the projection.  Again we will label one such vector as $V_1$.\n",
        "\n",
        "$$\n",
        "\\begin{equation}\n",
        "V_1 = \\left[ \\begin{array}{r} -1  \\\\ 2 \\end{array}\\right] \\hspace{1cm}\n",
        "\\end{equation}\n",
        "$$\n",
        "\n",
        "Since $BV_1 = V_1$ the eigenvalue corresponding to $V_1$ is $\\lambda_1 = 1$.\n",
        "\n",
        "The other eigenvalue for this matrix may not be as easy to discover by examining the directions of various choices of $X$ and the corresponding directions of $BX$.  If we closely consider the definition of eigenvalues however, we realize that if there exists any nonzero vector $V$ such that $BV=0$, then that vector must be an eigenvector with zero as the corresponding eigenvalue.  To make the statement in terms of the fundamental subspaces, zero is an eigenvalue of the matrix $B$ if there are any nonzero vectors in $\\mathcal{N}(B)$.  \n",
        "\n",
        "In this example, since $B$ represents an orthogonal projection, $\\mathcal{N}(B)$ is the subspace orthogonal to $\\mathcal{C}(B)$.  We can label any such vector as $V_2$\n",
        "\n",
        "$$\n",
        "\\begin{equation}\n",
        "V_2 = \\left[ \\begin{array}{r} 2  \\\\ 1 \\end{array}\\right] \\hspace{1cm}\n",
        "\\end{equation}\n",
        "$$\n",
        "\n",
        "The eigenvalue corresponding to $V_2$ is $\\lambda_2 = 0$."
      ]
    },
    {
      "cell_type": "markdown",
      "metadata": {
        "id": "l865v8mLpLr4"
      },
      "source": [
        "### Exercises\n",
        "\n",
        "For each exercise,\n",
        "- Solve the eigendecomposition by hand in a piece of paper\n",
        "- Submit your scanned work with your notebook files\n",
        "- Write the code that proves that $AV_n=\\lambda_n V_n$ for each eigenvalue and eigenvector combination."
      ]
    },
    {
      "cell_type": "markdown",
      "source": [
        "**Exercise 1:** Determine the eigenvalues and corresponding eigenvectors of the following matrix by considering the transformation that it represents.\n",
        "\n",
        "$$\n",
        "\\begin{equation}\n",
        "A = \\left[ \\begin{array}{cc} 1 & 0 \\\\ 0 & -3 \\end{array}\\right]\n",
        "\\end{equation}\n",
        "$$"
      ],
      "metadata": {
        "id": "usNnojLzCaM8"
      }
    },
    {
      "cell_type": "code",
      "source": [
        "A = [[1, 0], [0, -3]]\n",
        "\n",
        "# Calculate the eigenvalues and eigenvectors\n",
        "eigenvalues, eigenvectors = np.linalg.eig(A)\n",
        "\n",
        "print(\"Eigenvalues:\", eigenvalues)\n",
        "print(\"Eigenvectors:\", eigenvectors)"
      ],
      "metadata": {
        "id": "igRnRpk0Ctho",
        "colab": {
          "base_uri": "https://localhost:8080/"
        },
        "outputId": "768d2c2c-4554-49a9-b22c-3324da8df776"
      },
      "execution_count": null,
      "outputs": [
        {
          "output_type": "stream",
          "name": "stdout",
          "text": [
            "Eigenvalues: [ 1. -3.]\n",
            "Eigenvectors: [[1. 0.]\n",
            " [0. 1.]]\n"
          ]
        }
      ]
    },
    {
      "cell_type": "markdown",
      "metadata": {
        "id": "2cN1BK0WpLr4"
      },
      "source": [
        "**Exercise 2:** Find the eigenvalues and the corresponding eigenvectors of the following matrix $R$ that represents the reflection transformation about the line $ x_1 = x_2 $.\n",
        "\n",
        "\n",
        "$$\n",
        "\\begin{equation}\n",
        "R = \\left[ \\begin{array}{cc} 0 & 1 \\\\ 1 & 0 \\end{array}\\right]\n",
        "\\end{equation}\n",
        "$$"
      ]
    },
    {
      "cell_type": "code",
      "source": [
        "# Define the matrix R\n",
        "R = [[0, 1], [1, 0]]\n",
        "\n",
        "# Calculate the eigenvalues and eigenvectors\n",
        "eigenvalues, eigenvectors = np.linalg.eig(R)\n",
        "\n",
        "print(\"Eigenvalues:\", eigenvalues)\n",
        "print(\"Eigenvectors:\", eigenvectors)"
      ],
      "metadata": {
        "id": "wsZqnEhcCuA5",
        "colab": {
          "base_uri": "https://localhost:8080/"
        },
        "outputId": "268b7852-f88a-4e67-8773-100512355488"
      },
      "execution_count": null,
      "outputs": [
        {
          "output_type": "stream",
          "name": "stdout",
          "text": [
            "Eigenvalues: [ 1. -1.]\n",
            "Eigenvectors: [[ 0.70710678 -0.70710678]\n",
            " [ 0.70710678  0.70710678]]\n"
          ]
        }
      ]
    },
    {
      "cell_type": "markdown",
      "metadata": {
        "id": "m44g86W8pLr4"
      },
      "source": [
        "**Exercise 3:** Find a matrix that represents a vertical and horizontal stretch by a factor of $2$. Then, find the eigenvalues and the eigenvectors associated with those eigenvalues. (You may have to take a look at the Linear Transformations lab)"
      ]
    },
    {
      "cell_type": "code",
      "source": [
        "# Define the stretch matrix S\n",
        "S = [[2, 0], [0, 2]]\n",
        "\n",
        "# Calculate the eigenvalues and eigenvectors\n",
        "eigenvalues, eigenvectors = np.linalg.eig(S)\n",
        "\n",
        "print(\"Eigenvalues:\", eigenvalues)\n",
        "print(\"Eigenvectors:\", eigenvectors)"
      ],
      "metadata": {
        "id": "K8EsCekqCvps",
        "colab": {
          "base_uri": "https://localhost:8080/"
        },
        "outputId": "70b4ee5e-38a4-482e-8885-459e290122df"
      },
      "execution_count": null,
      "outputs": [
        {
          "output_type": "stream",
          "name": "stdout",
          "text": [
            "Eigenvalues: [2. 2.]\n",
            "Eigenvectors: [[1. 0.]\n",
            " [0. 1.]]\n"
          ]
        }
      ]
    },
    {
      "cell_type": "markdown",
      "metadata": {
        "id": "WJS5BvI6pLr5"
      },
      "source": [
        "**Exercise 4:** Find a matrix that represents reflection about the $x_1-$axis and find its eigenvalues and eigenvectors."
      ]
    },
    {
      "cell_type": "code",
      "source": [
        "# Define the reflection matrix R\n",
        "R = [[1, 0], [0, -1]]\n",
        "\n",
        "# Calculate the eigenvalues and eigenvectors\n",
        "eigenvalues, eigenvectors = np.linalg.eig(R)\n",
        "\n",
        "print(\"Eigenvalues:\", eigenvalues)\n",
        "print(\"Eigenvectors:\", eigenvectors)"
      ],
      "metadata": {
        "id": "EpCacmWCCwiw",
        "colab": {
          "base_uri": "https://localhost:8080/"
        },
        "outputId": "b4a0629b-e2e3-4c4e-a4bc-468a2c770dee"
      },
      "execution_count": null,
      "outputs": [
        {
          "output_type": "stream",
          "name": "stdout",
          "text": [
            "Eigenvalues: [ 1. -1.]\n",
            "Eigenvectors: [[1. 0.]\n",
            " [0. 1.]]\n"
          ]
        }
      ]
    }
  ],
  "metadata": {
    "kernelspec": {
      "display_name": "Python 3",
      "language": "python",
      "name": "python3"
    },
    "language_info": {
      "codemirror_mode": {
        "name": "ipython",
        "version": 3
      },
      "file_extension": ".py",
      "mimetype": "text/x-python",
      "name": "python",
      "nbconvert_exporter": "python",
      "pygments_lexer": "ipython3",
      "version": "3.7.3"
    },
    "colab": {
      "provenance": [],
      "include_colab_link": true
    }
  },
  "nbformat": 4,
  "nbformat_minor": 0
}