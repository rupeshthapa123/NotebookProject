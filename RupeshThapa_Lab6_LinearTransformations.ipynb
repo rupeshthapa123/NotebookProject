{
  "cells": [
    {
      "cell_type": "markdown",
      "metadata": {
        "id": "view-in-github",
        "colab_type": "text"
      },
      "source": [
        "<a href=\"https://colab.research.google.com/github/rupeshthapa123/NotebookProject/blob/main/RupeshThapa_Lab6_LinearTransformations.ipynb\" target=\"_parent\"><img src=\"https://colab.research.google.com/assets/colab-badge.svg\" alt=\"Open In Colab\"/></a>"
      ]
    },
    {
      "cell_type": "markdown",
      "metadata": {
        "id": "uWc9IVLEDrDu"
      },
      "source": [
        "## Linear Transformations"
      ]
    },
    {
      "cell_type": "markdown",
      "metadata": {
        "id": "5eKX3Eg1DrDz"
      },
      "source": [
        "Besides solving linear systems, matrix algebra can be used to represent __mappings between vector spaces__. Linear transformations can be derived using simple matrix multiplication.\n",
        "\n",
        "A mapping follows the principles below:\n",
        "- A **mapping** between vector spaces associates input vectors to output vectors.\n",
        "- An input vector is \"mapped\" to an output vector.\n",
        "- The input and output vectors may be in different spaces, or they may be in the same space.\n",
        "- There may be multiple input vectors that get mapped to a single output vector.\n",
        "- Each input vector gets mapped to a unique output vector.\n",
        "- In calculus terms, mappings are known as __functions__.\n",
        "\n",
        "Finally, if we wish to label the output vector as $W$, we write $T(V)=W$, meaning that the input vector $V$ gets mapped to the output vector $W$ by the mapping $T$. The vector $W$ is said to be the **image** of $V$ under the map $T$.  Similarly, the vector $V$ is said to be the **preimage** of $W$."
      ]
    },
    {
      "cell_type": "markdown",
      "metadata": {
        "id": "t9JGFuguDrD0"
      },
      "source": [
        "### Example 1:  Transformation from $\\mathbb{R}^2$ to $\\mathbb{R}^3$\n",
        "\n",
        "A Python function that accepts one vector as an argument, and provides one vector in return, is a perfect model of a mapping.  As an example, let's write a function that accepts a vector from $\\mathbb{R}^2$ and returns a vector in $\\mathbb{R}^3$."
      ]
    },
    {
      "cell_type": "code",
      "execution_count": null,
      "metadata": {
        "id": "68wQOBdUDrD1",
        "colab": {
          "base_uri": "https://localhost:8080/"
        },
        "outputId": "2ebd26e3-e9f8-40d9-c081-1f1884169513"
      },
      "outputs": [
        {
          "output_type": "stream",
          "name": "stdout",
          "text": [
            "[[3]\n",
            " [5]] \n",
            "\n",
            " [[6.]\n",
            " [0.]\n",
            " [5.]]\n"
          ]
        }
      ],
      "source": [
        "import numpy as np\n",
        "\n",
        "def T(V):\n",
        "    W = np.zeros((3,1))\n",
        "    W[0,0] = 2*V[0,0]\n",
        "    W[2,0] = V[1,0]\n",
        "    return W\n",
        "\n",
        "V = np.array([[3],[5]])\n",
        "W = T(V)\n",
        "\n",
        "print(V,'\\n\\n',W)"
      ]
    },
    {
      "cell_type": "markdown",
      "metadata": {
        "id": "cM0gwNX4DrD3"
      },
      "source": [
        "We can describe this mapping $T:\\mathbb{R}^2 \\to \\mathbb{R}^3$ with the following symbolic formula.\n",
        "\n",
        "$$\n",
        "\\begin{equation}\n",
        "T \\left(\\left[\\begin{array}{r} v_1 \\\\ v_2 \\end{array} \\right]\\right) =\n",
        "\\left[\\begin{array}{r} 2v_1 \\\\ 0  \\\\ v_2 \\end{array} \\right]\n",
        "\\end{equation}\n",
        "$$\n",
        "\n"
      ]
    },
    {
      "cell_type": "markdown",
      "metadata": {
        "id": "5qaQRk7WDrD3"
      },
      "source": [
        "### Linearity\n",
        "\n",
        "A map $T$ is said to be *linear* if the following two properties are true for any scalar $k$, and any input vectors $U$ and $V$.  \n",
        "\n",
        "- $T(kV)$ = $kT(V)$\n",
        "- $T(U + V)$ = $T(U) + T(V)$\n",
        "\n",
        "A linear map is referred to as a **linear transformation**."
      ]
    },
    {
      "cell_type": "markdown",
      "metadata": {
        "id": "AT3rAmVADrD4"
      },
      "source": [
        "The map $T$ in **Example 1** is a linear transformation.  \n",
        "\n",
        "$$\n",
        "\\begin{eqnarray*}\n",
        "T(kV)  = T \\left(\\left [\\begin{array}{r} kv_1 \\\\ kv_2 \\end{array} \\right]\\right) & = &\n",
        "\\left[\\begin{array}{r} 2kv_1 \\\\ 0  \\\\ kv_2 \\end{array} \\right] =\n",
        "k\\left[\\begin{array}{r} 2v_1 \\\\ 0  \\\\ v_2 \\end{array} \\right] = kT(V)\\\\\n",
        "\\\\\n",
        "T(U+V) = T \\left(\\left [\\begin{array}{r} u_1 + v_1 \\\\ u_2 + v_2 \\end{array} \\right]\\right) & = &\n",
        "\\left[\\begin{array}{r} 2u_1 \\\\ 0  \\\\ u_2 \\end{array} \\right] +\n",
        "\\left[\\begin{array}{r} 2v_1 \\\\ 0  \\\\ v_2 \\end{array} \\right] = T(U) + T(V)\n",
        "\\end{eqnarray*}\n",
        "$$\n",
        "\n",
        "If we choose specific vectors $U$ and $V$, and a specific scalar $k$, we can compute the left and right sides of these equations with syntax that matches the notation"
      ]
    },
    {
      "cell_type": "code",
      "execution_count": null,
      "metadata": {
        "id": "Uec_KuD4DrD4",
        "colab": {
          "base_uri": "https://localhost:8080/"
        },
        "outputId": "c38bc24b-3f2c-493e-a255-8efbb832ea35"
      },
      "outputs": [
        {
          "output_type": "stream",
          "name": "stdout",
          "text": [
            "[[42.]\n",
            " [ 0.]\n",
            " [35.]] \n",
            "\n",
            "[[42.]\n",
            " [ 0.]\n",
            " [35.]] \n",
            "\n",
            "[[4.]\n",
            " [0.]\n",
            " [8.]] \n",
            "\n",
            "[[4.]\n",
            " [0.]\n",
            " [8.]]\n"
          ]
        }
      ],
      "source": [
        "U = np.array([[-1],[3]])\n",
        "V = np.array([[3],[5]])\n",
        "k = 7\n",
        "print(T(k*V),'\\n')\n",
        "print(k*T(V),'\\n')\n",
        "print(T(U+V),'\\n')\n",
        "print(T(U)+T(V))"
      ]
    },
    {
      "cell_type": "markdown",
      "metadata": {
        "id": "iB7OS2vaDrD4"
      },
      "source": [
        "Showing these equations hold for a *specific choice* of $U$, $V$, and $k$ does not prove that the transformation is linear.  Even if we were to run this code inside a loop and see that the equations held for a million random combinations of $U$, $V$, and $k$, that would still not *prove* that the transformation is linear.  It would however provide numerical evidence to support the claim.  "
      ]
    },
    {
      "cell_type": "markdown",
      "metadata": {
        "id": "MKenOKKIDrD5"
      },
      "source": [
        "### Example 2:  Transformation defined as matrix multiplication\n",
        "\n",
        "Let $L:\\mathbb{R}^3 \\to \\mathbb{R}^3$ be defined by $L(X)= AX$ where $A$ is the following matrix.\n",
        "\n",
        "$$\n",
        "\\begin{equation}\n",
        "A = \\left[\\begin{array}{rrr} 1 & 1 & 0 \\\\ 1 & 0 & 2 \\\\ 3 & 1 & -1 \\end{array}\\right]\n",
        "\\end{equation}\n",
        "$$\n",
        "\n",
        "Since matrix multiplication is linear, a transformation defined by matrix multiplication is linear as well.  If $X$ and $Y$ are any vectors in $\\mathbb{R}^3$, and $k$ is any scalar, then $L(X+Y) = A(X+Y) = AX + AY = L(X) + L(Y)$ and $L(kX) = A(kX) = k(AX) = kL(X)$.  We define a function for this transformation as well."
      ]
    },
    {
      "cell_type": "code",
      "execution_count": null,
      "metadata": {
        "id": "yo4fV0fJDrD5",
        "colab": {
          "base_uri": "https://localhost:8080/"
        },
        "outputId": "4ac9ec6f-45af-430e-f320-cf8a80698db9"
      },
      "outputs": [
        {
          "output_type": "stream",
          "name": "stdout",
          "text": [
            "[[1]\n",
            " [3]\n",
            " [5]] \n",
            "\n",
            " [[2.]\n",
            " [0.]\n",
            " [3.]]\n"
          ]
        }
      ],
      "source": [
        "def L(V):\n",
        "    A = np.array([[1,1,0],[1,0,2],[3,1,-1]])\n",
        "    W = A@V\n",
        "    return W\n",
        "\n",
        "V = np.array([[1],[3],[5]])\n",
        "W = T(V)\n",
        "\n",
        "print(V,'\\n\\n',W)"
      ]
    },
    {
      "cell_type": "markdown",
      "metadata": {
        "id": "un4GYpP9DrD5"
      },
      "source": [
        "### Example 3:  Transformation from $\\mathbb{P}^3$ to $\\mathbb{P}^5$\n",
        "\n",
        "In this final example we consider a transformation between vector spaces of polynomials.  We can define a linear transformation $M:\\mathbb{P}_3\\to\\mathbb{P}_5$ by multiplying by some fixed quadratic polynomial, say $x^2 + 2$.  Let's write out the formula for $M$ by calculating $M(P)$ for an arbitrary $P = a_3x^3 + a_2x^2 + a_1x + a_0$.\n",
        "\n",
        "$$\n",
        "\\begin{eqnarray*}\n",
        "M(P) & = & (x^2 + 2)(a_3x^3 + a_2x^2 + a_1x + a_0) \\\\\n",
        "     & = & a_3x^5 + a^2x^4 + (2a_3 + a_1)x^3 + (2a_2 + a_0)x^2 + 2a_1x + 2a_0\n",
        "\\end{eqnarray*}\n",
        "$$\n",
        "\n",
        "This transformation must be linear by the algebraic rules for multiplication.  If $P$ and $Q$ are any polynomials in $\\mathbb{P}^3$ and $k$ is any scalar, we know that $M(P+Q) = (x^2+2)(P+Q) = (x^2+2)P + (x^2+2)Q = M(P) + M(Q)$, and $M(kP) = (x^2+2)(kP) = k[(x^2+2)P] = kM(P)$."
      ]
    },
    {
      "cell_type": "markdown",
      "metadata": {
        "id": "vwdBE7mlDrD6"
      },
      "source": [
        "### Compositions\n",
        "\n",
        "If two transformations are to be applied, one after the other, it is common to combine them to form what is known as a **composition**.  This idea only makes sense when the output space of the first transformation matches the input space of the second.  In symbols, if $T:\\mathbb{U}\\to\\mathbb{V}$ and $L:\\mathbb{V}\\to\\mathbb{W}$, then we could consider the composition $L\\circ T:\\mathbb{U}\\to\\mathbb{W}$.  The notation $L\\circ T$ represents the composition formed by applying the map $T$, followed by the map $L$.\n",
        "\n",
        "As an example, if we take $T:\\mathbb{R}^2 \\to \\mathbb{R}^3$ and $L:\\mathbb{R}^3 \\to \\mathbb{R}^3$ to be the transformations defined in **Example 2** and **Example 3**, we could define $L\\circ T:\\mathbb{R}^2 \\to \\mathbb{R}^3$.\n",
        "\n",
        "$$\n",
        "\\begin{equation}\n",
        "(L\\circ T)\\left(\\left[\\begin{array}{r} v_1 \\\\ v_2 \\end{array} \\right]\\right) =\n",
        "\\left[\\begin{array}{rrr} 1 & 1 & 0 \\\\ 1 & 0 & 2 \\\\ 3 & 1 & -1 \\end{array}\\right]\n",
        "\\left[\\begin{array}{r} 2v_1 \\\\ 0  \\\\ v_2 \\end{array} \\right]\n",
        "\\end{equation}\n",
        "$$\n",
        "\n",
        "We can calculate outputs from this transformation by calling the functions we defined earlier *in the appropriate order*, using the output from $T$ as the input to $L$."
      ]
    },
    {
      "cell_type": "code",
      "execution_count": null,
      "metadata": {
        "id": "X0w2PFRfDrD6",
        "colab": {
          "base_uri": "https://localhost:8080/"
        },
        "outputId": "bffc032a-95c1-4b31-841a-4831215a21f0"
      },
      "outputs": [
        {
          "output_type": "stream",
          "name": "stdout",
          "text": [
            "[[ 6.]\n",
            " [16.]\n",
            " [13.]]\n"
          ]
        }
      ],
      "source": [
        "V = np.array([[3],[5]])\n",
        "composition_output = L(T(V))\n",
        "print(composition_output)"
      ]
    },
    {
      "cell_type": "markdown",
      "metadata": {
        "id": "idWhDzc9DrD6"
      },
      "source": [
        "### Invertibility\n",
        "\n",
        "When applying a given linear transformation, we often consider if it is possible to *reverse the transformation*.  That is, we would like to know if it is possible to map all the vectors in the output space back to vectors in the input space such that images get sent back to their preimages.  If this is possible we say that the transformation is invertible.  More formally, a linear transformation $L:\\mathbb{V}\\to\\mathbb{W}$ is said to be **invertible** if there exists another transformation $L^{-1}:\\mathbb{W}\\to\\mathbb{V}$, known as the inverse, such that $(L^{-1}\\circ L)(X) = X$ for any vector $X$ in $\\mathbb{V}$.  \n",
        "\n",
        "The transformation $L$ in **Example 2** is invertible since the matrix $A$ is invertible.  If $X$ is any vector in $\\mathbb{R}^3$ and $Y=AX$ is the image vector of $X$, it is possible to find $X$ given $Y$ by using $X=A^{-1}Y$.  "
      ]
    },
    {
      "cell_type": "code",
      "execution_count": null,
      "metadata": {
        "id": "QI7zdVBNDrD7",
        "colab": {
          "base_uri": "https://localhost:8080/"
        },
        "outputId": "661db34b-2aec-4b1e-b1df-64515b85ec00"
      },
      "outputs": [
        {
          "output_type": "stream",
          "name": "stdout",
          "text": [
            "[[ 4]\n",
            " [11]\n",
            " [ 1]] \n",
            "\n",
            "[[1.]\n",
            " [3.]\n",
            " [5.]]\n"
          ]
        }
      ],
      "source": [
        "import numpy as np\n",
        "\n",
        "def L_inverse(V):\n",
        "    A = np.array([[1,1,0],[1,0,2],[3,1,-1]])\n",
        "    A_inverse = np.linalg.inv(A)\n",
        "    W = A_inverse@V\n",
        "    return W\n",
        "\n",
        "V = np.array([[1],[3],[5]])\n",
        "print(L(V),'\\n')\n",
        "print(L_inverse(L(V)))\n"
      ]
    },
    {
      "cell_type": "markdown",
      "metadata": {
        "id": "8KRT0LJ5DrD7"
      },
      "source": [
        "Note that we don't necessarily need to compute $A^{-1}$, we just need to be able to solve $AX=Y$ for any $Y$ in $\\mathbb{R}^3$.\n",
        "\n",
        "The transformation $T$ in **Example 1** is *not* invertible since there will be no way to define $T^{-1}$ for vectors in $\\mathbb{R}^3$ that have nonzero middle entry.  In the next section, we will discuss a method for determining which transformations are invertible by representing them as matrix multiplications."
      ]
    },
    {
      "cell_type": "markdown",
      "metadata": {
        "id": "l6tZxgQ1DrD7"
      },
      "source": [
        "### Exercises\n",
        "\n",
        "**Exercise 1:** Find the vector $T(V)$ where\n",
        "\n",
        "$$\n",
        "\\begin{equation}\n",
        "V = \\left[\\begin{array}{r} 1 \\\\ 3 \\end{array} \\right]\n",
        "\\end{equation}\n",
        "$$"
      ]
    },
    {
      "cell_type": "code",
      "execution_count": null,
      "metadata": {
        "id": "H55AF1BPDrD8",
        "colab": {
          "base_uri": "https://localhost:8080/"
        },
        "outputId": "048297af-107d-4e58-ea23-b76ef109a389"
      },
      "outputs": [
        {
          "output_type": "stream",
          "name": "stdout",
          "text": [
            "[[1]\n",
            " [3]] \n",
            "\n",
            " [[2.]\n",
            " [0.]\n",
            " [3.]]\n"
          ]
        }
      ],
      "source": [
        "## Code solution here.\n",
        "V = np.array([[1],[3]])\n",
        "W = T(V)\n",
        "\n",
        "print(V,'\\n\\n',W)"
      ]
    },
    {
      "cell_type": "markdown",
      "metadata": {
        "id": "gVRWrGN9DrD8"
      },
      "source": [
        "**Exercise 2:** Find the vector $U$ so that\n",
        "\n",
        "$$\n",
        "\\begin{equation}\n",
        "T(U) = \\left[\\begin{array}{r} 5 \\\\ 0 \\\\ -1 \\end{array} \\right]\n",
        "\\end{equation}\n",
        "$$"
      ]
    },
    {
      "cell_type": "code",
      "source": [
        "def T(V):\n",
        "    W = np.zeros((3,1))\n",
        "    W[0,0] = 2 * V[0,0]\n",
        "    W[2,0] = V[1,0]\n",
        "    return W\n",
        "\n",
        "def U_inverse(U):\n",
        "    A = np.array([[1,1,0],[1,0,2],[3,1,-1]])\n",
        "    A_inverse = np.linalg.inv(A)\n",
        "    W = A_inverse@U\n",
        "    return W\n",
        "\n",
        "U = np.array([[5],[0],[-1]])\n",
        "print((U),'\\n')\n",
        "print(U_inverse(T(U)))"
      ],
      "metadata": {
        "colab": {
          "base_uri": "https://localhost:8080/"
        },
        "id": "Q1m708I2pVCQ",
        "outputId": "e55f806e-b0d1-4f20-fe6a-d56cdb74cb41"
      },
      "execution_count": null,
      "outputs": [
        {
          "output_type": "stream",
          "name": "stdout",
          "text": [
            "[[ 5]\n",
            " [ 0]\n",
            " [-1]] \n",
            "\n",
            "[[-4.]\n",
            " [14.]\n",
            " [ 2.]]\n"
          ]
        }
      ]
    },
    {
      "cell_type": "code",
      "execution_count": null,
      "metadata": {
        "id": "d10GU3nPDrD8",
        "colab": {
          "base_uri": "https://localhost:8080/"
        },
        "outputId": "06b0ee47-c25c-4f59-9b83-8d5000c6963c"
      },
      "outputs": [
        {
          "output_type": "stream",
          "name": "stdout",
          "text": [
            "[[ 2.5]\n",
            " [-1. ]]\n"
          ]
        }
      ],
      "source": [
        "#def T(U):\n",
        "    #u1, u2 = U[0], U[2]\n",
        "    #return np.array([[2*u1], [0], [u2]])\n",
        "\n",
        "#target_vector = np.array([[5],\n",
        "                          #[0],\n",
        "                          #[-1]])\n",
        "\n",
        "#u1 = target_vector[0] / 2\n",
        "#u2 = target_vector[2]\n",
        "#U = np.array([u1,u2])\n",
        "\n",
        "#print(U)"
      ]
    },
    {
      "cell_type": "markdown",
      "metadata": {
        "id": "fQvfhgDODrD8"
      },
      "source": [
        "**Exercise 3:**  Write a Python function that implements the transformation $N:\\mathbb{R}^3\\to\\mathbb{R}^2$, given by the following rule.  Use the function to find evidence that $N$ is **not linear**.\n",
        "\n",
        "$$\n",
        "\\begin{equation}\n",
        "N \\left(\\left[\\begin{array}{r} v_1 \\\\ v_2 \\\\ v_3 \\end{array} \\right]\\right) =\n",
        "\\left[\\begin{array}{c} 8v_2 \\\\  v_1 + v_2 + 3 \\end{array} \\right]\n",
        "\\end{equation}\n",
        "$$"
      ]
    },
    {
      "cell_type": "markdown",
      "source": [
        "A map N is said to be linear if the following two properties are true for any scalar k, and any input vectors U and V.\n",
        "\n",
        "    N(kV) = kN(V)\n",
        "    N(U+V) = N(U)+N(V)"
      ],
      "metadata": {
        "id": "zjkvdvLmSsnK"
      }
    },
    {
      "cell_type": "code",
      "execution_count": null,
      "metadata": {
        "id": "A1GGMs4hDrD9",
        "colab": {
          "base_uri": "https://localhost:8080/"
        },
        "outputId": "a2687e13-3437-4d83-9dcf-2b2499666653"
      },
      "outputs": [
        {
          "output_type": "stream",
          "name": "stdout",
          "text": [
            "[[[280]]\n",
            "\n",
            " [[ 66]]] \n",
            "\n",
            "[[[280]]\n",
            "\n",
            " [[ 84]]] \n",
            "\n",
            "[[[56]]\n",
            "\n",
            " [[15]]] \n",
            "\n",
            "[[[56]]\n",
            "\n",
            " [[18]]]\n"
          ]
        }
      ],
      "source": [
        "## Code solution here.\n",
        "def N(v):\n",
        "    v1, v2, v3 = v[0], v[1], v[2]\n",
        "    result = np.array([[8*v[1]],[v[0] + v[1] + 3]])\n",
        "    return result\n",
        "\n",
        "U = np.array([[1], [2], [3]])\n",
        "V = np.array([[4], [5], [6]])\n",
        "k = 7\n",
        "\n",
        "print(N(k*V), '\\n')\n",
        "print(k*N(V), '\\n')\n",
        "print(N(U+V),'\\n')\n",
        "print(N(U)+N(V))"
      ]
    },
    {
      "cell_type": "markdown",
      "source": [
        "Since, the above code brought the result of the properties and are not equal it is not linear.  N is not linear because when adding  two vectors, N does not return the sum of their transformations. For example, $N(U+V$) is not equal $N(U)+N(V)$ for vectors U and V.\n"
      ],
      "metadata": {
        "id": "pP5AHYRBTRsi"
      }
    },
    {
      "cell_type": "markdown",
      "metadata": {
        "id": "sZoF8GhYDrD9"
      },
      "source": [
        "**Exercise 4:**  Consider the two transformations, $S$ and $R$, defined below.  Write a Python function that implements the composition $R\\circ S$.  Explain why it is not possible to form the composition $S \\circ R$.\n",
        "\n",
        "$$\n",
        "\\begin{equation}\n",
        "S \\left(\\left[\\begin{array}{r} v_1 \\\\ v_2 \\\\ v_3 \\end{array} \\right]\\right) =\n",
        "\\left[\\begin{array}{c}   v_1 + v_2 \\\\  3v_3 \\end{array} \\right]\n",
        "\\end{equation}\n",
        "$$\n",
        "\n",
        "$$\n",
        "\\begin{equation}\n",
        "R \\left(\\left[\\begin{array}{r} v_1 \\\\ v_2  \\end{array} \\right]\\right) =\n",
        "\\left[\\begin{array}{rr} 3 &  0 \\\\ -1 & 1 \\end{array}\\right]\n",
        "\\left[\\begin{array}{c}   v_1 \\\\ v_2 \\end{array} \\right]\n",
        "\\end{equation}\n",
        "$$\n",
        "  "
      ]
    },
    {
      "cell_type": "code",
      "execution_count": null,
      "metadata": {
        "id": "lZKRAEXpDrD9",
        "colab": {
          "base_uri": "https://localhost:8080/"
        },
        "outputId": "7c951d42-9da3-4f43-c64e-ed4ecd2e7823"
      },
      "outputs": [
        {
          "output_type": "stream",
          "name": "stdout",
          "text": [
            "Composition R∘S\n",
            "[[9]\n",
            " [6]]\n"
          ]
        }
      ],
      "source": [
        "def S(V):\n",
        "    v1, v2, v3 = V[0][0], V[1][0], V[2][0]\n",
        "    return np.array([[v1 + v2], [3*v3]])\n",
        "\n",
        "def R(V):\n",
        "    A = np.array([[3, 0], [-1, 1]])\n",
        "    return np.dot(A, V)\n",
        "\n",
        "def composition_RS(V):\n",
        "    return R(S(V))\n",
        "\n",
        "V = np.array([[1], [2], [3]])\n",
        "print(\"Composition R∘S\")\n",
        "print(composition_RS(V))"
      ]
    },
    {
      "cell_type": "markdown",
      "source": [
        "To implement the composition R∘S, we need to apply S first and then R to the result. For the composition S∘R to be valid, the output dimension of R must match the input dimension of S. If they do not match, then the composition is not possible.\n",
        "\n",
        "we can see that the output of R is a 2-dimensional vector, whereas the input expected by S is a 3-dimensional vector. Therefore, the composition S∘R is not possible due to the mismatch in dimensions."
      ],
      "metadata": {
        "id": "zIlqEQqK7GT2"
      }
    },
    {
      "cell_type": "markdown",
      "metadata": {
        "id": "dCMqUwy2DrD9"
      },
      "source": [
        "**Exercise 5:** Create a Python function which implements the transformation: $S:\\mathbb{R}^3\\to\\mathbb{R}^3$, given below. Use the function to provide evidence whether the transformation is **linear** or not.\n",
        "\n",
        "\n",
        "$$\n",
        "\\begin{equation}\n",
        "S \\left(\\left[\\begin{array}{r} v_1 \\\\ v_2 \\\\ v_3 \\end{array} \\right]\\right) =\n",
        "\\left[\\begin{array}{c} v_1 + v_2 \\\\  1 \\\\ v_3+v_1 \\end{array} \\right]\n",
        "\\end{equation}\n",
        "$$\n",
        "\n",
        "Repeat for the transformation $T:\\mathbb{R}^3\\to\\mathbb{R}^3$ is now defined by\n",
        "\n",
        "$$\n",
        "\\begin{equation}\n",
        "T \\left(\\left[\\begin{array}{r} v_1 \\\\ v_2 \\\\ v_3 \\end{array} \\right]\\right) =\n",
        "\\left[\\begin{array}{c} v_1 + v_2 \\\\  0 \\\\ v_3+v_1 \\end{array} \\right].\n",
        "\\end{equation}\n",
        "$$"
      ]
    },
    {
      "cell_type": "markdown",
      "source": [
        "To determine whether a transformation is linear or not, we need to check if it satisfies the properties of linearity. A transformation T:R3→R3T:R3→R3 is linear if it satisfies the following conditions:\n",
        "\n",
        "    Additivity: T(v+w)=T(v)+T(w)T(v+w)=T(v)+T(w)\n",
        "    Homogeneity: T(kv)=kT(v)T(kv)=kT(v)\n",
        "\n",
        "Let's implement these transformations in Python and test for linearity:"
      ],
      "metadata": {
        "id": "hH2BVq7D9iDS"
      }
    },
    {
      "cell_type": "code",
      "execution_count": null,
      "metadata": {
        "id": "18OmBoxHDrD9",
        "colab": {
          "base_uri": "https://localhost:8080/"
        },
        "outputId": "ef5f7ce3-702f-4f48-9839-a024cad06709"
      },
      "outputs": [
        {
          "output_type": "stream",
          "name": "stdout",
          "text": [
            "[[2]\n",
            " [1]\n",
            " [2]]\n",
            "[[2]\n",
            " [2]\n",
            " [2]]\n",
            "\n",
            "\n"
          ]
        }
      ],
      "source": [
        "import numpy as np\n",
        "def S(v):\n",
        "  return np.array([[v[0,0]+v[1,0]],[1],[v[2,0]+v[0,0]]])\n",
        "\n",
        "def linearity():\n",
        "    u = np.array([[1], [0], [1]])\n",
        "    v = np.array([[0], [1], [0]])\n",
        "    add = S(u + v)\n",
        "    result_individual = S(u) + S(v)\n",
        "    print(add)\n",
        "    print(result_individual)\n",
        "linearity()\n",
        "print(\"\\n\")"
      ]
    },
    {
      "cell_type": "markdown",
      "source": [
        "S is not linear because when adding two vectors, S does not return the sum of their transformations. For example,  S(u+v) is not equal  S(u)+S(v)  for vectors u and v."
      ],
      "metadata": {
        "id": "-OPgzUO3h5Qb"
      }
    },
    {
      "cell_type": "code",
      "source": [
        "def T(v):\n",
        "    return np.array([[v[0,0]+v[1,0]], [0], [v[2,0]+v[0,0]]])\n",
        "\n",
        "def linearity():\n",
        "    u = np.array([[1], [2], [3]])\n",
        "    v = np.array([[4], [5], [6]])\n",
        "    add = T(u + v)\n",
        "    result_individual = T(u) + T(v)\n",
        "    print(add)\n",
        "    print(result_individual)\n",
        "\n",
        "linearity()\n",
        "print(\"\\n\")"
      ],
      "metadata": {
        "colab": {
          "base_uri": "https://localhost:8080/"
        },
        "id": "gSZsnYT7gDHl",
        "outputId": "322eb155-2757-4df0-ce7c-6c93e9dd9f7e"
      },
      "execution_count": null,
      "outputs": [
        {
          "output_type": "stream",
          "name": "stdout",
          "text": [
            "[[12]\n",
            " [ 0]\n",
            " [14]]\n",
            "[[12]\n",
            " [ 0]\n",
            " [14]]\n",
            "\n",
            "\n"
          ]
        }
      ]
    },
    {
      "cell_type": "markdown",
      "source": [
        "When adding two vectors, T return the sum of their transformations.For example, $T(u+v)$ is equal to  $T(u) + T(v)$ for vectors u and v. Hence, this is a linear transformation."
      ],
      "metadata": {
        "id": "EK2Y9q9Dh7Ug"
      }
    },
    {
      "cell_type": "markdown",
      "source": [
        "These tests will provide evidence whether the transformations S and T are linear or not. If both the additivity and homogeneity tests pass (return True), then the transformations are linear. Otherwise, they are not linear."
      ],
      "metadata": {
        "id": "XL-ERCdB-NQw"
      }
    },
    {
      "cell_type": "markdown",
      "metadata": {
        "id": "sfShR_41DrD-"
      },
      "source": [
        "**Exercise 6:** $L:\\mathbb{R}^3\\to\\mathbb{R}^2$ is a **Linear Transformation** . Find $L(kU+V)$ given that $k=7$,\n",
        "\n",
        "$$\n",
        "\\begin{equation}\n",
        "L(U) = \\left[\\begin{array}{r} 1 \\\\ 1  \\end{array} \\right]\\hspace{1cm}\n",
        "L(V) = \\left[\\begin{array}{r} 3 \\\\ 1  \\end{array} \\right]\n",
        "\\end{equation}\n",
        "$$"
      ]
    },
    {
      "cell_type": "code",
      "execution_count": null,
      "metadata": {
        "id": "RcYxLj3nDrD-",
        "colab": {
          "base_uri": "https://localhost:8080/"
        },
        "outputId": "ee26155c-04f0-4257-b98e-3fc834097483"
      },
      "outputs": [
        {
          "output_type": "stream",
          "name": "stdout",
          "text": [
            "[[18]\n",
            " [10]]\n"
          ]
        }
      ],
      "source": [
        "U = np.array([[1],[1]])\n",
        "V = np.array([[3],[1]])\n",
        "k = 7\n",
        "\n",
        "def L(U):\n",
        "  A = np.array([[1,1],[1,0]])\n",
        "  W = A@U\n",
        "  return W\n",
        "\n",
        "def L(V):\n",
        "  A = np.array([[1,1],[1,0]])\n",
        "  W = A@V\n",
        "  return W\n",
        "\n",
        "print(L(k*U+V))"
      ]
    },
    {
      "cell_type": "markdown",
      "metadata": {
        "id": "vzUVrzkwDrD-"
      },
      "source": [
        "**Exercise 7:** Let $T:\\mathbb{R}^3 \\to \\mathbb{R}^2$ be defined by $T(X)= AX$, where\n",
        "\n",
        "$$\n",
        "\\begin{equation}\n",
        "A = \\left[\\begin{array}{rrr} 1 & 0 & 2 \\\\ 2 & 1 & 1  \\end{array}\\right].\n",
        "\\end{equation}\n",
        "$$\n",
        "\n",
        "Find all vectors $X$ that satisfy $T(X) = \\left[\\begin{array}{r} 1 \\\\ 2  \\end{array} \\right]\n",
        "$.\n"
      ]
    },
    {
      "cell_type": "code",
      "execution_count": null,
      "metadata": {
        "id": "D7HbiQfTDrD-",
        "colab": {
          "base_uri": "https://localhost:8080/"
        },
        "outputId": "fea0f064-c226-41a2-8d12-8916adc751f2"
      },
      "outputs": [
        {
          "output_type": "stream",
          "name": "stdout",
          "text": [
            "[[1]\n",
            " [3]\n",
            " [5]] \n",
            "\n",
            " [[11]\n",
            " [10]]\n"
          ]
        }
      ],
      "source": [
        "def T(X):\n",
        "    A = np.array([[1,0,2],[2,1,1]])\n",
        "    W = A@X\n",
        "    return W\n",
        "\n",
        "X = np.array([[1],[3],[5]])\n",
        "W = T(X)\n",
        "\n",
        "print(X,'\\n\\n',W)"
      ]
    },
    {
      "cell_type": "markdown",
      "metadata": {
        "id": "E54Z3_SPDrD_"
      },
      "source": [
        "**Exercise 8:** Let $M:\\mathbb{P}_1 \\to \\mathbb{P}_3$ be a transformation defined by $M(p(x)) = x^3 + p(x)$. Determine whether $M$ is linear or not."
      ]
    },
    {
      "cell_type": "code",
      "execution_count": null,
      "metadata": {
        "id": "bA9Y6Vu6DrD_",
        "colab": {
          "base_uri": "https://localhost:8080/"
        },
        "outputId": "35e6a18f-9b62-4c4c-ff39-cbfd1fb0eaf9"
      },
      "outputs": [
        {
          "output_type": "stream",
          "name": "stdout",
          "text": [
            "[21 28 56] \n",
            "\n",
            "[21 28 56] \n",
            "\n",
            "[ 4  6 12] \n",
            "\n",
            "[ 4  6 12] \n",
            "\n"
          ]
        }
      ],
      "source": [
        "def M(p) :\n",
        "    return np.array([p[0],p[1],p[2]+p[0]])\n",
        "\n",
        "U = np.array([1,2,3])\n",
        "V = np.array([3,4,5])\n",
        "k = 7\n",
        "\n",
        "print(M(k*V), '\\n' )\n",
        "print(k*M(V), '\\n')\n",
        "print(M(U+V), '\\n')\n",
        "print(M(U)+M(V), '\\n')"
      ]
    },
    {
      "cell_type": "markdown",
      "source": [
        "The M is linear as it equals to two properties."
      ],
      "metadata": {
        "id": "47ZDpwCuii5V"
      }
    },
    {
      "cell_type": "markdown",
      "metadata": {
        "id": "AnXz5LjLDrD_"
      },
      "source": [
        "**Exercise 9:** Let $S:\\mathbb{P}_2 \\to \\mathbb{P}_3$ and $T:\\mathbb{P}_3 \\to \\mathbb{P}_5$ be two **linear transformations** defined by the rules given below. Define the composition $T\\circ S$ and determine whether it is linear or not. Explain why $S\\circ T$ is not defined.\n",
        "\n",
        "$S(p(x)) = x(p(x))$\n",
        "\n",
        "$T(q(x)) = x^2(q(x))$\n",
        "\n",
        "where $p(x)$ is a polynomial in $\\mathbb{P}_2$ and $q(x)$ is a polynomial in $\\mathbb{P}_3$."
      ]
    },
    {
      "cell_type": "code",
      "execution_count": null,
      "metadata": {
        "id": "MCHLXI1iDrEA",
        "colab": {
          "base_uri": "https://localhost:8080/"
        },
        "outputId": "ee6c30f0-68d1-49d2-dbd2-6932d6afbe33"
      },
      "outputs": [
        {
          "output_type": "stream",
          "name": "stdout",
          "text": [
            "[0, 0, 0, 14, 21] \n",
            "\n",
            "[0, 0, 0, 2, 3, 0, 0, 0, 2, 3, 0, 0, 0, 2, 3, 0, 0, 0, 2, 3, 0, 0, 0, 2, 3, 0, 0, 0, 2, 3, 0, 0, 0, 2, 3] \n",
            "\n",
            "[0, 0, 0, 3, 5] \n",
            "\n",
            "[0, 0, 0, 1, 2, 0, 0, 0, 2, 3] \n",
            "\n"
          ]
        }
      ],
      "source": [
        "def S(px) :\n",
        "    return[0, px[0], px[1]]\n",
        "\n",
        "def T(qx):\n",
        "    return[0, 0, qx[0], qx[1], qx[2]]\n",
        "\n",
        "def composition(px):\n",
        "    S_px = S(px)\n",
        "    T_S = T(S_px)\n",
        "    return T_S\n",
        "\n",
        "U = np.array([1,2])\n",
        "V = np.array([2,3])\n",
        "k=7\n",
        "\n",
        "print (composition(k*V), '\\n')\n",
        "print (k*composition(V), '\\n')\n",
        "print (composition(U+V), '\\n' )\n",
        "print (composition(U) +composition(V), '\\n')"
      ]
    },
    {
      "cell_type": "markdown",
      "source": [
        "\n",
        "Regarding S∘T, it's not defined because the output of T is in P5​, but the input required for S is in P2​, and there's no clear way to convert a polynomial in P5​ into a polynomial in P2​. Therefore, the composition S∘T is not defined.\n",
        "\n",
        "The composition T∘S is not linear because it does not return the sum of their transformations. Whereas, S∘T  is not defined because the function composition_S_T expects a vector of length 2 as input, but the input provided after the transformation has a length of 5."
      ],
      "metadata": {
        "id": "gYYYkYPhDcTv"
      }
    }
  ],
  "metadata": {
    "kernelspec": {
      "display_name": "Python 3",
      "language": "python",
      "name": "python3"
    },
    "language_info": {
      "codemirror_mode": {
        "name": "ipython",
        "version": 3
      },
      "file_extension": ".py",
      "mimetype": "text/x-python",
      "name": "python",
      "nbconvert_exporter": "python",
      "pygments_lexer": "ipython3",
      "version": "3.7.3"
    },
    "colab": {
      "provenance": [],
      "include_colab_link": true
    }
  },
  "nbformat": 4,
  "nbformat_minor": 0
}